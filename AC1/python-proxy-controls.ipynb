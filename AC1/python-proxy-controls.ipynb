{
 "cells": [
  {
   "cell_type": "markdown",
   "metadata": {
    "id": "nWg8AX79c3SZ"
   },
   "source": [
    "# Negative (Proxy) Controls for Unobserved Confounding\n"
   ]
  },
  {
   "cell_type": "markdown",
   "metadata": {
    "id": "8TMUxMlF-QpJ"
   },
   "source": [
    "Consider the following SEM, where $Y$ is the outcome, $D$ is the treatment, $A$ is some unobserved confounding, and $Q$, $X$, $S$ are the observed covariates. In particular, $Q$ is considered to be the proxy control treatment as it a priori has no effect on the actual outcome $Y$, and $S$ is considered to be the proxy control outcome as it a priori is not affected by the actual treatment $D$. See also [An Introduction to Proximal Causal Learning](https://arxiv.org/pdf/2009.10982.pdf), for more information on this setting.\n",
    "\n",
    "![proxy_dag.png](https://raw.githubusercontent.com/stanford-msande228/winter23/main/proxy_dag.png)"
   ]
  },
  {
   "cell_type": "markdown",
   "metadata": {
    "id": "lAEWlzrqkH-T"
   },
   "source": [
    "Under linearity assumptions, the average treatment effect can be estimated by solving the vector of moment equations:\n",
    "\\begin{align}\n",
    "E\\left[(\\tilde{Y} - \\alpha \\tilde{D} - \\delta \\tilde{S}) \\left(\\begin{aligned}\\tilde{D}\\\\ \\tilde{Q}\\end{aligned}\\right) \\right] = 0\n",
    "\\end{align}\n",
    "where for every variable $V$ we denote with $\\tilde{V} = V - E[V|X]$.\n",
    "\n",
    "When the dimension of the proxy treatment variables $Q$ is larger than the dimension of proxy outcome variables $S$, then the above system of equations is over-identified. In these settings, we first project the \"technical instrument\" variables $\\tilde{V}=(\\tilde{D}, \\tilde{Q})$ onto the space of \"technical treatment\" variables $\\tilde{W}=(\\tilde{D}, \\tilde{S})$ and use the projected $\\tilde{V}$ as a new \"technical instrument\". In particular, we run an OLS regression of $\\tilde{W}$ on $\\tilde{V},$ and define $\\tilde{Z} = E[\\tilde{W}\\mid \\tilde{V}] = B \\tilde{V}$, where the $t$-th row $\\beta_t$ of the matrix $B$ is the OLS coefficient in the regression of $\\tilde{W}_t$ on $\\tilde{V}$. These new variables $\\tilde{Z}$, can also be viewed as engineered technical instrumental variables. Then we have the exactly identified system of equations:\n",
    "\\begin{align}\n",
    "E\\left[(\\tilde{Y} - \\alpha \\tilde{D} - \\delta \\tilde{S}) \\tilde{Z} \\right] := E\\left[(\\tilde{Y} - \\alpha \\tilde{D} - \\delta \\tilde{S}) B \\left(\\begin{aligned}\\tilde{D}\\\\ \\tilde{Q}\\end{aligned}\\right) \\right] = 0\n",
    "\\end{align}\n",
    "\n",
    "The solution to this system of equations is numerically equivalent to the following two stage algorithm:\n",
    "- Run OLS of $\\tilde{W}=(\\tilde{D}, \\tilde{S})$ on $\\tilde{V}=(\\tilde{D}, \\tilde{Q})$\n",
    "- Define $\\tilde{Z}$ as the predictions of the OLS model\n",
    "- Run OLS of $\\tilde{Y}$ on $\\tilde{Z}$.\n",
    "This is the well-known Two-Stage-Least-Squares (2SLS) algorithm for instrumental variable regression."
   ]
  },
  {
   "cell_type": "code",
   "metadata": {
    "id": "gIw0pCdbGCVe",
    "ExecuteTime": {
     "end_time": "2025-02-06T07:15:25.896527Z",
     "start_time": "2025-02-06T07:15:25.889652Z"
    }
   },
   "source": [
    "# Import relevant packages\n",
    "import pandas as pd\n",
    "import numpy as np\n",
    "from sklearn.model_selection import cross_val_predict, KFold\n",
    "from sklearn.pipeline import make_pipeline\n",
    "from sklearn.linear_model import LassoCV, LinearRegression\n",
    "from sklearn.preprocessing import StandardScaler\n",
    "import patsy\n",
    "import warnings\n",
    "from sklearn.multioutput import MultiOutputRegressor\n",
    "warnings.simplefilter('ignore')\n",
    "np.random.seed(1234)"
   ],
   "outputs": [],
   "execution_count": 4
  },
  {
   "cell_type": "markdown",
   "metadata": {
    "id": "cCfAVHdkIJ4w"
   },
   "source": [
    "# Analyzing Simulated Data\n",
    "\n",
    "First, let's evaluate the methods on simulated data generated from a linear SEM characterized by the above DAG. For this simulation, we'll set the ATE to 2."
   ]
  },
  {
   "cell_type": "code",
   "metadata": {
    "id": "ATTykpRFAQPC",
    "ExecuteTime": {
     "end_time": "2025-02-06T07:15:25.925253Z",
     "start_time": "2025-02-06T07:15:25.922189Z"
    }
   },
   "source": [
    "# generate data from the SCM\n",
    "import numpy as np\n",
    "\n",
    "\n",
    "def gen_data(n, ate):\n",
    "    X = np.random.normal(0, 1, size=(n, 10))\n",
    "    A = 2 * X[:, [0]] + np.random.normal(0, 1, size=(n, 1))\n",
    "    Q = 10 * A + 2 * X[:, [0]] + np.random.normal(0, 1, size=(n, 1))\n",
    "    S = 5 * A + X[:, [0]] + np.random.normal(0, 1, size=(n, 1))\n",
    "    D = Q - A + 2 * X[:, [0]] + np.random.normal(0, 1, size=(n, 1))\n",
    "    Y = ate * D + 5 * A + 2 * S + 0.5 * X[:, [0]] + np.random.normal(0, 1, size=(n, 1))\n",
    "    return [X, A, Q, S, D, Y.flatten()]"
   ],
   "outputs": [],
   "execution_count": 5
  },
  {
   "cell_type": "code",
   "metadata": {
    "id": "YQa7gj3NB-uY",
    "ExecuteTime": {
     "end_time": "2025-02-06T07:15:25.938675Z",
     "start_time": "2025-02-06T07:15:25.935197Z"
    }
   },
   "source": [
    "X, A, Q, S, D, y = gen_data(5000, 2)"
   ],
   "outputs": [],
   "execution_count": 6
  },
  {
   "cell_type": "markdown",
   "metadata": {
    "id": "HTX374msGCVg"
   },
   "source": [
    "We define the technical instrument $V=(D, Q)$ and technical treatment $W=(D, S)$. Estimating the treatement effect is then just a matter of solving an instrument variable regression problem with instruments $V$ and treatments $W$ and looking at the first coefficient associated with $D$."
   ]
  },
  {
   "cell_type": "code",
   "metadata": {
    "id": "7Kc2jGXBGCVh",
    "ExecuteTime": {
     "end_time": "2025-02-06T07:15:25.950646Z",
     "start_time": "2025-02-06T07:15:25.948543Z"
    }
   },
   "source": [
    "V = np.hstack([D, Q])  # technical instruments 5000, 2\n",
    "W = np.hstack([D, S])  # technical treatments 5000, 2"
   ],
   "outputs": [],
   "execution_count": 7
  },
  {
   "cell_type": "markdown",
   "metadata": {
    "id": "cDBfCHOdGCVh"
   },
   "source": [
    "### Partialling-Out X"
   ]
  },
  {
   "cell_type": "markdown",
   "metadata": {
    "id": "6XXRiDm4uePI"
   },
   "source": [
    "Here, we're partialling out using cross-validated lasso. Given that the setting is relatively low-dimensional and we know things are linear, we could just use OLS. Since we are cross-validating, we should also in principle be using cross-fitting and DML. We'll explore that in subsequent code blocks."
   ]
  },
  {
   "cell_type": "code",
   "metadata": {
    "id": "Q5gbLM1cGCVi",
    "ExecuteTime": {
     "end_time": "2025-02-06T07:15:25.966442Z",
     "start_time": "2025-02-06T07:15:25.964490Z"
    }
   },
   "source": [
    "modely = make_pipeline(StandardScaler(), LassoCV())\n",
    "modelw = make_pipeline(StandardScaler(), LassoCV())\n",
    "modelv = make_pipeline(StandardScaler(), LassoCV())"
   ],
   "outputs": [],
   "execution_count": 8
  },
  {
   "cell_type": "code",
   "metadata": {
    "id": "koTICN8tGCVi",
    "ExecuteTime": {
     "end_time": "2025-02-06T07:15:26.109131Z",
     "start_time": "2025-02-06T07:15:25.981819Z"
    }
   },
   "source": [
    "resy = y - modely.fit(X, y).predict(X)\n",
    "resV = V - MultiOutputRegressor(modelv).fit(X, V).predict(X)  # residual instrument\n",
    "resW = W - MultiOutputRegressor(modelw).fit(X, W).predict(X)  # residual treatment"
   ],
   "outputs": [],
   "execution_count": 9
  },
  {
   "cell_type": "markdown",
   "metadata": {
    "id": "t_6Pp6wlGCVi"
   },
   "source": [
    "### Approach 1: Solving the Moment Equation\n",
    "\n",
    "In this case since $V$ and $W$ have the same dimension, we can just solve the moment equation:\n",
    "\\begin{align}\n",
    "E\\left[(\\tilde{Y} - \\theta'\\tilde{W}) \\tilde{V} \\right] = 0\n",
    "\\end{align}"
   ]
  },
  {
   "cell_type": "code",
   "metadata": {
    "id": "zYqYnbNnGCVi",
    "outputId": "71a8ba81-082b-4e5d-8213-87640872cfc1",
    "colab": {
     "base_uri": "https://localhost:8080/"
    },
    "ExecuteTime": {
     "end_time": "2025-02-06T07:15:26.133016Z",
     "start_time": "2025-02-06T07:15:26.128292Z"
    }
   },
   "source": [
    "n = resV.shape[0]\n",
    "J = (resV.T @ resW) / n\n",
    "alpha = (resV.T @ resy) / n\n",
    "point = np.linalg.inv(J) @ alpha\n",
    "point[0]"
   ],
   "outputs": [
    {
     "data": {
      "text/plain": [
       "np.float64(2.00771787816916)"
      ]
     },
     "execution_count": 10,
     "metadata": {},
     "output_type": "execute_result"
    }
   ],
   "execution_count": 10
  },
  {
   "cell_type": "markdown",
   "metadata": {
    "id": "pRcfHVPau1V1"
   },
   "source": [
    "Let's compute a standard error"
   ]
  },
  {
   "cell_type": "code",
   "metadata": {
    "id": "Iba9-9bxuzuO",
    "outputId": "e4790fd5-11ef-474a-80b8-60ed7fc599ec",
    "colab": {
     "base_uri": "https://localhost:8080/"
    },
    "ExecuteTime": {
     "end_time": "2025-02-06T07:15:26.155003Z",
     "start_time": "2025-02-06T07:15:26.151212Z"
    }
   },
   "source": [
    "epsilon = resy - resW @ point\n",
    "epsilon.shape = (n, 1)\n",
    "ZtX = np.transpose(resV) @ resW\n",
    "epstmp = (epsilon**2) @ np.ones((1, resV.shape[1]))\n",
    "Zeps = resV * epstmp\n",
    "V = np.linalg.inv(ZtX) @ (np.transpose(Zeps) @ resV) @ np.linalg.inv(np.transpose(ZtX))\n",
    "se = np.sqrt(V[0, 0])\n",
    "se"
   ],
   "outputs": [
    {
     "data": {
      "text/plain": [
       "np.float64(0.019084533530250112)"
      ]
     },
     "execution_count": 11,
     "metadata": {},
     "output_type": "execute_result"
    }
   ],
   "execution_count": 11
  },
  {
   "cell_type": "markdown",
   "metadata": {
    "id": "klRLTQuwGCVi"
   },
   "source": [
    "### Approach 2: Projecting the Instrument on the Treatment\n",
    "\n",
    "Alternatively, we could have constructed a technical instrument by calculating regression $W$ on $V$ with OLS and using $Z=E[W|V]$ as the new instrument."
   ]
  },
  {
   "cell_type": "code",
   "metadata": {
    "id": "0DX6DdhgGCVi",
    "ExecuteTime": {
     "end_time": "2025-02-06T07:15:26.192297Z",
     "start_time": "2025-02-06T07:15:26.177754Z"
    }
   },
   "source": [
    "resZ = LinearRegression(fit_intercept=False).fit(resV, resW).predict(resV)"
   ],
   "outputs": [],
   "execution_count": 12
  },
  {
   "cell_type": "code",
   "metadata": {
    "id": "vb_li392GCVj",
    "outputId": "6daab153-bc42-4ae2-ff37-645ad913d9ec",
    "colab": {
     "base_uri": "https://localhost:8080/"
    },
    "ExecuteTime": {
     "end_time": "2025-02-06T07:15:26.217591Z",
     "start_time": "2025-02-06T07:15:26.214459Z"
    }
   },
   "source": [
    "J = (resZ.T @ resW) / n\n",
    "alpha = (resZ.T @ resy) / n\n",
    "point = np.linalg.inv(J) @ alpha\n",
    "point[0]"
   ],
   "outputs": [
    {
     "data": {
      "text/plain": [
       "np.float64(2.0077178781693306)"
      ]
     },
     "execution_count": 13,
     "metadata": {},
     "output_type": "execute_result"
    }
   ],
   "execution_count": 13
  },
  {
   "cell_type": "markdown",
   "metadata": {
    "id": "B1mxf76rGCVj"
   },
   "source": [
    "In this case we see that because we started with an \"exactly\" identified system, this projection step doesn't change the result. This is provably always the case."
   ]
  },
  {
   "cell_type": "markdown",
   "metadata": {
    "id": "5byhiYtK1YUv"
   },
   "source": [
    "We'll also get the same standard error."
   ]
  },
  {
   "cell_type": "code",
   "metadata": {
    "id": "Ve9gW4MJ1bZ0",
    "outputId": "56906283-1c6f-4699-ad1c-4e508ded0bb4",
    "colab": {
     "base_uri": "https://localhost:8080/"
    },
    "ExecuteTime": {
     "end_time": "2025-02-06T07:15:26.248346Z",
     "start_time": "2025-02-06T07:15:26.240771Z"
    }
   },
   "source": [
    "epsilon = resy - resW @ point\n",
    "epsilon.shape = (n, 1)\n",
    "ZtX = np.transpose(resZ) @ resW\n",
    "epstmp = (epsilon**2) @ np.ones((1, resZ.shape[1]))\n",
    "Zeps = resZ * epstmp\n",
    "V = np.linalg.inv(ZtX) @ (np.transpose(Zeps) @ resZ) @ np.linalg.inv(np.transpose(ZtX))\n",
    "se = np.sqrt(V[0, 0])\n",
    "se"
   ],
   "outputs": [
    {
     "data": {
      "text/plain": [
       "np.float64(0.019084533530243312)"
      ]
     },
     "execution_count": 14,
     "metadata": {},
     "output_type": "execute_result"
    }
   ],
   "execution_count": 14
  },
  {
   "cell_type": "markdown",
   "metadata": {
    "id": "JaD28NkGGCVj"
   },
   "source": [
    "### Approach 3:  2SLS\n",
    "\n",
    "We can take one step further and use the two stage least squares approach, were we run OLS of $\\tilde{Z}$ on $\\tilde{y}$."
   ]
  },
  {
   "cell_type": "code",
   "metadata": {
    "id": "3ZITM23jGCVj",
    "outputId": "774cf6ce-fc6e-4f85-f607-ea1163bfdcb5",
    "colab": {
     "base_uri": "https://localhost:8080/"
    },
    "ExecuteTime": {
     "end_time": "2025-02-06T07:15:26.288256Z",
     "start_time": "2025-02-06T07:15:26.284592Z"
    }
   },
   "source": [
    "LinearRegression(fit_intercept=False).fit(resZ, resy).coef_[0]"
   ],
   "outputs": [
    {
     "data": {
      "text/plain": [
       "np.float64(2.0077178781689966)"
      ]
     },
     "execution_count": 15,
     "metadata": {},
     "output_type": "execute_result"
    }
   ],
   "execution_count": 15
  },
  {
   "cell_type": "markdown",
   "metadata": {
    "id": "-u7fID2KGCVj"
   },
   "source": [
    "We see that again this doesn't change the result, since 2SLS is equivalent to solving the moment condition in Approach 2.\n",
    "\n",
    "Note that the standard errors that come out of OLS here are incorrect. We would need to calculate them from the original moment condition as done in the previous code blocks."
   ]
  },
  {
   "cell_type": "markdown",
   "metadata": {
    "id": "jgG5SDhUGCVj"
   },
   "source": [
    "# With Cross-Fitting"
   ]
  },
  {
   "cell_type": "code",
   "metadata": {
    "id": "L2HIw7NHGCVj",
    "ExecuteTime": {
     "end_time": "2025-02-06T07:15:26.314614Z",
     "start_time": "2025-02-06T07:15:26.310619Z"
    }
   },
   "source": [
    "def proxydml(X, Q, S, D, y, modely, modelw, modelv, *, nfolds):\n",
    "    '''\n",
    "    DML for the Partially Linear Model setting with cross-fitting\n",
    "\n",
    "    Input\n",
    "    -----\n",
    "    X: the controls\n",
    "    Q: the treatment proxy\n",
    "    S: the outcome proxy\n",
    "    D: the treatment\n",
    "    y: the outcome\n",
    "    modely: the ML model for predicting the outcome y\n",
    "    modelw: the ML model for predicting the technical treatments W=(D, S) from X\n",
    "    modelv: the ML model for predicting the technical instruments V=(D, Q) from X\n",
    "    nfolds: the number of folds in cross-fitting\n",
    "\n",
    "    Output\n",
    "    ------\n",
    "    point: the point estimate of the treatment effect of D on y\n",
    "    yhat: the cross-fitted predictions for the outcome y\n",
    "    What: the cross-fitted predictions for the technical treatments W\n",
    "    Vhat: the cross-fitted predictions for the technical instruments V\n",
    "    resy: the outcome residuals\n",
    "    resW: the treatment residuals\n",
    "    resV: the instrument residuals\n",
    "    '''\n",
    "    W = np.hstack([D, S])  # technical treatments\n",
    "    V = np.hstack([D, Q])  # technical instruments\n",
    "\n",
    "    cv = KFold(n_splits=nfolds, shuffle=True, random_state=123)  # shuffled k-folds\n",
    "    yhat = cross_val_predict(modely, X, y, cv=cv, n_jobs=-1)  # out-of-fold predictions for y\n",
    "    What = cross_val_predict(MultiOutputRegressor(modelw), X, W, cv=cv, n_jobs=-1)\n",
    "    Vhat = cross_val_predict(MultiOutputRegressor(modelv), X, V, cv=cv, n_jobs=-1)\n",
    "\n",
    "    # calculate outcome and treatment residuals\n",
    "    resy = y - yhat\n",
    "    resW = W - What\n",
    "    resV = V - Vhat\n",
    "\n",
    "    # project the residual instruments on the residual treatments\n",
    "    resZ = LinearRegression(fit_intercept=False).fit(resV, resW).predict(resV)\n",
    "\n",
    "    # final stage point estimate and standard error\n",
    "    n = resW.shape[0]\n",
    "    J = (resZ.T @ resW) / n\n",
    "    Jinv = np.linalg.inv(J)\n",
    "    alpha = (resZ.T @ resy) / n\n",
    "    params = Jinv @ alpha\n",
    "    point = params[0]\n",
    "\n",
    "    epsilon = resy - resW @ params\n",
    "    Sigma = (resZ * epsilon.reshape(-1, 1)**2).T @ resZ / n\n",
    "    V = Jinv @ Sigma @ np.transpose(Jinv)\n",
    "    stderr = np.sqrt(V[0, 0] / n)\n",
    "\n",
    "    return point, stderr, yhat, What, Vhat, resy, resW, resV"
   ],
   "outputs": [],
   "execution_count": 16
  },
  {
   "cell_type": "code",
   "metadata": {
    "id": "w9rT2wx4GCVk",
    "ExecuteTime": {
     "end_time": "2025-02-06T07:15:26.357799Z",
     "start_time": "2025-02-06T07:15:26.354250Z"
    }
   },
   "source": [
    "def summary(point, stderr, yhat, What, Vhat, resy, resW, resV, X, Q, S, D, y, *, name):\n",
    "    '''\n",
    "    Convenience summary function that takes the results of the DML function\n",
    "    and summarizes several estimation quantities and performance metrics.\n",
    "    '''\n",
    "    lower = point - 1.96 * stderr if stderr is not None else None\n",
    "    upper = point + 1.96 * stderr if stderr is not None else None\n",
    "    W = np.hstack([D, S])\n",
    "    V = np.hstack([D, Q])\n",
    "    return pd.DataFrame({'estimate': point,  # point estimate\n",
    "                         'stderr': stderr,  # standard error\n",
    "                         'lower': lower,  # lower end of 95% confidence interval\n",
    "                         'upper': upper,  # upper end of 95% confidence interval\n",
    "                         'rmse y': np.sqrt(np.mean(resy**2)),  # RMSE of model that predicts outcome y\n",
    "                         'r2 y': 1 - np.mean(resy**2) / np.var(y),\n",
    "                         'rmse W': np.sqrt(np.mean(resW**2)),  # RMSE of model that predicts treatments W\n",
    "                         'avg. r2 W': np.mean(1 - np.mean(resW**2, axis=0) / np.var(W, axis=0)),\n",
    "                         'rmse V': np.sqrt(np.mean(resV**2)),  # RMSE of model that predicts treatments V\n",
    "                         'avg. r2 V': np.mean(1 - np.mean(resV**2, axis=0) / np.var(V, axis=0)),\n",
    "                         }, index=[name])"
   ],
   "outputs": [],
   "execution_count": 17
  },
  {
   "cell_type": "code",
   "metadata": {
    "id": "90sA4huMGCVk",
    "ExecuteTime": {
     "end_time": "2025-02-06T07:15:26.372221Z",
     "start_time": "2025-02-06T07:15:26.361723Z"
    }
   },
   "source": [
    "X, A, Q, S, D, y = gen_data(5000, 2)"
   ],
   "outputs": [],
   "execution_count": 18
  },
  {
   "cell_type": "code",
   "metadata": {
    "id": "9r0XMo_WGCVk",
    "ExecuteTime": {
     "end_time": "2025-02-06T07:15:31.449840Z",
     "start_time": "2025-02-06T07:15:26.394090Z"
    }
   },
   "source": [
    "cv = KFold(n_splits=5, shuffle=True, random_state=123)\n",
    "modely = make_pipeline(StandardScaler(), LassoCV(cv=cv))\n",
    "modelw = make_pipeline(StandardScaler(), LassoCV(cv=cv))\n",
    "modelv = make_pipeline(StandardScaler(), LassoCV(cv=cv))\n",
    "res = proxydml(X, Q, S, D, y, modely, modelw, modelv, nfolds=3)"
   ],
   "outputs": [],
   "execution_count": 19
  },
  {
   "cell_type": "code",
   "metadata": {
    "id": "kwvZStUKGCVk",
    "outputId": "fd64f958-9a93-43f1-8efb-eb86c42e5367",
    "colab": {
     "base_uri": "https://localhost:8080/",
     "height": 81
    },
    "ExecuteTime": {
     "end_time": "2025-02-06T07:15:31.571305Z",
     "start_time": "2025-02-06T07:15:31.541003Z"
    }
   },
   "source": [
    "summary(*res, X, Q, S, D, y, name='lassocv')"
   ],
   "outputs": [
    {
     "data": {
      "text/plain": [
       "         estimate    stderr     lower    upper     rmse y      r2 y    rmse W  \\\n",
       "lassocv  2.008399  0.018817  1.971518  2.04528  33.870615  0.835667  7.532438   \n",
       "\n",
       "         avg. r2 W   rmse V  avg. r2 V  \n",
       "lassocv    0.83261  9.79693   0.834323  "
      ],
      "text/html": [
       "<div>\n",
       "<style scoped>\n",
       "    .dataframe tbody tr th:only-of-type {\n",
       "        vertical-align: middle;\n",
       "    }\n",
       "\n",
       "    .dataframe tbody tr th {\n",
       "        vertical-align: top;\n",
       "    }\n",
       "\n",
       "    .dataframe thead th {\n",
       "        text-align: right;\n",
       "    }\n",
       "</style>\n",
       "<table border=\"1\" class=\"dataframe\">\n",
       "  <thead>\n",
       "    <tr style=\"text-align: right;\">\n",
       "      <th></th>\n",
       "      <th>estimate</th>\n",
       "      <th>stderr</th>\n",
       "      <th>lower</th>\n",
       "      <th>upper</th>\n",
       "      <th>rmse y</th>\n",
       "      <th>r2 y</th>\n",
       "      <th>rmse W</th>\n",
       "      <th>avg. r2 W</th>\n",
       "      <th>rmse V</th>\n",
       "      <th>avg. r2 V</th>\n",
       "    </tr>\n",
       "  </thead>\n",
       "  <tbody>\n",
       "    <tr>\n",
       "      <th>lassocv</th>\n",
       "      <td>2.008399</td>\n",
       "      <td>0.018817</td>\n",
       "      <td>1.971518</td>\n",
       "      <td>2.04528</td>\n",
       "      <td>33.870615</td>\n",
       "      <td>0.835667</td>\n",
       "      <td>7.532438</td>\n",
       "      <td>0.83261</td>\n",
       "      <td>9.79693</td>\n",
       "      <td>0.834323</td>\n",
       "    </tr>\n",
       "  </tbody>\n",
       "</table>\n",
       "</div>"
      ]
     },
     "execution_count": 20,
     "metadata": {},
     "output_type": "execute_result"
    }
   ],
   "execution_count": 20
  },
  {
   "cell_type": "code",
   "metadata": {
    "id": "YJ2QbI4-GCVk",
    "outputId": "d0ced9fb-70ce-4c21-b44b-f1a1889d760b",
    "colab": {
     "base_uri": "https://localhost:8080/"
    },
    "ExecuteTime": {
     "end_time": "2025-02-06T07:15:41.368767Z",
     "start_time": "2025-02-06T07:15:31.615475Z"
    }
   },
   "source": [
    "from joblib import Parallel, delayed\n",
    "\n",
    "\n",
    "def exp(it):\n",
    "    np.random.seed(it)\n",
    "    X, A, Q, S, D, y = gen_data(5000, 2)\n",
    "    cv = KFold(n_splits=5, shuffle=True, random_state=it)\n",
    "    lassoy = make_pipeline(StandardScaler(), LassoCV(cv=cv))\n",
    "    lassow = make_pipeline(StandardScaler(), LassoCV(cv=cv))\n",
    "    lassov = make_pipeline(StandardScaler(), LassoCV(cv=cv))\n",
    "    res = proxydml(X, Q, S, D, y, lassoy, lassow, lassov, nfolds=3)\n",
    "    point = res[0]\n",
    "    stderr = 0 if res[1] is None else res[1]  # this will be fixed once stderr is implemented!\n",
    "    return point, point - 1.96 * stderr, point + 1.96 * stderr\n",
    "\n",
    "\n",
    "results = Parallel(n_jobs=-1, verbose=3)(delayed(exp)(it) for it in range(100))"
   ],
   "outputs": [
    {
     "name": "stderr",
     "output_type": "stream",
     "text": [
      "[Parallel(n_jobs=-1)]: Using backend LokyBackend with 10 concurrent workers.\n",
      "[Parallel(n_jobs=-1)]: Done  12 tasks      | elapsed:    2.5s\n",
      "[Parallel(n_jobs=-1)]: Done 100 out of 100 | elapsed:    9.7s finished\n"
     ]
    }
   ],
   "execution_count": 21
  },
  {
   "cell_type": "code",
   "metadata": {
    "id": "Xq8E10lGGCVk",
    "ExecuteTime": {
     "end_time": "2025-02-06T07:15:41.411639Z",
     "start_time": "2025-02-06T07:15:41.409306Z"
    }
   },
   "source": [
    "points, lowers, uppers = zip(*results)"
   ],
   "outputs": [],
   "execution_count": 22
  },
  {
   "cell_type": "code",
   "metadata": {
    "id": "wTBkvJkvGCVk",
    "outputId": "e3c877d3-4a21-4449-b51c-b6284376e588",
    "colab": {
     "base_uri": "https://localhost:8080/"
    },
    "ExecuteTime": {
     "end_time": "2025-02-06T07:15:41.423660Z",
     "start_time": "2025-02-06T07:15:41.420752Z"
    }
   },
   "source": [
    "coverage = np.mean((np.array(lowers) <= 2) & (2 <= np.array(uppers)))\n",
    "coverage"
   ],
   "outputs": [
    {
     "data": {
      "text/plain": [
       "np.float64(0.92)"
      ]
     },
     "execution_count": 23,
     "metadata": {},
     "output_type": "execute_result"
    }
   ],
   "execution_count": 23
  },
  {
   "cell_type": "code",
   "metadata": {
    "id": "PNcRBZORGCVk",
    "outputId": "f268dede-6d74-4d6b-e50f-dd4aee40cd88",
    "colab": {
     "base_uri": "https://localhost:8080/"
    },
    "ExecuteTime": {
     "end_time": "2025-02-06T07:15:41.625265Z",
     "start_time": "2025-02-06T07:15:41.622169Z"
    }
   },
   "source": [
    "np.std(points)"
   ],
   "outputs": [
    {
     "data": {
      "text/plain": [
       "np.float64(0.023008098098235345)"
      ]
     },
     "execution_count": 24,
     "metadata": {},
     "output_type": "execute_result"
    }
   ],
   "execution_count": 24
  },
  {
   "cell_type": "code",
   "metadata": {
    "id": "-XRJ06vKGCVl",
    "outputId": "9a069c54-cb1f-4b5a-d318-eeecc8817fcf",
    "colab": {
     "base_uri": "https://localhost:8080/"
    },
    "ExecuteTime": {
     "end_time": "2025-02-06T07:15:41.913237Z",
     "start_time": "2025-02-06T07:15:41.910414Z"
    }
   },
   "source": [
    "np.mean(points)"
   ],
   "outputs": [
    {
     "data": {
      "text/plain": [
       "np.float64(2.0018150145735127)"
      ]
     },
     "execution_count": 25,
     "metadata": {},
     "output_type": "execute_result"
    }
   ],
   "execution_count": 25
  },
  {
   "cell_type": "markdown",
   "metadata": {
    "id": "lGrVzQVlI2IH"
   },
   "source": [
    "## Real Data - Effects of Smoking on Birth Weight"
   ]
  },
  {
   "cell_type": "markdown",
   "metadata": {
    "id": "BS0NRRjy6lPq"
   },
   "source": [
    "In this study, we will be studying the effects of smoking on baby weight. We will consider the following stylized setup:\n",
    "\n",
    "Outcome ($Y$): baby weight\n",
    "\n",
    "Treatment ($D$): smoking\n",
    "\n",
    "Unobserved confounding ($A$): family income\n",
    "\n",
    "The observed covariates are put in to 3 groups:\n",
    "\n",
    "\n",
    "*   Proxy treatment control ($Q$): mother's education\n",
    "*   Proxy outcome control ($S$): parity (total number of previous pregnancies)\n",
    "*   Other observed covariates ($X$): mother's race and age\n",
    "\n",
    "\n",
    "Education serves as a proxy treatment control $Q$ because it reflects unobserved confounding due to household income $A$ but has no direct medical effect on birth weight $Y$. Parity serves as a proxy outcome control $S$ because family size reflects household income $A$ but is not directly caused by smoking $D$ or education $Q$.\n",
    "\n",
    "A description of the data used can be found [here](https://www.stat.berkeley.edu/users/statlabs/data/babies.readme)."
   ]
  },
  {
   "cell_type": "code",
   "metadata": {
    "id": "165kCbYoY35y",
    "outputId": "cb6b25fe-bc2f-4058-c165-c3bb616af2ab",
    "colab": {
     "base_uri": "https://localhost:8080/",
     "height": 424
    },
    "ExecuteTime": {
     "end_time": "2025-02-06T07:15:42.585461Z",
     "start_time": "2025-02-06T07:15:41.994657Z"
    }
   },
   "source": [
    "data = pd.read_csv('https://www.stat.berkeley.edu/users/statlabs/data/babies23.data', sep='\\\\s+')\n",
    "data"
   ],
   "outputs": [
    {
     "data": {
      "text/plain": [
       "        id  pluralty  outcome  date  gestation  sex   wt  parity  race  age  \\\n",
       "0       15         5        1  1411        284    1  120       1     8   27   \n",
       "1       20         5        1  1499        282    1  113       2     0   33   \n",
       "2       58         5        1  1576        279    1  128       1     0   28   \n",
       "3       61         5        1  1504        999    1  123       2     0   36   \n",
       "4       72         5        1  1425        282    1  108       1     0   23   \n",
       "...    ...       ...      ...   ...        ...  ...  ...     ...   ...  ...   \n",
       "1231  9153         5        1  1672        275    1  113       0     0   27   \n",
       "1232  9163         5        1  1712        265    1  128       1     0   24   \n",
       "1233  9213         5        1  1672        291    1  130       4     1   30   \n",
       "1234  9229         5        1  1680        281    1  125       0     0   21   \n",
       "1235  9263         5        1  1668        297    1  117       4     0   38   \n",
       "\n",
       "      ...  drace  dage  ded  dht  dwt  marital  inc  smoke  time  number  \n",
       "0     ...      8    31    5   65  110        1    1      0     0       0  \n",
       "1     ...      0    38    5   70  148        1    4      0     0       0  \n",
       "2     ...      5    32    1   99  999        1    2      1     1       1  \n",
       "3     ...      3    43    4   68  197        1    8      3     5       5  \n",
       "4     ...      0    24    5   99  999        1    1      1     1       5  \n",
       "...   ...    ...   ...  ...  ...  ...      ...  ...    ...   ...     ...  \n",
       "1231  ...      0    32    4   72  190        1    4      0     0       0  \n",
       "1232  ...      0    24    5   73  170        1    3      0     0       0  \n",
       "1233  ...      2    30    5   70  180        1    3      1     1       2  \n",
       "1234  ...      0    27    5   71  165        1    1      0     0       0  \n",
       "1235  ...      4    34    1   68  172        1    6      0     0       0  \n",
       "\n",
       "[1236 rows x 23 columns]"
      ],
      "text/html": [
       "<div>\n",
       "<style scoped>\n",
       "    .dataframe tbody tr th:only-of-type {\n",
       "        vertical-align: middle;\n",
       "    }\n",
       "\n",
       "    .dataframe tbody tr th {\n",
       "        vertical-align: top;\n",
       "    }\n",
       "\n",
       "    .dataframe thead th {\n",
       "        text-align: right;\n",
       "    }\n",
       "</style>\n",
       "<table border=\"1\" class=\"dataframe\">\n",
       "  <thead>\n",
       "    <tr style=\"text-align: right;\">\n",
       "      <th></th>\n",
       "      <th>id</th>\n",
       "      <th>pluralty</th>\n",
       "      <th>outcome</th>\n",
       "      <th>date</th>\n",
       "      <th>gestation</th>\n",
       "      <th>sex</th>\n",
       "      <th>wt</th>\n",
       "      <th>parity</th>\n",
       "      <th>race</th>\n",
       "      <th>age</th>\n",
       "      <th>...</th>\n",
       "      <th>drace</th>\n",
       "      <th>dage</th>\n",
       "      <th>ded</th>\n",
       "      <th>dht</th>\n",
       "      <th>dwt</th>\n",
       "      <th>marital</th>\n",
       "      <th>inc</th>\n",
       "      <th>smoke</th>\n",
       "      <th>time</th>\n",
       "      <th>number</th>\n",
       "    </tr>\n",
       "  </thead>\n",
       "  <tbody>\n",
       "    <tr>\n",
       "      <th>0</th>\n",
       "      <td>15</td>\n",
       "      <td>5</td>\n",
       "      <td>1</td>\n",
       "      <td>1411</td>\n",
       "      <td>284</td>\n",
       "      <td>1</td>\n",
       "      <td>120</td>\n",
       "      <td>1</td>\n",
       "      <td>8</td>\n",
       "      <td>27</td>\n",
       "      <td>...</td>\n",
       "      <td>8</td>\n",
       "      <td>31</td>\n",
       "      <td>5</td>\n",
       "      <td>65</td>\n",
       "      <td>110</td>\n",
       "      <td>1</td>\n",
       "      <td>1</td>\n",
       "      <td>0</td>\n",
       "      <td>0</td>\n",
       "      <td>0</td>\n",
       "    </tr>\n",
       "    <tr>\n",
       "      <th>1</th>\n",
       "      <td>20</td>\n",
       "      <td>5</td>\n",
       "      <td>1</td>\n",
       "      <td>1499</td>\n",
       "      <td>282</td>\n",
       "      <td>1</td>\n",
       "      <td>113</td>\n",
       "      <td>2</td>\n",
       "      <td>0</td>\n",
       "      <td>33</td>\n",
       "      <td>...</td>\n",
       "      <td>0</td>\n",
       "      <td>38</td>\n",
       "      <td>5</td>\n",
       "      <td>70</td>\n",
       "      <td>148</td>\n",
       "      <td>1</td>\n",
       "      <td>4</td>\n",
       "      <td>0</td>\n",
       "      <td>0</td>\n",
       "      <td>0</td>\n",
       "    </tr>\n",
       "    <tr>\n",
       "      <th>2</th>\n",
       "      <td>58</td>\n",
       "      <td>5</td>\n",
       "      <td>1</td>\n",
       "      <td>1576</td>\n",
       "      <td>279</td>\n",
       "      <td>1</td>\n",
       "      <td>128</td>\n",
       "      <td>1</td>\n",
       "      <td>0</td>\n",
       "      <td>28</td>\n",
       "      <td>...</td>\n",
       "      <td>5</td>\n",
       "      <td>32</td>\n",
       "      <td>1</td>\n",
       "      <td>99</td>\n",
       "      <td>999</td>\n",
       "      <td>1</td>\n",
       "      <td>2</td>\n",
       "      <td>1</td>\n",
       "      <td>1</td>\n",
       "      <td>1</td>\n",
       "    </tr>\n",
       "    <tr>\n",
       "      <th>3</th>\n",
       "      <td>61</td>\n",
       "      <td>5</td>\n",
       "      <td>1</td>\n",
       "      <td>1504</td>\n",
       "      <td>999</td>\n",
       "      <td>1</td>\n",
       "      <td>123</td>\n",
       "      <td>2</td>\n",
       "      <td>0</td>\n",
       "      <td>36</td>\n",
       "      <td>...</td>\n",
       "      <td>3</td>\n",
       "      <td>43</td>\n",
       "      <td>4</td>\n",
       "      <td>68</td>\n",
       "      <td>197</td>\n",
       "      <td>1</td>\n",
       "      <td>8</td>\n",
       "      <td>3</td>\n",
       "      <td>5</td>\n",
       "      <td>5</td>\n",
       "    </tr>\n",
       "    <tr>\n",
       "      <th>4</th>\n",
       "      <td>72</td>\n",
       "      <td>5</td>\n",
       "      <td>1</td>\n",
       "      <td>1425</td>\n",
       "      <td>282</td>\n",
       "      <td>1</td>\n",
       "      <td>108</td>\n",
       "      <td>1</td>\n",
       "      <td>0</td>\n",
       "      <td>23</td>\n",
       "      <td>...</td>\n",
       "      <td>0</td>\n",
       "      <td>24</td>\n",
       "      <td>5</td>\n",
       "      <td>99</td>\n",
       "      <td>999</td>\n",
       "      <td>1</td>\n",
       "      <td>1</td>\n",
       "      <td>1</td>\n",
       "      <td>1</td>\n",
       "      <td>5</td>\n",
       "    </tr>\n",
       "    <tr>\n",
       "      <th>...</th>\n",
       "      <td>...</td>\n",
       "      <td>...</td>\n",
       "      <td>...</td>\n",
       "      <td>...</td>\n",
       "      <td>...</td>\n",
       "      <td>...</td>\n",
       "      <td>...</td>\n",
       "      <td>...</td>\n",
       "      <td>...</td>\n",
       "      <td>...</td>\n",
       "      <td>...</td>\n",
       "      <td>...</td>\n",
       "      <td>...</td>\n",
       "      <td>...</td>\n",
       "      <td>...</td>\n",
       "      <td>...</td>\n",
       "      <td>...</td>\n",
       "      <td>...</td>\n",
       "      <td>...</td>\n",
       "      <td>...</td>\n",
       "      <td>...</td>\n",
       "    </tr>\n",
       "    <tr>\n",
       "      <th>1231</th>\n",
       "      <td>9153</td>\n",
       "      <td>5</td>\n",
       "      <td>1</td>\n",
       "      <td>1672</td>\n",
       "      <td>275</td>\n",
       "      <td>1</td>\n",
       "      <td>113</td>\n",
       "      <td>0</td>\n",
       "      <td>0</td>\n",
       "      <td>27</td>\n",
       "      <td>...</td>\n",
       "      <td>0</td>\n",
       "      <td>32</td>\n",
       "      <td>4</td>\n",
       "      <td>72</td>\n",
       "      <td>190</td>\n",
       "      <td>1</td>\n",
       "      <td>4</td>\n",
       "      <td>0</td>\n",
       "      <td>0</td>\n",
       "      <td>0</td>\n",
       "    </tr>\n",
       "    <tr>\n",
       "      <th>1232</th>\n",
       "      <td>9163</td>\n",
       "      <td>5</td>\n",
       "      <td>1</td>\n",
       "      <td>1712</td>\n",
       "      <td>265</td>\n",
       "      <td>1</td>\n",
       "      <td>128</td>\n",
       "      <td>1</td>\n",
       "      <td>0</td>\n",
       "      <td>24</td>\n",
       "      <td>...</td>\n",
       "      <td>0</td>\n",
       "      <td>24</td>\n",
       "      <td>5</td>\n",
       "      <td>73</td>\n",
       "      <td>170</td>\n",
       "      <td>1</td>\n",
       "      <td>3</td>\n",
       "      <td>0</td>\n",
       "      <td>0</td>\n",
       "      <td>0</td>\n",
       "    </tr>\n",
       "    <tr>\n",
       "      <th>1233</th>\n",
       "      <td>9213</td>\n",
       "      <td>5</td>\n",
       "      <td>1</td>\n",
       "      <td>1672</td>\n",
       "      <td>291</td>\n",
       "      <td>1</td>\n",
       "      <td>130</td>\n",
       "      <td>4</td>\n",
       "      <td>1</td>\n",
       "      <td>30</td>\n",
       "      <td>...</td>\n",
       "      <td>2</td>\n",
       "      <td>30</td>\n",
       "      <td>5</td>\n",
       "      <td>70</td>\n",
       "      <td>180</td>\n",
       "      <td>1</td>\n",
       "      <td>3</td>\n",
       "      <td>1</td>\n",
       "      <td>1</td>\n",
       "      <td>2</td>\n",
       "    </tr>\n",
       "    <tr>\n",
       "      <th>1234</th>\n",
       "      <td>9229</td>\n",
       "      <td>5</td>\n",
       "      <td>1</td>\n",
       "      <td>1680</td>\n",
       "      <td>281</td>\n",
       "      <td>1</td>\n",
       "      <td>125</td>\n",
       "      <td>0</td>\n",
       "      <td>0</td>\n",
       "      <td>21</td>\n",
       "      <td>...</td>\n",
       "      <td>0</td>\n",
       "      <td>27</td>\n",
       "      <td>5</td>\n",
       "      <td>71</td>\n",
       "      <td>165</td>\n",
       "      <td>1</td>\n",
       "      <td>1</td>\n",
       "      <td>0</td>\n",
       "      <td>0</td>\n",
       "      <td>0</td>\n",
       "    </tr>\n",
       "    <tr>\n",
       "      <th>1235</th>\n",
       "      <td>9263</td>\n",
       "      <td>5</td>\n",
       "      <td>1</td>\n",
       "      <td>1668</td>\n",
       "      <td>297</td>\n",
       "      <td>1</td>\n",
       "      <td>117</td>\n",
       "      <td>4</td>\n",
       "      <td>0</td>\n",
       "      <td>38</td>\n",
       "      <td>...</td>\n",
       "      <td>4</td>\n",
       "      <td>34</td>\n",
       "      <td>1</td>\n",
       "      <td>68</td>\n",
       "      <td>172</td>\n",
       "      <td>1</td>\n",
       "      <td>6</td>\n",
       "      <td>0</td>\n",
       "      <td>0</td>\n",
       "      <td>0</td>\n",
       "    </tr>\n",
       "  </tbody>\n",
       "</table>\n",
       "<p>1236 rows × 23 columns</p>\n",
       "</div>"
      ]
     },
     "execution_count": 26,
     "metadata": {},
     "output_type": "execute_result"
    }
   ],
   "execution_count": 26
  },
  {
   "cell_type": "code",
   "metadata": {
    "id": "pTe7hFMemlFP",
    "outputId": "e5e1467c-0dbd-4e1d-fd18-64eb6b32d692",
    "colab": {
     "base_uri": "https://localhost:8080/"
    },
    "ExecuteTime": {
     "end_time": "2025-02-06T07:15:42.643062Z",
     "start_time": "2025-02-06T07:15:42.637593Z"
    }
   },
   "source": [
    "# Filter data so to exclude entries where income, number of cigarettes smoked,\n",
    "# parity, and baby weight are not asked or not known\n",
    "data = data[data.wt != 999]\n",
    "data = data[data.parity != 99]\n",
    "data = data[data.parity != 9]\n",
    "data = data[np.logical_and(data.number != 98, data.number != 99)]\n",
    "data = data[np.logical_and(data.inc != 98, data.inc != 99)]\n",
    "data.shape"
   ],
   "outputs": [
    {
     "data": {
      "text/plain": [
       "(1096, 23)"
      ]
     },
     "execution_count": 27,
     "metadata": {},
     "output_type": "execute_result"
    }
   ],
   "execution_count": 27
  },
  {
   "cell_type": "code",
   "metadata": {
    "id": "4E2f9SS2ZfXU",
    "ExecuteTime": {
     "end_time": "2025-02-06T07:15:42.687391Z",
     "start_time": "2025-02-06T07:15:42.672518Z"
    }
   },
   "source": [
    "X = np.array(patsy.dmatrix('0 + C(race) + age + C(sex)', data))\n",
    "D = np.array(patsy.dmatrix('0 + number', data))\n",
    "Q = np.array(patsy.dmatrix('0 + C(ed)', data))\n",
    "S = np.array(patsy.dmatrix('0 + parity', data))\n",
    "A = np.array(patsy.dmatrix('0 + inc', data))\n",
    "y = np.array(patsy.dmatrix('0 + wt', data)).flatten()"
   ],
   "outputs": [],
   "execution_count": 28
  },
  {
   "cell_type": "code",
   "metadata": {
    "id": "pUAJG53t110L",
    "outputId": "d1291f6e-339c-4f38-fbd0-a948c1f43707",
    "colab": {
     "base_uri": "https://localhost:8080/"
    },
    "ExecuteTime": {
     "end_time": "2025-02-06T07:15:42.741095Z",
     "start_time": "2025-02-06T07:15:42.738484Z"
    }
   },
   "source": [
    "Q.shape"
   ],
   "outputs": [
    {
     "data": {
      "text/plain": [
       "(1096, 7)"
      ]
     },
     "execution_count": 29,
     "metadata": {},
     "output_type": "execute_result"
    }
   ],
   "execution_count": 29
  },
  {
   "cell_type": "code",
   "metadata": {
    "id": "-7oS-GI0GCVl",
    "ExecuteTime": {
     "end_time": "2025-02-06T07:15:43.104821Z",
     "start_time": "2025-02-06T07:15:42.779427Z"
    }
   },
   "source": [
    "cv = KFold(n_splits=5, shuffle=True, random_state=123)\n",
    "modely = make_pipeline(StandardScaler(), LassoCV(cv=cv))\n",
    "modelw = make_pipeline(StandardScaler(), LassoCV(cv=cv))\n",
    "modelv = make_pipeline(StandardScaler(), LassoCV(cv=cv))\n",
    "res = proxydml(X, Q, S, D, y, modely, modelw, modelv, nfolds=3)"
   ],
   "outputs": [
    {
     "name": "stderr",
     "output_type": "stream",
     "text": [
      "/Users/jklehm/source/causalml/.venv/lib/python3.12/site-packages/sklearn/linear_model/_coordinate_descent.py:681: ConvergenceWarning: Objective did not converge. You might want to increase the number of iterations. Duality gap: 0.0, tolerance: 0.0\n",
      "  model = cd_fast.enet_coordinate_descent_gram(\n",
      "/Users/jklehm/source/causalml/.venv/lib/python3.12/site-packages/sklearn/linear_model/_coordinate_descent.py:681: ConvergenceWarning: Objective did not converge. You might want to increase the number of iterations. Duality gap: 0.0, tolerance: 0.0\n",
      "  model = cd_fast.enet_coordinate_descent_gram(\n",
      "/Users/jklehm/source/causalml/.venv/lib/python3.12/site-packages/sklearn/linear_model/_coordinate_descent.py:681: ConvergenceWarning: Objective did not converge. You might want to increase the number of iterations. Duality gap: 0.0, tolerance: 0.0\n",
      "  model = cd_fast.enet_coordinate_descent_gram(\n",
      "/Users/jklehm/source/causalml/.venv/lib/python3.12/site-packages/sklearn/linear_model/_coordinate_descent.py:681: ConvergenceWarning: Objective did not converge. You might want to increase the number of iterations. Duality gap: 0.0, tolerance: 0.0\n",
      "  model = cd_fast.enet_coordinate_descent_gram(\n",
      "/Users/jklehm/source/causalml/.venv/lib/python3.12/site-packages/sklearn/linear_model/_coordinate_descent.py:681: ConvergenceWarning: Objective did not converge. You might want to increase the number of iterations. Duality gap: 0.0, tolerance: 0.0\n",
      "  model = cd_fast.enet_coordinate_descent_gram(\n",
      "/Users/jklehm/source/causalml/.venv/lib/python3.12/site-packages/sklearn/linear_model/_coordinate_descent.py:681: ConvergenceWarning: Objective did not converge. You might want to increase the number of iterations. Duality gap: 0.0, tolerance: 0.0\n",
      "  model = cd_fast.enet_coordinate_descent_gram(\n",
      "/Users/jklehm/source/causalml/.venv/lib/python3.12/site-packages/sklearn/linear_model/_coordinate_descent.py:681: ConvergenceWarning: Objective did not converge. You might want to increase the number of iterations. Duality gap: 0.0, tolerance: 0.0\n",
      "  model = cd_fast.enet_coordinate_descent_gram(\n",
      "/Users/jklehm/source/causalml/.venv/lib/python3.12/site-packages/sklearn/linear_model/_coordinate_descent.py:681: ConvergenceWarning: Objective did not converge. You might want to increase the number of iterations. Duality gap: 0.0, tolerance: 0.0\n",
      "  model = cd_fast.enet_coordinate_descent_gram(\n",
      "/Users/jklehm/source/causalml/.venv/lib/python3.12/site-packages/sklearn/linear_model/_coordinate_descent.py:681: ConvergenceWarning: Objective did not converge. You might want to increase the number of iterations. Duality gap: 0.0, tolerance: 0.0\n",
      "  model = cd_fast.enet_coordinate_descent_gram(\n",
      "/Users/jklehm/source/causalml/.venv/lib/python3.12/site-packages/sklearn/linear_model/_coordinate_descent.py:681: ConvergenceWarning: Objective did not converge. You might want to increase the number of iterations. Duality gap: 0.0, tolerance: 0.0\n",
      "  model = cd_fast.enet_coordinate_descent_gram(\n",
      "/Users/jklehm/source/causalml/.venv/lib/python3.12/site-packages/sklearn/linear_model/_coordinate_descent.py:681: ConvergenceWarning: Objective did not converge. You might want to increase the number of iterations. Duality gap: 0.0, tolerance: 0.0\n",
      "  model = cd_fast.enet_coordinate_descent_gram(\n",
      "/Users/jklehm/source/causalml/.venv/lib/python3.12/site-packages/sklearn/linear_model/_coordinate_descent.py:681: ConvergenceWarning: Objective did not converge. You might want to increase the number of iterations. Duality gap: 0.0, tolerance: 0.0\n",
      "  model = cd_fast.enet_coordinate_descent_gram(\n",
      "/Users/jklehm/source/causalml/.venv/lib/python3.12/site-packages/sklearn/linear_model/_coordinate_descent.py:681: ConvergenceWarning: Objective did not converge. You might want to increase the number of iterations. Duality gap: 0.0, tolerance: 0.0\n",
      "  model = cd_fast.enet_coordinate_descent_gram(\n",
      "/Users/jklehm/source/causalml/.venv/lib/python3.12/site-packages/sklearn/linear_model/_coordinate_descent.py:681: ConvergenceWarning: Objective did not converge. You might want to increase the number of iterations. Duality gap: 0.0, tolerance: 0.0\n",
      "  model = cd_fast.enet_coordinate_descent_gram(\n",
      "/Users/jklehm/source/causalml/.venv/lib/python3.12/site-packages/sklearn/linear_model/_coordinate_descent.py:681: ConvergenceWarning: Objective did not converge. You might want to increase the number of iterations. Duality gap: 0.0, tolerance: 0.0\n",
      "  model = cd_fast.enet_coordinate_descent_gram(\n",
      "/Users/jklehm/source/causalml/.venv/lib/python3.12/site-packages/sklearn/linear_model/_coordinate_descent.py:681: ConvergenceWarning: Objective did not converge. You might want to increase the number of iterations. Duality gap: 0.0, tolerance: 0.0\n",
      "  model = cd_fast.enet_coordinate_descent_gram(\n",
      "/Users/jklehm/source/causalml/.venv/lib/python3.12/site-packages/sklearn/linear_model/_coordinate_descent.py:681: ConvergenceWarning: Objective did not converge. You might want to increase the number of iterations. Duality gap: 0.0, tolerance: 0.0\n",
      "  model = cd_fast.enet_coordinate_descent_gram(\n",
      "/Users/jklehm/source/causalml/.venv/lib/python3.12/site-packages/sklearn/linear_model/_coordinate_descent.py:681: ConvergenceWarning: Objective did not converge. You might want to increase the number of iterations. Duality gap: 0.0, tolerance: 0.0\n",
      "  model = cd_fast.enet_coordinate_descent_gram(\n",
      "/Users/jklehm/source/causalml/.venv/lib/python3.12/site-packages/sklearn/linear_model/_coordinate_descent.py:681: ConvergenceWarning: Objective did not converge. You might want to increase the number of iterations. Duality gap: 0.0, tolerance: 0.0\n",
      "  model = cd_fast.enet_coordinate_descent_gram(\n",
      "/Users/jklehm/source/causalml/.venv/lib/python3.12/site-packages/sklearn/linear_model/_coordinate_descent.py:681: ConvergenceWarning: Objective did not converge. You might want to increase the number of iterations. Duality gap: 0.0, tolerance: 0.0\n",
      "  model = cd_fast.enet_coordinate_descent_gram(\n",
      "/Users/jklehm/source/causalml/.venv/lib/python3.12/site-packages/sklearn/linear_model/_coordinate_descent.py:681: ConvergenceWarning: Objective did not converge. You might want to increase the number of iterations. Duality gap: 0.0, tolerance: 0.0\n",
      "  model = cd_fast.enet_coordinate_descent_gram(\n",
      "/Users/jklehm/source/causalml/.venv/lib/python3.12/site-packages/sklearn/linear_model/_coordinate_descent.py:681: ConvergenceWarning: Objective did not converge. You might want to increase the number of iterations. Duality gap: 0.0, tolerance: 0.0\n",
      "  model = cd_fast.enet_coordinate_descent_gram(\n",
      "/Users/jklehm/source/causalml/.venv/lib/python3.12/site-packages/sklearn/linear_model/_coordinate_descent.py:681: ConvergenceWarning: Objective did not converge. You might want to increase the number of iterations. Duality gap: 0.0, tolerance: 0.0\n",
      "  model = cd_fast.enet_coordinate_descent_gram(\n",
      "/Users/jklehm/source/causalml/.venv/lib/python3.12/site-packages/sklearn/linear_model/_coordinate_descent.py:681: ConvergenceWarning: Objective did not converge. You might want to increase the number of iterations. Duality gap: 0.0, tolerance: 0.0\n",
      "  model = cd_fast.enet_coordinate_descent_gram(\n",
      "/Users/jklehm/source/causalml/.venv/lib/python3.12/site-packages/sklearn/linear_model/_coordinate_descent.py:681: ConvergenceWarning: Objective did not converge. You might want to increase the number of iterations. Duality gap: 0.0, tolerance: 0.0\n",
      "  model = cd_fast.enet_coordinate_descent_gram(\n",
      "/Users/jklehm/source/causalml/.venv/lib/python3.12/site-packages/sklearn/linear_model/_coordinate_descent.py:681: ConvergenceWarning: Objective did not converge. You might want to increase the number of iterations. Duality gap: 0.0, tolerance: 0.0\n",
      "  model = cd_fast.enet_coordinate_descent_gram(\n",
      "/Users/jklehm/source/causalml/.venv/lib/python3.12/site-packages/sklearn/linear_model/_coordinate_descent.py:681: ConvergenceWarning: Objective did not converge. You might want to increase the number of iterations. Duality gap: 0.0, tolerance: 0.0\n",
      "  model = cd_fast.enet_coordinate_descent_gram(\n",
      "/Users/jklehm/source/causalml/.venv/lib/python3.12/site-packages/sklearn/linear_model/_coordinate_descent.py:681: ConvergenceWarning: Objective did not converge. You might want to increase the number of iterations. Duality gap: 0.0, tolerance: 0.0\n",
      "  model = cd_fast.enet_coordinate_descent_gram(\n",
      "/Users/jklehm/source/causalml/.venv/lib/python3.12/site-packages/sklearn/linear_model/_coordinate_descent.py:681: ConvergenceWarning: Objective did not converge. You might want to increase the number of iterations. Duality gap: 0.0, tolerance: 0.0\n",
      "  model = cd_fast.enet_coordinate_descent_gram(\n",
      "/Users/jklehm/source/causalml/.venv/lib/python3.12/site-packages/sklearn/linear_model/_coordinate_descent.py:681: ConvergenceWarning: Objective did not converge. You might want to increase the number of iterations. Duality gap: 0.0, tolerance: 0.0\n",
      "  model = cd_fast.enet_coordinate_descent_gram(\n",
      "/Users/jklehm/source/causalml/.venv/lib/python3.12/site-packages/sklearn/linear_model/_coordinate_descent.py:681: ConvergenceWarning: Objective did not converge. You might want to increase the number of iterations. Duality gap: 0.0, tolerance: 0.0\n",
      "  model = cd_fast.enet_coordinate_descent_gram(\n",
      "/Users/jklehm/source/causalml/.venv/lib/python3.12/site-packages/sklearn/linear_model/_coordinate_descent.py:681: ConvergenceWarning: Objective did not converge. You might want to increase the number of iterations. Duality gap: 0.0, tolerance: 0.0\n",
      "  model = cd_fast.enet_coordinate_descent_gram(\n",
      "/Users/jklehm/source/causalml/.venv/lib/python3.12/site-packages/sklearn/linear_model/_coordinate_descent.py:681: ConvergenceWarning: Objective did not converge. You might want to increase the number of iterations. Duality gap: 0.0, tolerance: 0.0\n",
      "  model = cd_fast.enet_coordinate_descent_gram(\n",
      "/Users/jklehm/source/causalml/.venv/lib/python3.12/site-packages/sklearn/linear_model/_coordinate_descent.py:681: ConvergenceWarning: Objective did not converge. You might want to increase the number of iterations. Duality gap: 0.0, tolerance: 0.0\n",
      "  model = cd_fast.enet_coordinate_descent_gram(\n",
      "/Users/jklehm/source/causalml/.venv/lib/python3.12/site-packages/sklearn/linear_model/_coordinate_descent.py:681: ConvergenceWarning: Objective did not converge. You might want to increase the number of iterations. Duality gap: 0.0, tolerance: 0.0\n",
      "  model = cd_fast.enet_coordinate_descent_gram(\n",
      "/Users/jklehm/source/causalml/.venv/lib/python3.12/site-packages/sklearn/linear_model/_coordinate_descent.py:681: ConvergenceWarning: Objective did not converge. You might want to increase the number of iterations. Duality gap: 0.0, tolerance: 0.0\n",
      "  model = cd_fast.enet_coordinate_descent_gram(\n",
      "/Users/jklehm/source/causalml/.venv/lib/python3.12/site-packages/sklearn/linear_model/_coordinate_descent.py:681: ConvergenceWarning: Objective did not converge. You might want to increase the number of iterations. Duality gap: 0.0, tolerance: 0.0\n",
      "  model = cd_fast.enet_coordinate_descent_gram(\n",
      "/Users/jklehm/source/causalml/.venv/lib/python3.12/site-packages/sklearn/linear_model/_coordinate_descent.py:681: ConvergenceWarning: Objective did not converge. You might want to increase the number of iterations. Duality gap: 0.0, tolerance: 0.0\n",
      "  model = cd_fast.enet_coordinate_descent_gram(\n",
      "/Users/jklehm/source/causalml/.venv/lib/python3.12/site-packages/sklearn/linear_model/_coordinate_descent.py:681: ConvergenceWarning: Objective did not converge. You might want to increase the number of iterations. Duality gap: 0.0, tolerance: 0.0\n",
      "  model = cd_fast.enet_coordinate_descent_gram(\n",
      "/Users/jklehm/source/causalml/.venv/lib/python3.12/site-packages/sklearn/linear_model/_coordinate_descent.py:681: ConvergenceWarning: Objective did not converge. You might want to increase the number of iterations. Duality gap: 0.0, tolerance: 0.0\n",
      "  model = cd_fast.enet_coordinate_descent_gram(\n",
      "/Users/jklehm/source/causalml/.venv/lib/python3.12/site-packages/sklearn/linear_model/_coordinate_descent.py:681: ConvergenceWarning: Objective did not converge. You might want to increase the number of iterations. Duality gap: 0.0, tolerance: 0.0\n",
      "  model = cd_fast.enet_coordinate_descent_gram(\n",
      "/Users/jklehm/source/causalml/.venv/lib/python3.12/site-packages/sklearn/linear_model/_coordinate_descent.py:681: ConvergenceWarning: Objective did not converge. You might want to increase the number of iterations. Duality gap: 0.0, tolerance: 0.0\n",
      "  model = cd_fast.enet_coordinate_descent_gram(\n",
      "/Users/jklehm/source/causalml/.venv/lib/python3.12/site-packages/sklearn/linear_model/_coordinate_descent.py:681: ConvergenceWarning: Objective did not converge. You might want to increase the number of iterations. Duality gap: 0.0, tolerance: 0.0\n",
      "  model = cd_fast.enet_coordinate_descent_gram(\n",
      "/Users/jklehm/source/causalml/.venv/lib/python3.12/site-packages/sklearn/linear_model/_coordinate_descent.py:681: ConvergenceWarning: Objective did not converge. You might want to increase the number of iterations. Duality gap: 0.0, tolerance: 0.0\n",
      "  model = cd_fast.enet_coordinate_descent_gram(\n",
      "/Users/jklehm/source/causalml/.venv/lib/python3.12/site-packages/sklearn/linear_model/_coordinate_descent.py:681: ConvergenceWarning: Objective did not converge. You might want to increase the number of iterations. Duality gap: 0.0, tolerance: 0.0\n",
      "  model = cd_fast.enet_coordinate_descent_gram(\n",
      "/Users/jklehm/source/causalml/.venv/lib/python3.12/site-packages/sklearn/linear_model/_coordinate_descent.py:681: ConvergenceWarning: Objective did not converge. You might want to increase the number of iterations. Duality gap: 0.0, tolerance: 0.0\n",
      "  model = cd_fast.enet_coordinate_descent_gram(\n",
      "/Users/jklehm/source/causalml/.venv/lib/python3.12/site-packages/sklearn/linear_model/_coordinate_descent.py:681: ConvergenceWarning: Objective did not converge. You might want to increase the number of iterations. Duality gap: 0.0, tolerance: 0.0\n",
      "  model = cd_fast.enet_coordinate_descent_gram(\n",
      "/Users/jklehm/source/causalml/.venv/lib/python3.12/site-packages/sklearn/linear_model/_coordinate_descent.py:681: ConvergenceWarning: Objective did not converge. You might want to increase the number of iterations. Duality gap: 0.0, tolerance: 0.0\n",
      "  model = cd_fast.enet_coordinate_descent_gram(\n",
      "/Users/jklehm/source/causalml/.venv/lib/python3.12/site-packages/sklearn/linear_model/_coordinate_descent.py:681: ConvergenceWarning: Objective did not converge. You might want to increase the number of iterations. Duality gap: 0.0, tolerance: 0.0\n",
      "  model = cd_fast.enet_coordinate_descent_gram(\n",
      "/Users/jklehm/source/causalml/.venv/lib/python3.12/site-packages/sklearn/linear_model/_coordinate_descent.py:681: ConvergenceWarning: Objective did not converge. You might want to increase the number of iterations. Duality gap: 0.0, tolerance: 0.0\n",
      "  model = cd_fast.enet_coordinate_descent_gram(\n",
      "/Users/jklehm/source/causalml/.venv/lib/python3.12/site-packages/sklearn/linear_model/_coordinate_descent.py:681: ConvergenceWarning: Objective did not converge. You might want to increase the number of iterations. Duality gap: 0.0, tolerance: 0.0\n",
      "  model = cd_fast.enet_coordinate_descent_gram(\n",
      "/Users/jklehm/source/causalml/.venv/lib/python3.12/site-packages/sklearn/linear_model/_coordinate_descent.py:681: ConvergenceWarning: Objective did not converge. You might want to increase the number of iterations. Duality gap: 0.0, tolerance: 0.0\n",
      "  model = cd_fast.enet_coordinate_descent_gram(\n",
      "/Users/jklehm/source/causalml/.venv/lib/python3.12/site-packages/sklearn/linear_model/_coordinate_descent.py:681: ConvergenceWarning: Objective did not converge. You might want to increase the number of iterations. Duality gap: 0.0, tolerance: 0.0\n",
      "  model = cd_fast.enet_coordinate_descent_gram(\n",
      "/Users/jklehm/source/causalml/.venv/lib/python3.12/site-packages/sklearn/linear_model/_coordinate_descent.py:681: ConvergenceWarning: Objective did not converge. You might want to increase the number of iterations. Duality gap: 0.0, tolerance: 0.0\n",
      "  model = cd_fast.enet_coordinate_descent_gram(\n",
      "/Users/jklehm/source/causalml/.venv/lib/python3.12/site-packages/sklearn/linear_model/_coordinate_descent.py:681: ConvergenceWarning: Objective did not converge. You might want to increase the number of iterations. Duality gap: 0.0, tolerance: 0.0\n",
      "  model = cd_fast.enet_coordinate_descent_gram(\n",
      "/Users/jklehm/source/causalml/.venv/lib/python3.12/site-packages/sklearn/linear_model/_coordinate_descent.py:681: ConvergenceWarning: Objective did not converge. You might want to increase the number of iterations. Duality gap: 0.0, tolerance: 0.0\n",
      "  model = cd_fast.enet_coordinate_descent_gram(\n",
      "/Users/jklehm/source/causalml/.venv/lib/python3.12/site-packages/sklearn/linear_model/_coordinate_descent.py:681: ConvergenceWarning: Objective did not converge. You might want to increase the number of iterations. Duality gap: 0.0, tolerance: 0.0\n",
      "  model = cd_fast.enet_coordinate_descent_gram(\n",
      "/Users/jklehm/source/causalml/.venv/lib/python3.12/site-packages/sklearn/linear_model/_coordinate_descent.py:681: ConvergenceWarning: Objective did not converge. You might want to increase the number of iterations. Duality gap: 0.0, tolerance: 0.0\n",
      "  model = cd_fast.enet_coordinate_descent_gram(\n",
      "/Users/jklehm/source/causalml/.venv/lib/python3.12/site-packages/sklearn/linear_model/_coordinate_descent.py:681: ConvergenceWarning: Objective did not converge. You might want to increase the number of iterations. Duality gap: 0.0, tolerance: 0.0\n",
      "  model = cd_fast.enet_coordinate_descent_gram(\n",
      "/Users/jklehm/source/causalml/.venv/lib/python3.12/site-packages/sklearn/linear_model/_coordinate_descent.py:681: ConvergenceWarning: Objective did not converge. You might want to increase the number of iterations. Duality gap: 0.0, tolerance: 0.0\n",
      "  model = cd_fast.enet_coordinate_descent_gram(\n",
      "/Users/jklehm/source/causalml/.venv/lib/python3.12/site-packages/sklearn/linear_model/_coordinate_descent.py:681: ConvergenceWarning: Objective did not converge. You might want to increase the number of iterations. Duality gap: 0.0, tolerance: 0.0\n",
      "  model = cd_fast.enet_coordinate_descent_gram(\n",
      "/Users/jklehm/source/causalml/.venv/lib/python3.12/site-packages/sklearn/linear_model/_coordinate_descent.py:681: ConvergenceWarning: Objective did not converge. You might want to increase the number of iterations. Duality gap: 0.0, tolerance: 0.0\n",
      "  model = cd_fast.enet_coordinate_descent_gram(\n",
      "/Users/jklehm/source/causalml/.venv/lib/python3.12/site-packages/sklearn/linear_model/_coordinate_descent.py:681: ConvergenceWarning: Objective did not converge. You might want to increase the number of iterations. Duality gap: 0.0, tolerance: 0.0\n",
      "  model = cd_fast.enet_coordinate_descent_gram(\n",
      "/Users/jklehm/source/causalml/.venv/lib/python3.12/site-packages/sklearn/linear_model/_coordinate_descent.py:681: ConvergenceWarning: Objective did not converge. You might want to increase the number of iterations. Duality gap: 0.0, tolerance: 0.0\n",
      "  model = cd_fast.enet_coordinate_descent_gram(\n",
      "/Users/jklehm/source/causalml/.venv/lib/python3.12/site-packages/sklearn/linear_model/_coordinate_descent.py:681: ConvergenceWarning: Objective did not converge. You might want to increase the number of iterations. Duality gap: 0.0, tolerance: 0.0\n",
      "  model = cd_fast.enet_coordinate_descent_gram(\n",
      "/Users/jklehm/source/causalml/.venv/lib/python3.12/site-packages/sklearn/linear_model/_coordinate_descent.py:681: ConvergenceWarning: Objective did not converge. You might want to increase the number of iterations. Duality gap: 0.0, tolerance: 0.0\n",
      "  model = cd_fast.enet_coordinate_descent_gram(\n",
      "/Users/jklehm/source/causalml/.venv/lib/python3.12/site-packages/sklearn/linear_model/_coordinate_descent.py:681: ConvergenceWarning: Objective did not converge. You might want to increase the number of iterations. Duality gap: 0.0, tolerance: 0.0\n",
      "  model = cd_fast.enet_coordinate_descent_gram(\n",
      "/Users/jklehm/source/causalml/.venv/lib/python3.12/site-packages/sklearn/linear_model/_coordinate_descent.py:681: ConvergenceWarning: Objective did not converge. You might want to increase the number of iterations. Duality gap: 0.0, tolerance: 0.0\n",
      "  model = cd_fast.enet_coordinate_descent_gram(\n",
      "/Users/jklehm/source/causalml/.venv/lib/python3.12/site-packages/sklearn/linear_model/_coordinate_descent.py:681: ConvergenceWarning: Objective did not converge. You might want to increase the number of iterations. Duality gap: 0.0, tolerance: 0.0\n",
      "  model = cd_fast.enet_coordinate_descent_gram(\n",
      "/Users/jklehm/source/causalml/.venv/lib/python3.12/site-packages/sklearn/linear_model/_coordinate_descent.py:681: ConvergenceWarning: Objective did not converge. You might want to increase the number of iterations. Duality gap: 0.0, tolerance: 0.0\n",
      "  model = cd_fast.enet_coordinate_descent_gram(\n",
      "/Users/jklehm/source/causalml/.venv/lib/python3.12/site-packages/sklearn/linear_model/_coordinate_descent.py:681: ConvergenceWarning: Objective did not converge. You might want to increase the number of iterations. Duality gap: 0.0, tolerance: 0.0\n",
      "  model = cd_fast.enet_coordinate_descent_gram(\n",
      "/Users/jklehm/source/causalml/.venv/lib/python3.12/site-packages/sklearn/linear_model/_coordinate_descent.py:681: ConvergenceWarning: Objective did not converge. You might want to increase the number of iterations. Duality gap: 0.0, tolerance: 0.0\n",
      "  model = cd_fast.enet_coordinate_descent_gram(\n",
      "/Users/jklehm/source/causalml/.venv/lib/python3.12/site-packages/sklearn/linear_model/_coordinate_descent.py:681: ConvergenceWarning: Objective did not converge. You might want to increase the number of iterations. Duality gap: 0.0, tolerance: 0.0\n",
      "  model = cd_fast.enet_coordinate_descent_gram(\n",
      "/Users/jklehm/source/causalml/.venv/lib/python3.12/site-packages/sklearn/linear_model/_coordinate_descent.py:681: ConvergenceWarning: Objective did not converge. You might want to increase the number of iterations. Duality gap: 0.0, tolerance: 0.0\n",
      "  model = cd_fast.enet_coordinate_descent_gram(\n",
      "/Users/jklehm/source/causalml/.venv/lib/python3.12/site-packages/sklearn/linear_model/_coordinate_descent.py:681: ConvergenceWarning: Objective did not converge. You might want to increase the number of iterations. Duality gap: 0.0, tolerance: 0.0\n",
      "  model = cd_fast.enet_coordinate_descent_gram(\n",
      "/Users/jklehm/source/causalml/.venv/lib/python3.12/site-packages/sklearn/linear_model/_coordinate_descent.py:681: ConvergenceWarning: Objective did not converge. You might want to increase the number of iterations. Duality gap: 0.0, tolerance: 0.0\n",
      "  model = cd_fast.enet_coordinate_descent_gram(\n",
      "/Users/jklehm/source/causalml/.venv/lib/python3.12/site-packages/sklearn/linear_model/_coordinate_descent.py:681: ConvergenceWarning: Objective did not converge. You might want to increase the number of iterations. Duality gap: 0.0, tolerance: 0.0\n",
      "  model = cd_fast.enet_coordinate_descent_gram(\n",
      "/Users/jklehm/source/causalml/.venv/lib/python3.12/site-packages/sklearn/linear_model/_coordinate_descent.py:681: ConvergenceWarning: Objective did not converge. You might want to increase the number of iterations. Duality gap: 0.0, tolerance: 0.0\n",
      "  model = cd_fast.enet_coordinate_descent_gram(\n",
      "/Users/jklehm/source/causalml/.venv/lib/python3.12/site-packages/sklearn/linear_model/_coordinate_descent.py:681: ConvergenceWarning: Objective did not converge. You might want to increase the number of iterations. Duality gap: 0.0, tolerance: 0.0\n",
      "  model = cd_fast.enet_coordinate_descent_gram(\n",
      "/Users/jklehm/source/causalml/.venv/lib/python3.12/site-packages/sklearn/linear_model/_coordinate_descent.py:681: ConvergenceWarning: Objective did not converge. You might want to increase the number of iterations. Duality gap: 0.0, tolerance: 0.0\n",
      "  model = cd_fast.enet_coordinate_descent_gram(\n",
      "/Users/jklehm/source/causalml/.venv/lib/python3.12/site-packages/sklearn/linear_model/_coordinate_descent.py:681: ConvergenceWarning: Objective did not converge. You might want to increase the number of iterations. Duality gap: 0.0, tolerance: 0.0\n",
      "  model = cd_fast.enet_coordinate_descent_gram(\n",
      "/Users/jklehm/source/causalml/.venv/lib/python3.12/site-packages/sklearn/linear_model/_coordinate_descent.py:681: ConvergenceWarning: Objective did not converge. You might want to increase the number of iterations. Duality gap: 0.0, tolerance: 0.0\n",
      "  model = cd_fast.enet_coordinate_descent_gram(\n",
      "/Users/jklehm/source/causalml/.venv/lib/python3.12/site-packages/sklearn/linear_model/_coordinate_descent.py:681: ConvergenceWarning: Objective did not converge. You might want to increase the number of iterations. Duality gap: 0.0, tolerance: 0.0\n",
      "  model = cd_fast.enet_coordinate_descent_gram(\n",
      "/Users/jklehm/source/causalml/.venv/lib/python3.12/site-packages/sklearn/linear_model/_coordinate_descent.py:681: ConvergenceWarning: Objective did not converge. You might want to increase the number of iterations. Duality gap: 0.0, tolerance: 0.0\n",
      "  model = cd_fast.enet_coordinate_descent_gram(\n",
      "/Users/jklehm/source/causalml/.venv/lib/python3.12/site-packages/sklearn/linear_model/_coordinate_descent.py:681: ConvergenceWarning: Objective did not converge. You might want to increase the number of iterations. Duality gap: 0.0, tolerance: 0.0\n",
      "  model = cd_fast.enet_coordinate_descent_gram(\n",
      "/Users/jklehm/source/causalml/.venv/lib/python3.12/site-packages/sklearn/linear_model/_coordinate_descent.py:681: ConvergenceWarning: Objective did not converge. You might want to increase the number of iterations. Duality gap: 0.0, tolerance: 0.0\n",
      "  model = cd_fast.enet_coordinate_descent_gram(\n",
      "/Users/jklehm/source/causalml/.venv/lib/python3.12/site-packages/sklearn/linear_model/_coordinate_descent.py:681: ConvergenceWarning: Objective did not converge. You might want to increase the number of iterations. Duality gap: 0.0, tolerance: 0.0\n",
      "  model = cd_fast.enet_coordinate_descent_gram(\n",
      "/Users/jklehm/source/causalml/.venv/lib/python3.12/site-packages/sklearn/linear_model/_coordinate_descent.py:681: ConvergenceWarning: Objective did not converge. You might want to increase the number of iterations. Duality gap: 0.0, tolerance: 0.0\n",
      "  model = cd_fast.enet_coordinate_descent_gram(\n",
      "/Users/jklehm/source/causalml/.venv/lib/python3.12/site-packages/sklearn/linear_model/_coordinate_descent.py:681: ConvergenceWarning: Objective did not converge. You might want to increase the number of iterations. Duality gap: 0.0, tolerance: 0.0\n",
      "  model = cd_fast.enet_coordinate_descent_gram(\n",
      "/Users/jklehm/source/causalml/.venv/lib/python3.12/site-packages/sklearn/linear_model/_coordinate_descent.py:681: ConvergenceWarning: Objective did not converge. You might want to increase the number of iterations. Duality gap: 0.0, tolerance: 0.0\n",
      "  model = cd_fast.enet_coordinate_descent_gram(\n",
      "/Users/jklehm/source/causalml/.venv/lib/python3.12/site-packages/sklearn/linear_model/_coordinate_descent.py:681: ConvergenceWarning: Objective did not converge. You might want to increase the number of iterations. Duality gap: 0.0, tolerance: 0.0\n",
      "  model = cd_fast.enet_coordinate_descent_gram(\n",
      "/Users/jklehm/source/causalml/.venv/lib/python3.12/site-packages/sklearn/linear_model/_coordinate_descent.py:681: ConvergenceWarning: Objective did not converge. You might want to increase the number of iterations. Duality gap: 0.0, tolerance: 0.0\n",
      "  model = cd_fast.enet_coordinate_descent_gram(\n",
      "/Users/jklehm/source/causalml/.venv/lib/python3.12/site-packages/sklearn/linear_model/_coordinate_descent.py:681: ConvergenceWarning: Objective did not converge. You might want to increase the number of iterations. Duality gap: 0.0, tolerance: 0.0\n",
      "  model = cd_fast.enet_coordinate_descent_gram(\n",
      "/Users/jklehm/source/causalml/.venv/lib/python3.12/site-packages/sklearn/linear_model/_coordinate_descent.py:681: ConvergenceWarning: Objective did not converge. You might want to increase the number of iterations. Duality gap: 0.0, tolerance: 0.0\n",
      "  model = cd_fast.enet_coordinate_descent_gram(\n",
      "/Users/jklehm/source/causalml/.venv/lib/python3.12/site-packages/sklearn/linear_model/_coordinate_descent.py:681: ConvergenceWarning: Objective did not converge. You might want to increase the number of iterations. Duality gap: 0.0, tolerance: 0.0\n",
      "  model = cd_fast.enet_coordinate_descent_gram(\n",
      "/Users/jklehm/source/causalml/.venv/lib/python3.12/site-packages/sklearn/linear_model/_coordinate_descent.py:681: ConvergenceWarning: Objective did not converge. You might want to increase the number of iterations. Duality gap: 0.0, tolerance: 0.0\n",
      "  model = cd_fast.enet_coordinate_descent_gram(\n",
      "/Users/jklehm/source/causalml/.venv/lib/python3.12/site-packages/sklearn/linear_model/_coordinate_descent.py:681: ConvergenceWarning: Objective did not converge. You might want to increase the number of iterations. Duality gap: 0.0, tolerance: 0.0\n",
      "  model = cd_fast.enet_coordinate_descent_gram(\n",
      "/Users/jklehm/source/causalml/.venv/lib/python3.12/site-packages/sklearn/linear_model/_coordinate_descent.py:681: ConvergenceWarning: Objective did not converge. You might want to increase the number of iterations. Duality gap: 0.0, tolerance: 0.0\n",
      "  model = cd_fast.enet_coordinate_descent_gram(\n",
      "/Users/jklehm/source/causalml/.venv/lib/python3.12/site-packages/sklearn/linear_model/_coordinate_descent.py:681: ConvergenceWarning: Objective did not converge. You might want to increase the number of iterations. Duality gap: 0.0, tolerance: 0.0\n",
      "  model = cd_fast.enet_coordinate_descent_gram(\n",
      "/Users/jklehm/source/causalml/.venv/lib/python3.12/site-packages/sklearn/linear_model/_coordinate_descent.py:681: ConvergenceWarning: Objective did not converge. You might want to increase the number of iterations. Duality gap: 0.0, tolerance: 0.0\n",
      "  model = cd_fast.enet_coordinate_descent_gram(\n"
     ]
    }
   ],
   "execution_count": 30
  },
  {
   "cell_type": "code",
   "metadata": {
    "id": "Ph4FDYaQGCVl",
    "outputId": "b0f5abe1-0674-4fb6-8e56-7a2a735532b3",
    "colab": {
     "base_uri": "https://localhost:8080/",
     "height": 81
    },
    "ExecuteTime": {
     "end_time": "2025-02-06T07:15:43.141792Z",
     "start_time": "2025-02-06T07:15:43.135495Z"
    }
   },
   "source": [
    "summary(*res, X, Q, S, D, y, name='lassocv')"
   ],
   "outputs": [
    {
     "data": {
      "text/plain": [
       "         estimate    stderr    lower     upper     rmse y     r2 y    rmse W  \\\n",
       "lassocv -1.615433  0.260397 -2.12581 -1.105055  17.754416  0.02813  1.901504   \n",
       "\n",
       "         avg. r2 W    rmse V  avg. r2 V  \n",
       "lassocv   0.119346  0.817165   0.009419  "
      ],
      "text/html": [
       "<div>\n",
       "<style scoped>\n",
       "    .dataframe tbody tr th:only-of-type {\n",
       "        vertical-align: middle;\n",
       "    }\n",
       "\n",
       "    .dataframe tbody tr th {\n",
       "        vertical-align: top;\n",
       "    }\n",
       "\n",
       "    .dataframe thead th {\n",
       "        text-align: right;\n",
       "    }\n",
       "</style>\n",
       "<table border=\"1\" class=\"dataframe\">\n",
       "  <thead>\n",
       "    <tr style=\"text-align: right;\">\n",
       "      <th></th>\n",
       "      <th>estimate</th>\n",
       "      <th>stderr</th>\n",
       "      <th>lower</th>\n",
       "      <th>upper</th>\n",
       "      <th>rmse y</th>\n",
       "      <th>r2 y</th>\n",
       "      <th>rmse W</th>\n",
       "      <th>avg. r2 W</th>\n",
       "      <th>rmse V</th>\n",
       "      <th>avg. r2 V</th>\n",
       "    </tr>\n",
       "  </thead>\n",
       "  <tbody>\n",
       "    <tr>\n",
       "      <th>lassocv</th>\n",
       "      <td>-1.615433</td>\n",
       "      <td>0.260397</td>\n",
       "      <td>-2.12581</td>\n",
       "      <td>-1.105055</td>\n",
       "      <td>17.754416</td>\n",
       "      <td>0.02813</td>\n",
       "      <td>1.901504</td>\n",
       "      <td>0.119346</td>\n",
       "      <td>0.817165</td>\n",
       "      <td>0.009419</td>\n",
       "    </tr>\n",
       "  </tbody>\n",
       "</table>\n",
       "</div>"
      ]
     },
     "execution_count": 31,
     "metadata": {},
     "output_type": "execute_result"
    }
   ],
   "execution_count": 31
  }
 ],
 "metadata": {
  "colab": {
   "provenance": []
  },
  "kernelspec": {
   "display_name": "Python 3 (ipykernel)",
   "language": "python",
   "name": "python3"
  },
  "language_info": {
   "codemirror_mode": {
    "name": "ipython",
    "version": 3
   },
   "file_extension": ".py",
   "mimetype": "text/x-python",
   "name": "python",
   "nbconvert_exporter": "python",
   "pygments_lexer": "ipython3",
   "version": "3.11.5"
  }
 },
 "nbformat": 4,
 "nbformat_minor": 0
}
