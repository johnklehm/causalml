{
  "cells": [
    {
      "cell_type": "markdown",
      "metadata": {
        "id": "nWg8AX79c3SZ"
      },
      "source": [
        "# Negative (Proxy) Controls for Unobserved Confounding\n"
      ]
    },
    {
      "cell_type": "markdown",
      "metadata": {
        "id": "8TMUxMlF-QpJ"
      },
      "source": [
        "Consider the following SEM, where $Y$ is the outcome, $D$ is the treatment, $A$ is some unobserved confounding, and $Q$, $X$, $S$ are the observed covariates. In particular, $Q$ is considered to be the proxy control treatment as it a priori has no effect on the actual outcome $Y$, and $S$ is considered to be the proxy control outcome as it a priori is not affected by the actual treatment $D$. See also [An Introduction to Proximal Causal Learning](https://arxiv.org/pdf/2009.10982.pdf), for more information on this setting.\n",
        "\n",
        "![proxy_dag.png](https://raw.githubusercontent.com/stanford-msande228/winter23/main/proxy_dag.png)"
      ]
    },
    {
      "cell_type": "markdown",
      "metadata": {
        "id": "lAEWlzrqkH-T"
      },
      "source": [
        "Under linearity assumptions, the average treatment effect can be estimated by solving the vector of moment equations:\n",
        "\\begin{align}\n",
        "E\\left[(\\tilde{Y} - \\alpha \\tilde{D} - \\delta \\tilde{S}) \\left(\\begin{aligned}\\tilde{D}\\\\ \\tilde{Q}\\end{aligned}\\right) \\right] = 0\n",
        "\\end{align}\n",
        "where for every variable $V$ we denote with $\\tilde{V} = V - E[V|X]$.\n",
        "\n",
        "When the dimension of the proxy treatment variables $Q$ is larger than the dimension of proxy outcome variables $S$, then the above system of equations is over-identified. In these settings, we first project the \"technical instrument\" variables $\\tilde{V}=(\\tilde{D}, \\tilde{Q})$ onto the space of \"technical treatment\" variables $\\tilde{W}=(\\tilde{D}, \\tilde{S})$ and use the projected $\\tilde{V}$ as a new \"technical instrument\". In particular, we run an OLS regression of $\\tilde{W}$ on $\\tilde{V},$ and define $\\tilde{Z} = E[\\tilde{W}\\mid \\tilde{V}] = B \\tilde{V}$, where the $t$-th row $\\beta_t$ of the matrix $B$ is the OLS coefficient in the regression of $\\tilde{W}_t$ on $\\tilde{V}$. These new variables $\\tilde{Z}$, can also be viewed as engineered technical instrumental variables. Then we have the exactly identified system of equations:\n",
        "\\begin{align}\n",
        "E\\left[(\\tilde{Y} - \\alpha \\tilde{D} - \\delta \\tilde{S}) \\tilde{Z} \\right] := E\\left[(\\tilde{Y} - \\alpha \\tilde{D} - \\delta \\tilde{S}) B \\left(\\begin{aligned}\\tilde{D}\\\\ \\tilde{Q}\\end{aligned}\\right) \\right] = 0\n",
        "\\end{align}\n",
        "\n",
        "The solution to this system of equations is numerically equivalent to the following two stage algorithm:\n",
        "- Run OLS of $\\tilde{W}=(\\tilde{D}, \\tilde{S})$ on $\\tilde{V}=(\\tilde{D}, \\tilde{Q})$\n",
        "- Define $\\tilde{Z}$ as the predictions of the OLS model\n",
        "- Run OLS of $\\tilde{Y}$ on $\\tilde{Z}$.\n",
        "This is the well-known Two-Stage-Least-Squares (2SLS) algorithm for instrumental variable regression."
      ]
    },
    {
      "cell_type": "code",
      "execution_count": 1,
      "metadata": {
        "id": "gIw0pCdbGCVe"
      },
      "outputs": [],
      "source": [
        "# Import relevant packages\n",
        "import pandas as pd\n",
        "import numpy as np\n",
        "from sklearn.model_selection import cross_val_predict, KFold\n",
        "from sklearn.pipeline import make_pipeline\n",
        "from sklearn.linear_model import LassoCV, LinearRegression\n",
        "from sklearn.preprocessing import StandardScaler\n",
        "import patsy\n",
        "import warnings\n",
        "from sklearn.multioutput import MultiOutputRegressor\n",
        "warnings.simplefilter('ignore')\n",
        "np.random.seed(1234)"
      ]
    },
    {
      "cell_type": "markdown",
      "metadata": {
        "id": "cCfAVHdkIJ4w"
      },
      "source": [
        "# Analyzing Simulated Data\n",
        "\n",
        "First, let's evaluate the methods on simulated data generated from a linear SEM characterized by the above DAG. For this simulation, we'll set the ATE to 2."
      ]
    },
    {
      "cell_type": "code",
      "execution_count": 2,
      "metadata": {
        "id": "ATTykpRFAQPC"
      },
      "outputs": [],
      "source": [
        "# generate data from the SCM\n",
        "import numpy as np\n",
        "\n",
        "\n",
        "def gen_data(n, ate):\n",
        "    X = np.random.normal(0, 1, size=(n, 10))\n",
        "    A = 2 * X[:, [0]] + np.random.normal(0, 1, size=(n, 1))\n",
        "    Q = 10 * A + 2 * X[:, [0]] + np.random.normal(0, 1, size=(n, 1))\n",
        "    S = 5 * A + X[:, [0]] + np.random.normal(0, 1, size=(n, 1))\n",
        "    D = Q - A + 2 * X[:, [0]] + np.random.normal(0, 1, size=(n, 1))\n",
        "    Y = ate * D + 5 * A + 2 * S + 0.5 * X[:, [0]] + np.random.normal(0, 1, size=(n, 1))\n",
        "    return [X, A, Q, S, D, Y.flatten()]"
      ]
    },
    {
      "cell_type": "code",
      "execution_count": 3,
      "metadata": {
        "id": "YQa7gj3NB-uY"
      },
      "outputs": [],
      "source": [
        "X, A, Q, S, D, y = gen_data(5000, 2)"
      ]
    },
    {
      "cell_type": "markdown",
      "metadata": {
        "id": "HTX374msGCVg"
      },
      "source": [
        "We define the technical instrument $V=(D, Q)$ and technical treatment $W=(D, S)$. Estimating the treatement effect is then just a matter of solving an instrument variable regression problem with instruments $V$ and treatments $W$ and looking at the first coefficient associated with $D$."
      ]
    },
    {
      "cell_type": "code",
      "execution_count": 4,
      "metadata": {
        "id": "7Kc2jGXBGCVh"
      },
      "outputs": [],
      "source": [
        "V = np.hstack([D, Q])  # technical instruments 5000, 2\n",
        "W = np.hstack([D, S])  # technical treatments 5000, 2"
      ]
    },
    {
      "cell_type": "markdown",
      "metadata": {
        "id": "cDBfCHOdGCVh"
      },
      "source": [
        "### Partialling-Out X"
      ]
    },
    {
      "cell_type": "markdown",
      "metadata": {
        "id": "6XXRiDm4uePI"
      },
      "source": [
        "Here, we're partialling out using cross-validated lasso. Given that the setting is relatively low-dimensional and we know things are linear, we could just use OLS. Since we are cross-validating, we should also in principle be using cross-fitting and DML. We'll explore that in subsequent code blocks."
      ]
    },
    {
      "cell_type": "code",
      "execution_count": 5,
      "metadata": {
        "id": "Q5gbLM1cGCVi"
      },
      "outputs": [],
      "source": [
        "modely = make_pipeline(StandardScaler(), LassoCV())\n",
        "modelw = make_pipeline(StandardScaler(), LassoCV())\n",
        "modelv = make_pipeline(StandardScaler(), LassoCV())"
      ]
    },
    {
      "cell_type": "code",
      "execution_count": 6,
      "metadata": {
        "id": "koTICN8tGCVi"
      },
      "outputs": [],
      "source": [
        "resy = y - modely.fit(X, y).predict(X)\n",
        "resV = V - MultiOutputRegressor(modelv).fit(X, V).predict(X)  # residual instrument\n",
        "resW = W - MultiOutputRegressor(modelw).fit(X, W).predict(X)  # residual treatment"
      ]
    },
    {
      "cell_type": "markdown",
      "metadata": {
        "id": "t_6Pp6wlGCVi"
      },
      "source": [
        "### Approach 1: Solving the Moment Equation\n",
        "\n",
        "In this case since $V$ and $W$ have the same dimension, we can just solve the moment equation:\n",
        "\\begin{align}\n",
        "E\\left[(\\tilde{Y} - \\theta'\\tilde{W}) \\tilde{V} \\right] = 0\n",
        "\\end{align}"
      ]
    },
    {
      "cell_type": "code",
      "execution_count": 7,
      "metadata": {
        "id": "zYqYnbNnGCVi",
        "outputId": "71a8ba81-082b-4e5d-8213-87640872cfc1",
        "colab": {
          "base_uri": "https://localhost:8080/"
        }
      },
      "outputs": [
        {
          "output_type": "execute_result",
          "data": {
            "text/plain": [
              "2.0077178781690597"
            ]
          },
          "metadata": {},
          "execution_count": 7
        }
      ],
      "source": [
        "n = resV.shape[0]\n",
        "J = (resV.T @ resW) / n\n",
        "alpha = (resV.T @ resy) / n\n",
        "point = np.linalg.inv(J) @ alpha\n",
        "point[0]"
      ]
    },
    {
      "cell_type": "markdown",
      "metadata": {
        "id": "pRcfHVPau1V1"
      },
      "source": [
        "Let's compute a standard error"
      ]
    },
    {
      "cell_type": "code",
      "execution_count": 8,
      "metadata": {
        "id": "Iba9-9bxuzuO",
        "outputId": "e4790fd5-11ef-474a-80b8-60ed7fc599ec",
        "colab": {
          "base_uri": "https://localhost:8080/"
        }
      },
      "outputs": [
        {
          "output_type": "execute_result",
          "data": {
            "text/plain": [
              "0.01908453353024669"
            ]
          },
          "metadata": {},
          "execution_count": 8
        }
      ],
      "source": [
        "epsilon = resy - resW @ point\n",
        "epsilon.shape = (n, 1)\n",
        "ZtX = np.transpose(resV) @ resW\n",
        "epstmp = (epsilon**2) @ np.ones((1, resV.shape[1]))\n",
        "Zeps = resV * epstmp\n",
        "V = np.linalg.inv(ZtX) @ (np.transpose(Zeps) @ resV) @ np.linalg.inv(np.transpose(ZtX))\n",
        "se = np.sqrt(V[0, 0])\n",
        "se"
      ]
    },
    {
      "cell_type": "markdown",
      "metadata": {
        "id": "klRLTQuwGCVi"
      },
      "source": [
        "### Approach 2: Projecting the Instrument on the Treatment\n",
        "\n",
        "Alternatively, we could have constructed a technical instrument by calculating regression $W$ on $V$ with OLS and using $Z=E[W|V]$ as the new instrument."
      ]
    },
    {
      "cell_type": "code",
      "execution_count": 9,
      "metadata": {
        "id": "0DX6DdhgGCVi"
      },
      "outputs": [],
      "source": [
        "resZ = LinearRegression(fit_intercept=False).fit(resV, resW).predict(resV)"
      ]
    },
    {
      "cell_type": "code",
      "execution_count": 10,
      "metadata": {
        "id": "vb_li392GCVj",
        "outputId": "6daab153-bc42-4ae2-ff37-645ad913d9ec",
        "colab": {
          "base_uri": "https://localhost:8080/"
        }
      },
      "outputs": [
        {
          "output_type": "execute_result",
          "data": {
            "text/plain": [
              "2.0077178781689886"
            ]
          },
          "metadata": {},
          "execution_count": 10
        }
      ],
      "source": [
        "J = (resZ.T @ resW) / n\n",
        "alpha = (resZ.T @ resy) / n\n",
        "point = np.linalg.inv(J) @ alpha\n",
        "point[0]"
      ]
    },
    {
      "cell_type": "markdown",
      "metadata": {
        "id": "B1mxf76rGCVj"
      },
      "source": [
        "In this case we see that because we started with an \"exactly\" identified system, this projection step doesn't change the result. This is provably always the case."
      ]
    },
    {
      "cell_type": "markdown",
      "metadata": {
        "id": "5byhiYtK1YUv"
      },
      "source": [
        "We'll also get the same standard error."
      ]
    },
    {
      "cell_type": "code",
      "execution_count": 11,
      "metadata": {
        "id": "Ve9gW4MJ1bZ0",
        "outputId": "56906283-1c6f-4699-ad1c-4e508ded0bb4",
        "colab": {
          "base_uri": "https://localhost:8080/"
        }
      },
      "outputs": [
        {
          "output_type": "execute_result",
          "data": {
            "text/plain": [
              "0.01908453353024975"
            ]
          },
          "metadata": {},
          "execution_count": 11
        }
      ],
      "source": [
        "epsilon = resy - resW @ point\n",
        "epsilon.shape = (n, 1)\n",
        "ZtX = np.transpose(resZ) @ resW\n",
        "epstmp = (epsilon**2) @ np.ones((1, resZ.shape[1]))\n",
        "Zeps = resZ * epstmp\n",
        "V = np.linalg.inv(ZtX) @ (np.transpose(Zeps) @ resZ) @ np.linalg.inv(np.transpose(ZtX))\n",
        "se = np.sqrt(V[0, 0])\n",
        "se"
      ]
    },
    {
      "cell_type": "markdown",
      "metadata": {
        "id": "JaD28NkGGCVj"
      },
      "source": [
        "### Approach 3:  2SLS\n",
        "\n",
        "We can take one step further and use the two stage least squares approach, were we run OLS of $\\tilde{Z}$ on $\\tilde{y}$."
      ]
    },
    {
      "cell_type": "code",
      "execution_count": 12,
      "metadata": {
        "id": "3ZITM23jGCVj",
        "outputId": "774cf6ce-fc6e-4f85-f607-ea1163bfdcb5",
        "colab": {
          "base_uri": "https://localhost:8080/"
        }
      },
      "outputs": [
        {
          "output_type": "execute_result",
          "data": {
            "text/plain": [
              "2.007717878168999"
            ]
          },
          "metadata": {},
          "execution_count": 12
        }
      ],
      "source": [
        "LinearRegression(fit_intercept=False).fit(resZ, resy).coef_[0]"
      ]
    },
    {
      "cell_type": "markdown",
      "metadata": {
        "id": "-u7fID2KGCVj"
      },
      "source": [
        "We see that again this doesn't change the result, since 2SLS is equivalent to solving the moment condition in Approach 2.\n",
        "\n",
        "Note that the standard errors that come out of OLS here are incorrect. We would need to calculate them from the original moment condition as done in the previous code blocks."
      ]
    },
    {
      "cell_type": "markdown",
      "metadata": {
        "id": "jgG5SDhUGCVj"
      },
      "source": [
        "# With Cross-Fitting"
      ]
    },
    {
      "cell_type": "code",
      "execution_count": 13,
      "metadata": {
        "id": "L2HIw7NHGCVj"
      },
      "outputs": [],
      "source": [
        "def proxydml(X, Q, S, D, y, modely, modelw, modelv, *, nfolds):\n",
        "    '''\n",
        "    DML for the Partially Linear Model setting with cross-fitting\n",
        "\n",
        "    Input\n",
        "    -----\n",
        "    X: the controls\n",
        "    Q: the treatment proxy\n",
        "    S: the outcome proxy\n",
        "    D: the treatment\n",
        "    y: the outcome\n",
        "    modely: the ML model for predicting the outcome y\n",
        "    modelw: the ML model for predicting the technical treatments W=(D, S) from X\n",
        "    modelv: the ML model for predicting the technical instruments V=(D, Q) from X\n",
        "    nfolds: the number of folds in cross-fitting\n",
        "\n",
        "    Output\n",
        "    ------\n",
        "    point: the point estimate of the treatment effect of D on y\n",
        "    yhat: the cross-fitted predictions for the outcome y\n",
        "    What: the cross-fitted predictions for the technical treatments W\n",
        "    Vhat: the cross-fitted predictions for the technical instruments V\n",
        "    resy: the outcome residuals\n",
        "    resW: the treatment residuals\n",
        "    resV: the instrument residuals\n",
        "    '''\n",
        "    W = np.hstack([D, S])  # technical treatments\n",
        "    V = np.hstack([D, Q])  # technical instruments\n",
        "\n",
        "    cv = KFold(n_splits=nfolds, shuffle=True, random_state=123)  # shuffled k-folds\n",
        "    yhat = cross_val_predict(modely, X, y, cv=cv, n_jobs=-1)  # out-of-fold predictions for y\n",
        "    What = cross_val_predict(MultiOutputRegressor(modelw), X, W, cv=cv, n_jobs=-1)\n",
        "    Vhat = cross_val_predict(MultiOutputRegressor(modelv), X, V, cv=cv, n_jobs=-1)\n",
        "\n",
        "    # calculate outcome and treatment residuals\n",
        "    resy = y - yhat\n",
        "    resW = W - What\n",
        "    resV = V - Vhat\n",
        "\n",
        "    # project the residual instruments on the residual treatments\n",
        "    resZ = LinearRegression(fit_intercept=False).fit(resV, resW).predict(resV)\n",
        "\n",
        "    # final stage point estimate and standard error\n",
        "    n = resW.shape[0]\n",
        "    J = (resZ.T @ resW) / n\n",
        "    Jinv = np.linalg.inv(J)\n",
        "    alpha = (resZ.T @ resy) / n\n",
        "    params = Jinv @ alpha\n",
        "    point = params[0]\n",
        "\n",
        "    epsilon = resy - resW @ params\n",
        "    Sigma = (resZ * epsilon.reshape(-1, 1)**2).T @ resZ / n\n",
        "    V = Jinv @ Sigma @ np.transpose(Jinv)\n",
        "    stderr = np.sqrt(V[0, 0] / n)\n",
        "\n",
        "    return point, stderr, yhat, What, Vhat, resy, resW, resV"
      ]
    },
    {
      "cell_type": "code",
      "execution_count": 14,
      "metadata": {
        "id": "w9rT2wx4GCVk"
      },
      "outputs": [],
      "source": [
        "def summary(point, stderr, yhat, What, Vhat, resy, resW, resV, X, Q, S, D, y, *, name):\n",
        "    '''\n",
        "    Convenience summary function that takes the results of the DML function\n",
        "    and summarizes several estimation quantities and performance metrics.\n",
        "    '''\n",
        "    lower = point - 1.96 * stderr if stderr is not None else None\n",
        "    upper = point + 1.96 * stderr if stderr is not None else None\n",
        "    W = np.hstack([D, S])\n",
        "    V = np.hstack([D, Q])\n",
        "    return pd.DataFrame({'estimate': point,  # point estimate\n",
        "                         'stderr': stderr,  # standard error\n",
        "                         'lower': lower,  # lower end of 95% confidence interval\n",
        "                         'upper': upper,  # upper end of 95% confidence interval\n",
        "                         'rmse y': np.sqrt(np.mean(resy**2)),  # RMSE of model that predicts outcome y\n",
        "                         'r2 y': 1 - np.mean(resy**2) / np.var(y),\n",
        "                         'rmse W': np.sqrt(np.mean(resW**2)),  # RMSE of model that predicts treatments W\n",
        "                         'avg. r2 W': np.mean(1 - np.mean(resW**2, axis=0) / np.var(W, axis=0)),\n",
        "                         'rmse V': np.sqrt(np.mean(resV**2)),  # RMSE of model that predicts treatments V\n",
        "                         'avg. r2 V': np.mean(1 - np.mean(resV**2, axis=0) / np.var(V, axis=0)),\n",
        "                         }, index=[name])"
      ]
    },
    {
      "cell_type": "code",
      "execution_count": 15,
      "metadata": {
        "id": "90sA4huMGCVk"
      },
      "outputs": [],
      "source": [
        "X, A, Q, S, D, y = gen_data(5000, 2)"
      ]
    },
    {
      "cell_type": "code",
      "execution_count": 16,
      "metadata": {
        "id": "9r0XMo_WGCVk"
      },
      "outputs": [],
      "source": [
        "cv = KFold(n_splits=5, shuffle=True, random_state=123)\n",
        "modely = make_pipeline(StandardScaler(), LassoCV(cv=cv))\n",
        "modelw = make_pipeline(StandardScaler(), LassoCV(cv=cv))\n",
        "modelv = make_pipeline(StandardScaler(), LassoCV(cv=cv))\n",
        "res = proxydml(X, Q, S, D, y, modely, modelw, modelv, nfolds=3)"
      ]
    },
    {
      "cell_type": "code",
      "execution_count": 17,
      "metadata": {
        "id": "kwvZStUKGCVk",
        "outputId": "fd64f958-9a93-43f1-8efb-eb86c42e5367",
        "colab": {
          "base_uri": "https://localhost:8080/",
          "height": 81
        }
      },
      "outputs": [
        {
          "output_type": "execute_result",
          "data": {
            "text/plain": [
              "         estimate    stderr     lower    upper     rmse y      r2 y    rmse W  \\\n",
              "lassocv  2.008399  0.018817  1.971518  2.04528  33.870615  0.835667  7.532438   \n",
              "\n",
              "         avg. r2 W   rmse V  avg. r2 V  \n",
              "lassocv    0.83261  9.79693   0.834323  "
            ],
            "text/html": [
              "\n",
              "  <div id=\"df-8f5613b2-6626-47d3-9599-02bbf15cf402\" class=\"colab-df-container\">\n",
              "    <div>\n",
              "<style scoped>\n",
              "    .dataframe tbody tr th:only-of-type {\n",
              "        vertical-align: middle;\n",
              "    }\n",
              "\n",
              "    .dataframe tbody tr th {\n",
              "        vertical-align: top;\n",
              "    }\n",
              "\n",
              "    .dataframe thead th {\n",
              "        text-align: right;\n",
              "    }\n",
              "</style>\n",
              "<table border=\"1\" class=\"dataframe\">\n",
              "  <thead>\n",
              "    <tr style=\"text-align: right;\">\n",
              "      <th></th>\n",
              "      <th>estimate</th>\n",
              "      <th>stderr</th>\n",
              "      <th>lower</th>\n",
              "      <th>upper</th>\n",
              "      <th>rmse y</th>\n",
              "      <th>r2 y</th>\n",
              "      <th>rmse W</th>\n",
              "      <th>avg. r2 W</th>\n",
              "      <th>rmse V</th>\n",
              "      <th>avg. r2 V</th>\n",
              "    </tr>\n",
              "  </thead>\n",
              "  <tbody>\n",
              "    <tr>\n",
              "      <th>lassocv</th>\n",
              "      <td>2.008399</td>\n",
              "      <td>0.018817</td>\n",
              "      <td>1.971518</td>\n",
              "      <td>2.04528</td>\n",
              "      <td>33.870615</td>\n",
              "      <td>0.835667</td>\n",
              "      <td>7.532438</td>\n",
              "      <td>0.83261</td>\n",
              "      <td>9.79693</td>\n",
              "      <td>0.834323</td>\n",
              "    </tr>\n",
              "  </tbody>\n",
              "</table>\n",
              "</div>\n",
              "    <div class=\"colab-df-buttons\">\n",
              "\n",
              "  <div class=\"colab-df-container\">\n",
              "    <button class=\"colab-df-convert\" onclick=\"convertToInteractive('df-8f5613b2-6626-47d3-9599-02bbf15cf402')\"\n",
              "            title=\"Convert this dataframe to an interactive table.\"\n",
              "            style=\"display:none;\">\n",
              "\n",
              "  <svg xmlns=\"http://www.w3.org/2000/svg\" height=\"24px\" viewBox=\"0 -960 960 960\">\n",
              "    <path d=\"M120-120v-720h720v720H120Zm60-500h600v-160H180v160Zm220 220h160v-160H400v160Zm0 220h160v-160H400v160ZM180-400h160v-160H180v160Zm440 0h160v-160H620v160ZM180-180h160v-160H180v160Zm440 0h160v-160H620v160Z\"/>\n",
              "  </svg>\n",
              "    </button>\n",
              "\n",
              "  <style>\n",
              "    .colab-df-container {\n",
              "      display:flex;\n",
              "      gap: 12px;\n",
              "    }\n",
              "\n",
              "    .colab-df-convert {\n",
              "      background-color: #E8F0FE;\n",
              "      border: none;\n",
              "      border-radius: 50%;\n",
              "      cursor: pointer;\n",
              "      display: none;\n",
              "      fill: #1967D2;\n",
              "      height: 32px;\n",
              "      padding: 0 0 0 0;\n",
              "      width: 32px;\n",
              "    }\n",
              "\n",
              "    .colab-df-convert:hover {\n",
              "      background-color: #E2EBFA;\n",
              "      box-shadow: 0px 1px 2px rgba(60, 64, 67, 0.3), 0px 1px 3px 1px rgba(60, 64, 67, 0.15);\n",
              "      fill: #174EA6;\n",
              "    }\n",
              "\n",
              "    .colab-df-buttons div {\n",
              "      margin-bottom: 4px;\n",
              "    }\n",
              "\n",
              "    [theme=dark] .colab-df-convert {\n",
              "      background-color: #3B4455;\n",
              "      fill: #D2E3FC;\n",
              "    }\n",
              "\n",
              "    [theme=dark] .colab-df-convert:hover {\n",
              "      background-color: #434B5C;\n",
              "      box-shadow: 0px 1px 3px 1px rgba(0, 0, 0, 0.15);\n",
              "      filter: drop-shadow(0px 1px 2px rgba(0, 0, 0, 0.3));\n",
              "      fill: #FFFFFF;\n",
              "    }\n",
              "  </style>\n",
              "\n",
              "    <script>\n",
              "      const buttonEl =\n",
              "        document.querySelector('#df-8f5613b2-6626-47d3-9599-02bbf15cf402 button.colab-df-convert');\n",
              "      buttonEl.style.display =\n",
              "        google.colab.kernel.accessAllowed ? 'block' : 'none';\n",
              "\n",
              "      async function convertToInteractive(key) {\n",
              "        const element = document.querySelector('#df-8f5613b2-6626-47d3-9599-02bbf15cf402');\n",
              "        const dataTable =\n",
              "          await google.colab.kernel.invokeFunction('convertToInteractive',\n",
              "                                                    [key], {});\n",
              "        if (!dataTable) return;\n",
              "\n",
              "        const docLinkHtml = 'Like what you see? Visit the ' +\n",
              "          '<a target=\"_blank\" href=https://colab.research.google.com/notebooks/data_table.ipynb>data table notebook</a>'\n",
              "          + ' to learn more about interactive tables.';\n",
              "        element.innerHTML = '';\n",
              "        dataTable['output_type'] = 'display_data';\n",
              "        await google.colab.output.renderOutput(dataTable, element);\n",
              "        const docLink = document.createElement('div');\n",
              "        docLink.innerHTML = docLinkHtml;\n",
              "        element.appendChild(docLink);\n",
              "      }\n",
              "    </script>\n",
              "  </div>\n",
              "\n",
              "\n",
              "    </div>\n",
              "  </div>\n"
            ],
            "application/vnd.google.colaboratory.intrinsic+json": {
              "type": "dataframe",
              "summary": "{\n  \"name\": \"summary(*res, X, Q, S, D, y, name='lassocv')\",\n  \"rows\": 1,\n  \"fields\": [\n    {\n      \"column\": \"estimate\",\n      \"properties\": {\n        \"dtype\": \"number\",\n        \"std\": null,\n        \"min\": 2.008399036200775,\n        \"max\": 2.008399036200775,\n        \"num_unique_values\": 1,\n        \"samples\": [\n          2.008399036200775\n        ],\n        \"semantic_type\": \"\",\n        \"description\": \"\"\n      }\n    },\n    {\n      \"column\": \"stderr\",\n      \"properties\": {\n        \"dtype\": \"number\",\n        \"std\": null,\n        \"min\": 0.018816660442657823,\n        \"max\": 0.018816660442657823,\n        \"num_unique_values\": 1,\n        \"samples\": [\n          0.018816660442657823\n        ],\n        \"semantic_type\": \"\",\n        \"description\": \"\"\n      }\n    },\n    {\n      \"column\": \"lower\",\n      \"properties\": {\n        \"dtype\": \"number\",\n        \"std\": null,\n        \"min\": 1.9715183817331658,\n        \"max\": 1.9715183817331658,\n        \"num_unique_values\": 1,\n        \"samples\": [\n          1.9715183817331658\n        ],\n        \"semantic_type\": \"\",\n        \"description\": \"\"\n      }\n    },\n    {\n      \"column\": \"upper\",\n      \"properties\": {\n        \"dtype\": \"number\",\n        \"std\": null,\n        \"min\": 2.0452796906683846,\n        \"max\": 2.0452796906683846,\n        \"num_unique_values\": 1,\n        \"samples\": [\n          2.0452796906683846\n        ],\n        \"semantic_type\": \"\",\n        \"description\": \"\"\n      }\n    },\n    {\n      \"column\": \"rmse y\",\n      \"properties\": {\n        \"dtype\": \"number\",\n        \"std\": null,\n        \"min\": 33.8706148073484,\n        \"max\": 33.8706148073484,\n        \"num_unique_values\": 1,\n        \"samples\": [\n          33.8706148073484\n        ],\n        \"semantic_type\": \"\",\n        \"description\": \"\"\n      }\n    },\n    {\n      \"column\": \"r2 y\",\n      \"properties\": {\n        \"dtype\": \"number\",\n        \"std\": null,\n        \"min\": 0.8356674631550067,\n        \"max\": 0.8356674631550067,\n        \"num_unique_values\": 1,\n        \"samples\": [\n          0.8356674631550067\n        ],\n        \"semantic_type\": \"\",\n        \"description\": \"\"\n      }\n    },\n    {\n      \"column\": \"rmse W\",\n      \"properties\": {\n        \"dtype\": \"number\",\n        \"std\": null,\n        \"min\": 7.532438310349681,\n        \"max\": 7.532438310349681,\n        \"num_unique_values\": 1,\n        \"samples\": [\n          7.532438310349681\n        ],\n        \"semantic_type\": \"\",\n        \"description\": \"\"\n      }\n    },\n    {\n      \"column\": \"avg. r2 W\",\n      \"properties\": {\n        \"dtype\": \"number\",\n        \"std\": null,\n        \"min\": 0.8326097389770742,\n        \"max\": 0.8326097389770742,\n        \"num_unique_values\": 1,\n        \"samples\": [\n          0.8326097389770742\n        ],\n        \"semantic_type\": \"\",\n        \"description\": \"\"\n      }\n    },\n    {\n      \"column\": \"rmse V\",\n      \"properties\": {\n        \"dtype\": \"number\",\n        \"std\": null,\n        \"min\": 9.796929611659968,\n        \"max\": 9.796929611659968,\n        \"num_unique_values\": 1,\n        \"samples\": [\n          9.796929611659968\n        ],\n        \"semantic_type\": \"\",\n        \"description\": \"\"\n      }\n    },\n    {\n      \"column\": \"avg. r2 V\",\n      \"properties\": {\n        \"dtype\": \"number\",\n        \"std\": null,\n        \"min\": 0.8343227057040111,\n        \"max\": 0.8343227057040111,\n        \"num_unique_values\": 1,\n        \"samples\": [\n          0.8343227057040111\n        ],\n        \"semantic_type\": \"\",\n        \"description\": \"\"\n      }\n    }\n  ]\n}"
            }
          },
          "metadata": {},
          "execution_count": 17
        }
      ],
      "source": [
        "summary(*res, X, Q, S, D, y, name='lassocv')"
      ]
    },
    {
      "cell_type": "code",
      "execution_count": 18,
      "metadata": {
        "id": "YJ2QbI4-GCVk",
        "outputId": "d0ced9fb-70ce-4c21-b44b-f1a1889d760b",
        "colab": {
          "base_uri": "https://localhost:8080/"
        }
      },
      "outputs": [
        {
          "output_type": "stream",
          "name": "stderr",
          "text": [
            "[Parallel(n_jobs=-1)]: Using backend LokyBackend with 2 concurrent workers.\n",
            "[Parallel(n_jobs=-1)]: Done  28 tasks      | elapsed:   48.3s\n",
            "[Parallel(n_jobs=-1)]: Done 100 out of 100 | elapsed:  2.1min finished\n"
          ]
        }
      ],
      "source": [
        "from joblib import Parallel, delayed\n",
        "\n",
        "\n",
        "def exp(it):\n",
        "    np.random.seed(it)\n",
        "    X, A, Q, S, D, y = gen_data(5000, 2)\n",
        "    cv = KFold(n_splits=5, shuffle=True, random_state=it)\n",
        "    lassoy = make_pipeline(StandardScaler(), LassoCV(cv=cv))\n",
        "    lassow = make_pipeline(StandardScaler(), LassoCV(cv=cv))\n",
        "    lassov = make_pipeline(StandardScaler(), LassoCV(cv=cv))\n",
        "    res = proxydml(X, Q, S, D, y, lassoy, lassow, lassov, nfolds=3)\n",
        "    point = res[0]\n",
        "    stderr = 0 if res[1] is None else res[1]  # this will be fixed once stderr is implemented!\n",
        "    return point, point - 1.96 * stderr, point + 1.96 * stderr\n",
        "\n",
        "\n",
        "results = Parallel(n_jobs=-1, verbose=3)(delayed(exp)(it) for it in range(100))"
      ]
    },
    {
      "cell_type": "code",
      "execution_count": 19,
      "metadata": {
        "id": "Xq8E10lGGCVk"
      },
      "outputs": [],
      "source": [
        "points, lowers, uppers = zip(*results)"
      ]
    },
    {
      "cell_type": "code",
      "execution_count": 20,
      "metadata": {
        "id": "wTBkvJkvGCVk",
        "outputId": "e3c877d3-4a21-4449-b51c-b6284376e588",
        "colab": {
          "base_uri": "https://localhost:8080/"
        }
      },
      "outputs": [
        {
          "output_type": "execute_result",
          "data": {
            "text/plain": [
              "0.92"
            ]
          },
          "metadata": {},
          "execution_count": 20
        }
      ],
      "source": [
        "coverage = np.mean((np.array(lowers) <= 2) & (2 <= np.array(uppers)))\n",
        "coverage"
      ]
    },
    {
      "cell_type": "code",
      "execution_count": 21,
      "metadata": {
        "id": "PNcRBZORGCVk",
        "outputId": "f268dede-6d74-4d6b-e50f-dd4aee40cd88",
        "colab": {
          "base_uri": "https://localhost:8080/"
        }
      },
      "outputs": [
        {
          "output_type": "execute_result",
          "data": {
            "text/plain": [
              "0.023008098098114948"
            ]
          },
          "metadata": {},
          "execution_count": 21
        }
      ],
      "source": [
        "np.std(points)"
      ]
    },
    {
      "cell_type": "code",
      "execution_count": 22,
      "metadata": {
        "id": "-XRJ06vKGCVl",
        "outputId": "9a069c54-cb1f-4b5a-d318-eeecc8817fcf",
        "colab": {
          "base_uri": "https://localhost:8080/"
        }
      },
      "outputs": [
        {
          "output_type": "execute_result",
          "data": {
            "text/plain": [
              "2.001815014573533"
            ]
          },
          "metadata": {},
          "execution_count": 22
        }
      ],
      "source": [
        "np.mean(points)"
      ]
    },
    {
      "cell_type": "markdown",
      "metadata": {
        "id": "lGrVzQVlI2IH"
      },
      "source": [
        "## Real Data - Effects of Smoking on Birth Weight"
      ]
    },
    {
      "cell_type": "markdown",
      "metadata": {
        "id": "BS0NRRjy6lPq"
      },
      "source": [
        "In this study, we will be studying the effects of smoking on baby weight. We will consider the following stylized setup:\n",
        "\n",
        "Outcome ($Y$): baby weight\n",
        "\n",
        "Treatment ($D$): smoking\n",
        "\n",
        "Unobserved confounding ($A$): family income\n",
        "\n",
        "The observed covariates are put in to 3 groups:\n",
        "\n",
        "\n",
        "*   Proxy treatment control ($Q$): mother's education\n",
        "*   Proxy outcome control ($S$): parity (total number of previous pregnancies)\n",
        "*   Other observed covariates ($X$): mother's race and age\n",
        "\n",
        "\n",
        "Education serves as a proxy treatment control $Q$ because it reflects unobserved confounding due to household income $A$ but has no direct medical effect on birth weight $Y$. Parity serves as a proxy outcome control $S$ because family size reflects household income $A$ but is not directly caused by smoking $D$ or education $Q$.\n",
        "\n",
        "A description of the data used can be found [here](https://www.stat.berkeley.edu/users/statlabs/data/babies.readme)."
      ]
    },
    {
      "cell_type": "code",
      "execution_count": 23,
      "metadata": {
        "id": "165kCbYoY35y",
        "outputId": "cb6b25fe-bc2f-4058-c165-c3bb616af2ab",
        "colab": {
          "base_uri": "https://localhost:8080/",
          "height": 424
        }
      },
      "outputs": [
        {
          "output_type": "execute_result",
          "data": {
            "text/plain": [
              "        id  pluralty  outcome  date  gestation  sex   wt  parity  race  age  \\\n",
              "0       15         5        1  1411        284    1  120       1     8   27   \n",
              "1       20         5        1  1499        282    1  113       2     0   33   \n",
              "2       58         5        1  1576        279    1  128       1     0   28   \n",
              "3       61         5        1  1504        999    1  123       2     0   36   \n",
              "4       72         5        1  1425        282    1  108       1     0   23   \n",
              "...    ...       ...      ...   ...        ...  ...  ...     ...   ...  ...   \n",
              "1231  9153         5        1  1672        275    1  113       0     0   27   \n",
              "1232  9163         5        1  1712        265    1  128       1     0   24   \n",
              "1233  9213         5        1  1672        291    1  130       4     1   30   \n",
              "1234  9229         5        1  1680        281    1  125       0     0   21   \n",
              "1235  9263         5        1  1668        297    1  117       4     0   38   \n",
              "\n",
              "      ...  drace  dage  ded  dht  dwt  marital  inc  smoke  time  number  \n",
              "0     ...      8    31    5   65  110        1    1      0     0       0  \n",
              "1     ...      0    38    5   70  148        1    4      0     0       0  \n",
              "2     ...      5    32    1   99  999        1    2      1     1       1  \n",
              "3     ...      3    43    4   68  197        1    8      3     5       5  \n",
              "4     ...      0    24    5   99  999        1    1      1     1       5  \n",
              "...   ...    ...   ...  ...  ...  ...      ...  ...    ...   ...     ...  \n",
              "1231  ...      0    32    4   72  190        1    4      0     0       0  \n",
              "1232  ...      0    24    5   73  170        1    3      0     0       0  \n",
              "1233  ...      2    30    5   70  180        1    3      1     1       2  \n",
              "1234  ...      0    27    5   71  165        1    1      0     0       0  \n",
              "1235  ...      4    34    1   68  172        1    6      0     0       0  \n",
              "\n",
              "[1236 rows x 23 columns]"
            ],
            "text/html": [
              "\n",
              "  <div id=\"df-8c74f925-138c-4553-b840-6fa0773ce996\" class=\"colab-df-container\">\n",
              "    <div>\n",
              "<style scoped>\n",
              "    .dataframe tbody tr th:only-of-type {\n",
              "        vertical-align: middle;\n",
              "    }\n",
              "\n",
              "    .dataframe tbody tr th {\n",
              "        vertical-align: top;\n",
              "    }\n",
              "\n",
              "    .dataframe thead th {\n",
              "        text-align: right;\n",
              "    }\n",
              "</style>\n",
              "<table border=\"1\" class=\"dataframe\">\n",
              "  <thead>\n",
              "    <tr style=\"text-align: right;\">\n",
              "      <th></th>\n",
              "      <th>id</th>\n",
              "      <th>pluralty</th>\n",
              "      <th>outcome</th>\n",
              "      <th>date</th>\n",
              "      <th>gestation</th>\n",
              "      <th>sex</th>\n",
              "      <th>wt</th>\n",
              "      <th>parity</th>\n",
              "      <th>race</th>\n",
              "      <th>age</th>\n",
              "      <th>...</th>\n",
              "      <th>drace</th>\n",
              "      <th>dage</th>\n",
              "      <th>ded</th>\n",
              "      <th>dht</th>\n",
              "      <th>dwt</th>\n",
              "      <th>marital</th>\n",
              "      <th>inc</th>\n",
              "      <th>smoke</th>\n",
              "      <th>time</th>\n",
              "      <th>number</th>\n",
              "    </tr>\n",
              "  </thead>\n",
              "  <tbody>\n",
              "    <tr>\n",
              "      <th>0</th>\n",
              "      <td>15</td>\n",
              "      <td>5</td>\n",
              "      <td>1</td>\n",
              "      <td>1411</td>\n",
              "      <td>284</td>\n",
              "      <td>1</td>\n",
              "      <td>120</td>\n",
              "      <td>1</td>\n",
              "      <td>8</td>\n",
              "      <td>27</td>\n",
              "      <td>...</td>\n",
              "      <td>8</td>\n",
              "      <td>31</td>\n",
              "      <td>5</td>\n",
              "      <td>65</td>\n",
              "      <td>110</td>\n",
              "      <td>1</td>\n",
              "      <td>1</td>\n",
              "      <td>0</td>\n",
              "      <td>0</td>\n",
              "      <td>0</td>\n",
              "    </tr>\n",
              "    <tr>\n",
              "      <th>1</th>\n",
              "      <td>20</td>\n",
              "      <td>5</td>\n",
              "      <td>1</td>\n",
              "      <td>1499</td>\n",
              "      <td>282</td>\n",
              "      <td>1</td>\n",
              "      <td>113</td>\n",
              "      <td>2</td>\n",
              "      <td>0</td>\n",
              "      <td>33</td>\n",
              "      <td>...</td>\n",
              "      <td>0</td>\n",
              "      <td>38</td>\n",
              "      <td>5</td>\n",
              "      <td>70</td>\n",
              "      <td>148</td>\n",
              "      <td>1</td>\n",
              "      <td>4</td>\n",
              "      <td>0</td>\n",
              "      <td>0</td>\n",
              "      <td>0</td>\n",
              "    </tr>\n",
              "    <tr>\n",
              "      <th>2</th>\n",
              "      <td>58</td>\n",
              "      <td>5</td>\n",
              "      <td>1</td>\n",
              "      <td>1576</td>\n",
              "      <td>279</td>\n",
              "      <td>1</td>\n",
              "      <td>128</td>\n",
              "      <td>1</td>\n",
              "      <td>0</td>\n",
              "      <td>28</td>\n",
              "      <td>...</td>\n",
              "      <td>5</td>\n",
              "      <td>32</td>\n",
              "      <td>1</td>\n",
              "      <td>99</td>\n",
              "      <td>999</td>\n",
              "      <td>1</td>\n",
              "      <td>2</td>\n",
              "      <td>1</td>\n",
              "      <td>1</td>\n",
              "      <td>1</td>\n",
              "    </tr>\n",
              "    <tr>\n",
              "      <th>3</th>\n",
              "      <td>61</td>\n",
              "      <td>5</td>\n",
              "      <td>1</td>\n",
              "      <td>1504</td>\n",
              "      <td>999</td>\n",
              "      <td>1</td>\n",
              "      <td>123</td>\n",
              "      <td>2</td>\n",
              "      <td>0</td>\n",
              "      <td>36</td>\n",
              "      <td>...</td>\n",
              "      <td>3</td>\n",
              "      <td>43</td>\n",
              "      <td>4</td>\n",
              "      <td>68</td>\n",
              "      <td>197</td>\n",
              "      <td>1</td>\n",
              "      <td>8</td>\n",
              "      <td>3</td>\n",
              "      <td>5</td>\n",
              "      <td>5</td>\n",
              "    </tr>\n",
              "    <tr>\n",
              "      <th>4</th>\n",
              "      <td>72</td>\n",
              "      <td>5</td>\n",
              "      <td>1</td>\n",
              "      <td>1425</td>\n",
              "      <td>282</td>\n",
              "      <td>1</td>\n",
              "      <td>108</td>\n",
              "      <td>1</td>\n",
              "      <td>0</td>\n",
              "      <td>23</td>\n",
              "      <td>...</td>\n",
              "      <td>0</td>\n",
              "      <td>24</td>\n",
              "      <td>5</td>\n",
              "      <td>99</td>\n",
              "      <td>999</td>\n",
              "      <td>1</td>\n",
              "      <td>1</td>\n",
              "      <td>1</td>\n",
              "      <td>1</td>\n",
              "      <td>5</td>\n",
              "    </tr>\n",
              "    <tr>\n",
              "      <th>...</th>\n",
              "      <td>...</td>\n",
              "      <td>...</td>\n",
              "      <td>...</td>\n",
              "      <td>...</td>\n",
              "      <td>...</td>\n",
              "      <td>...</td>\n",
              "      <td>...</td>\n",
              "      <td>...</td>\n",
              "      <td>...</td>\n",
              "      <td>...</td>\n",
              "      <td>...</td>\n",
              "      <td>...</td>\n",
              "      <td>...</td>\n",
              "      <td>...</td>\n",
              "      <td>...</td>\n",
              "      <td>...</td>\n",
              "      <td>...</td>\n",
              "      <td>...</td>\n",
              "      <td>...</td>\n",
              "      <td>...</td>\n",
              "      <td>...</td>\n",
              "    </tr>\n",
              "    <tr>\n",
              "      <th>1231</th>\n",
              "      <td>9153</td>\n",
              "      <td>5</td>\n",
              "      <td>1</td>\n",
              "      <td>1672</td>\n",
              "      <td>275</td>\n",
              "      <td>1</td>\n",
              "      <td>113</td>\n",
              "      <td>0</td>\n",
              "      <td>0</td>\n",
              "      <td>27</td>\n",
              "      <td>...</td>\n",
              "      <td>0</td>\n",
              "      <td>32</td>\n",
              "      <td>4</td>\n",
              "      <td>72</td>\n",
              "      <td>190</td>\n",
              "      <td>1</td>\n",
              "      <td>4</td>\n",
              "      <td>0</td>\n",
              "      <td>0</td>\n",
              "      <td>0</td>\n",
              "    </tr>\n",
              "    <tr>\n",
              "      <th>1232</th>\n",
              "      <td>9163</td>\n",
              "      <td>5</td>\n",
              "      <td>1</td>\n",
              "      <td>1712</td>\n",
              "      <td>265</td>\n",
              "      <td>1</td>\n",
              "      <td>128</td>\n",
              "      <td>1</td>\n",
              "      <td>0</td>\n",
              "      <td>24</td>\n",
              "      <td>...</td>\n",
              "      <td>0</td>\n",
              "      <td>24</td>\n",
              "      <td>5</td>\n",
              "      <td>73</td>\n",
              "      <td>170</td>\n",
              "      <td>1</td>\n",
              "      <td>3</td>\n",
              "      <td>0</td>\n",
              "      <td>0</td>\n",
              "      <td>0</td>\n",
              "    </tr>\n",
              "    <tr>\n",
              "      <th>1233</th>\n",
              "      <td>9213</td>\n",
              "      <td>5</td>\n",
              "      <td>1</td>\n",
              "      <td>1672</td>\n",
              "      <td>291</td>\n",
              "      <td>1</td>\n",
              "      <td>130</td>\n",
              "      <td>4</td>\n",
              "      <td>1</td>\n",
              "      <td>30</td>\n",
              "      <td>...</td>\n",
              "      <td>2</td>\n",
              "      <td>30</td>\n",
              "      <td>5</td>\n",
              "      <td>70</td>\n",
              "      <td>180</td>\n",
              "      <td>1</td>\n",
              "      <td>3</td>\n",
              "      <td>1</td>\n",
              "      <td>1</td>\n",
              "      <td>2</td>\n",
              "    </tr>\n",
              "    <tr>\n",
              "      <th>1234</th>\n",
              "      <td>9229</td>\n",
              "      <td>5</td>\n",
              "      <td>1</td>\n",
              "      <td>1680</td>\n",
              "      <td>281</td>\n",
              "      <td>1</td>\n",
              "      <td>125</td>\n",
              "      <td>0</td>\n",
              "      <td>0</td>\n",
              "      <td>21</td>\n",
              "      <td>...</td>\n",
              "      <td>0</td>\n",
              "      <td>27</td>\n",
              "      <td>5</td>\n",
              "      <td>71</td>\n",
              "      <td>165</td>\n",
              "      <td>1</td>\n",
              "      <td>1</td>\n",
              "      <td>0</td>\n",
              "      <td>0</td>\n",
              "      <td>0</td>\n",
              "    </tr>\n",
              "    <tr>\n",
              "      <th>1235</th>\n",
              "      <td>9263</td>\n",
              "      <td>5</td>\n",
              "      <td>1</td>\n",
              "      <td>1668</td>\n",
              "      <td>297</td>\n",
              "      <td>1</td>\n",
              "      <td>117</td>\n",
              "      <td>4</td>\n",
              "      <td>0</td>\n",
              "      <td>38</td>\n",
              "      <td>...</td>\n",
              "      <td>4</td>\n",
              "      <td>34</td>\n",
              "      <td>1</td>\n",
              "      <td>68</td>\n",
              "      <td>172</td>\n",
              "      <td>1</td>\n",
              "      <td>6</td>\n",
              "      <td>0</td>\n",
              "      <td>0</td>\n",
              "      <td>0</td>\n",
              "    </tr>\n",
              "  </tbody>\n",
              "</table>\n",
              "<p>1236 rows × 23 columns</p>\n",
              "</div>\n",
              "    <div class=\"colab-df-buttons\">\n",
              "\n",
              "  <div class=\"colab-df-container\">\n",
              "    <button class=\"colab-df-convert\" onclick=\"convertToInteractive('df-8c74f925-138c-4553-b840-6fa0773ce996')\"\n",
              "            title=\"Convert this dataframe to an interactive table.\"\n",
              "            style=\"display:none;\">\n",
              "\n",
              "  <svg xmlns=\"http://www.w3.org/2000/svg\" height=\"24px\" viewBox=\"0 -960 960 960\">\n",
              "    <path d=\"M120-120v-720h720v720H120Zm60-500h600v-160H180v160Zm220 220h160v-160H400v160Zm0 220h160v-160H400v160ZM180-400h160v-160H180v160Zm440 0h160v-160H620v160ZM180-180h160v-160H180v160Zm440 0h160v-160H620v160Z\"/>\n",
              "  </svg>\n",
              "    </button>\n",
              "\n",
              "  <style>\n",
              "    .colab-df-container {\n",
              "      display:flex;\n",
              "      gap: 12px;\n",
              "    }\n",
              "\n",
              "    .colab-df-convert {\n",
              "      background-color: #E8F0FE;\n",
              "      border: none;\n",
              "      border-radius: 50%;\n",
              "      cursor: pointer;\n",
              "      display: none;\n",
              "      fill: #1967D2;\n",
              "      height: 32px;\n",
              "      padding: 0 0 0 0;\n",
              "      width: 32px;\n",
              "    }\n",
              "\n",
              "    .colab-df-convert:hover {\n",
              "      background-color: #E2EBFA;\n",
              "      box-shadow: 0px 1px 2px rgba(60, 64, 67, 0.3), 0px 1px 3px 1px rgba(60, 64, 67, 0.15);\n",
              "      fill: #174EA6;\n",
              "    }\n",
              "\n",
              "    .colab-df-buttons div {\n",
              "      margin-bottom: 4px;\n",
              "    }\n",
              "\n",
              "    [theme=dark] .colab-df-convert {\n",
              "      background-color: #3B4455;\n",
              "      fill: #D2E3FC;\n",
              "    }\n",
              "\n",
              "    [theme=dark] .colab-df-convert:hover {\n",
              "      background-color: #434B5C;\n",
              "      box-shadow: 0px 1px 3px 1px rgba(0, 0, 0, 0.15);\n",
              "      filter: drop-shadow(0px 1px 2px rgba(0, 0, 0, 0.3));\n",
              "      fill: #FFFFFF;\n",
              "    }\n",
              "  </style>\n",
              "\n",
              "    <script>\n",
              "      const buttonEl =\n",
              "        document.querySelector('#df-8c74f925-138c-4553-b840-6fa0773ce996 button.colab-df-convert');\n",
              "      buttonEl.style.display =\n",
              "        google.colab.kernel.accessAllowed ? 'block' : 'none';\n",
              "\n",
              "      async function convertToInteractive(key) {\n",
              "        const element = document.querySelector('#df-8c74f925-138c-4553-b840-6fa0773ce996');\n",
              "        const dataTable =\n",
              "          await google.colab.kernel.invokeFunction('convertToInteractive',\n",
              "                                                    [key], {});\n",
              "        if (!dataTable) return;\n",
              "\n",
              "        const docLinkHtml = 'Like what you see? Visit the ' +\n",
              "          '<a target=\"_blank\" href=https://colab.research.google.com/notebooks/data_table.ipynb>data table notebook</a>'\n",
              "          + ' to learn more about interactive tables.';\n",
              "        element.innerHTML = '';\n",
              "        dataTable['output_type'] = 'display_data';\n",
              "        await google.colab.output.renderOutput(dataTable, element);\n",
              "        const docLink = document.createElement('div');\n",
              "        docLink.innerHTML = docLinkHtml;\n",
              "        element.appendChild(docLink);\n",
              "      }\n",
              "    </script>\n",
              "  </div>\n",
              "\n",
              "\n",
              "<div id=\"df-a2d12db9-4275-49aa-9873-1d71a9b5557e\">\n",
              "  <button class=\"colab-df-quickchart\" onclick=\"quickchart('df-a2d12db9-4275-49aa-9873-1d71a9b5557e')\"\n",
              "            title=\"Suggest charts\"\n",
              "            style=\"display:none;\">\n",
              "\n",
              "<svg xmlns=\"http://www.w3.org/2000/svg\" height=\"24px\"viewBox=\"0 0 24 24\"\n",
              "     width=\"24px\">\n",
              "    <g>\n",
              "        <path d=\"M19 3H5c-1.1 0-2 .9-2 2v14c0 1.1.9 2 2 2h14c1.1 0 2-.9 2-2V5c0-1.1-.9-2-2-2zM9 17H7v-7h2v7zm4 0h-2V7h2v10zm4 0h-2v-4h2v4z\"/>\n",
              "    </g>\n",
              "</svg>\n",
              "  </button>\n",
              "\n",
              "<style>\n",
              "  .colab-df-quickchart {\n",
              "      --bg-color: #E8F0FE;\n",
              "      --fill-color: #1967D2;\n",
              "      --hover-bg-color: #E2EBFA;\n",
              "      --hover-fill-color: #174EA6;\n",
              "      --disabled-fill-color: #AAA;\n",
              "      --disabled-bg-color: #DDD;\n",
              "  }\n",
              "\n",
              "  [theme=dark] .colab-df-quickchart {\n",
              "      --bg-color: #3B4455;\n",
              "      --fill-color: #D2E3FC;\n",
              "      --hover-bg-color: #434B5C;\n",
              "      --hover-fill-color: #FFFFFF;\n",
              "      --disabled-bg-color: #3B4455;\n",
              "      --disabled-fill-color: #666;\n",
              "  }\n",
              "\n",
              "  .colab-df-quickchart {\n",
              "    background-color: var(--bg-color);\n",
              "    border: none;\n",
              "    border-radius: 50%;\n",
              "    cursor: pointer;\n",
              "    display: none;\n",
              "    fill: var(--fill-color);\n",
              "    height: 32px;\n",
              "    padding: 0;\n",
              "    width: 32px;\n",
              "  }\n",
              "\n",
              "  .colab-df-quickchart:hover {\n",
              "    background-color: var(--hover-bg-color);\n",
              "    box-shadow: 0 1px 2px rgba(60, 64, 67, 0.3), 0 1px 3px 1px rgba(60, 64, 67, 0.15);\n",
              "    fill: var(--button-hover-fill-color);\n",
              "  }\n",
              "\n",
              "  .colab-df-quickchart-complete:disabled,\n",
              "  .colab-df-quickchart-complete:disabled:hover {\n",
              "    background-color: var(--disabled-bg-color);\n",
              "    fill: var(--disabled-fill-color);\n",
              "    box-shadow: none;\n",
              "  }\n",
              "\n",
              "  .colab-df-spinner {\n",
              "    border: 2px solid var(--fill-color);\n",
              "    border-color: transparent;\n",
              "    border-bottom-color: var(--fill-color);\n",
              "    animation:\n",
              "      spin 1s steps(1) infinite;\n",
              "  }\n",
              "\n",
              "  @keyframes spin {\n",
              "    0% {\n",
              "      border-color: transparent;\n",
              "      border-bottom-color: var(--fill-color);\n",
              "      border-left-color: var(--fill-color);\n",
              "    }\n",
              "    20% {\n",
              "      border-color: transparent;\n",
              "      border-left-color: var(--fill-color);\n",
              "      border-top-color: var(--fill-color);\n",
              "    }\n",
              "    30% {\n",
              "      border-color: transparent;\n",
              "      border-left-color: var(--fill-color);\n",
              "      border-top-color: var(--fill-color);\n",
              "      border-right-color: var(--fill-color);\n",
              "    }\n",
              "    40% {\n",
              "      border-color: transparent;\n",
              "      border-right-color: var(--fill-color);\n",
              "      border-top-color: var(--fill-color);\n",
              "    }\n",
              "    60% {\n",
              "      border-color: transparent;\n",
              "      border-right-color: var(--fill-color);\n",
              "    }\n",
              "    80% {\n",
              "      border-color: transparent;\n",
              "      border-right-color: var(--fill-color);\n",
              "      border-bottom-color: var(--fill-color);\n",
              "    }\n",
              "    90% {\n",
              "      border-color: transparent;\n",
              "      border-bottom-color: var(--fill-color);\n",
              "    }\n",
              "  }\n",
              "</style>\n",
              "\n",
              "  <script>\n",
              "    async function quickchart(key) {\n",
              "      const quickchartButtonEl =\n",
              "        document.querySelector('#' + key + ' button');\n",
              "      quickchartButtonEl.disabled = true;  // To prevent multiple clicks.\n",
              "      quickchartButtonEl.classList.add('colab-df-spinner');\n",
              "      try {\n",
              "        const charts = await google.colab.kernel.invokeFunction(\n",
              "            'suggestCharts', [key], {});\n",
              "      } catch (error) {\n",
              "        console.error('Error during call to suggestCharts:', error);\n",
              "      }\n",
              "      quickchartButtonEl.classList.remove('colab-df-spinner');\n",
              "      quickchartButtonEl.classList.add('colab-df-quickchart-complete');\n",
              "    }\n",
              "    (() => {\n",
              "      let quickchartButtonEl =\n",
              "        document.querySelector('#df-a2d12db9-4275-49aa-9873-1d71a9b5557e button');\n",
              "      quickchartButtonEl.style.display =\n",
              "        google.colab.kernel.accessAllowed ? 'block' : 'none';\n",
              "    })();\n",
              "  </script>\n",
              "</div>\n",
              "\n",
              "  <div id=\"id_8742d28f-02c5-4d02-a41e-3843e0e6658a\">\n",
              "    <style>\n",
              "      .colab-df-generate {\n",
              "        background-color: #E8F0FE;\n",
              "        border: none;\n",
              "        border-radius: 50%;\n",
              "        cursor: pointer;\n",
              "        display: none;\n",
              "        fill: #1967D2;\n",
              "        height: 32px;\n",
              "        padding: 0 0 0 0;\n",
              "        width: 32px;\n",
              "      }\n",
              "\n",
              "      .colab-df-generate:hover {\n",
              "        background-color: #E2EBFA;\n",
              "        box-shadow: 0px 1px 2px rgba(60, 64, 67, 0.3), 0px 1px 3px 1px rgba(60, 64, 67, 0.15);\n",
              "        fill: #174EA6;\n",
              "      }\n",
              "\n",
              "      [theme=dark] .colab-df-generate {\n",
              "        background-color: #3B4455;\n",
              "        fill: #D2E3FC;\n",
              "      }\n",
              "\n",
              "      [theme=dark] .colab-df-generate:hover {\n",
              "        background-color: #434B5C;\n",
              "        box-shadow: 0px 1px 3px 1px rgba(0, 0, 0, 0.15);\n",
              "        filter: drop-shadow(0px 1px 2px rgba(0, 0, 0, 0.3));\n",
              "        fill: #FFFFFF;\n",
              "      }\n",
              "    </style>\n",
              "    <button class=\"colab-df-generate\" onclick=\"generateWithVariable('data')\"\n",
              "            title=\"Generate code using this dataframe.\"\n",
              "            style=\"display:none;\">\n",
              "\n",
              "  <svg xmlns=\"http://www.w3.org/2000/svg\" height=\"24px\"viewBox=\"0 0 24 24\"\n",
              "       width=\"24px\">\n",
              "    <path d=\"M7,19H8.4L18.45,9,17,7.55,7,17.6ZM5,21V16.75L18.45,3.32a2,2,0,0,1,2.83,0l1.4,1.43a1.91,1.91,0,0,1,.58,1.4,1.91,1.91,0,0,1-.58,1.4L9.25,21ZM18.45,9,17,7.55Zm-12,3A5.31,5.31,0,0,0,4.9,8.1,5.31,5.31,0,0,0,1,6.5,5.31,5.31,0,0,0,4.9,4.9,5.31,5.31,0,0,0,6.5,1,5.31,5.31,0,0,0,8.1,4.9,5.31,5.31,0,0,0,12,6.5,5.46,5.46,0,0,0,6.5,12Z\"/>\n",
              "  </svg>\n",
              "    </button>\n",
              "    <script>\n",
              "      (() => {\n",
              "      const buttonEl =\n",
              "        document.querySelector('#id_8742d28f-02c5-4d02-a41e-3843e0e6658a button.colab-df-generate');\n",
              "      buttonEl.style.display =\n",
              "        google.colab.kernel.accessAllowed ? 'block' : 'none';\n",
              "\n",
              "      buttonEl.onclick = () => {\n",
              "        google.colab.notebook.generateWithVariable('data');\n",
              "      }\n",
              "      })();\n",
              "    </script>\n",
              "  </div>\n",
              "\n",
              "    </div>\n",
              "  </div>\n"
            ],
            "application/vnd.google.colaboratory.intrinsic+json": {
              "type": "dataframe",
              "variable_name": "data"
            }
          },
          "metadata": {},
          "execution_count": 23
        }
      ],
      "source": [
        "data = pd.read_csv('https://www.stat.berkeley.edu/users/statlabs/data/babies23.data', sep='\\\\s+')\n",
        "data"
      ]
    },
    {
      "cell_type": "code",
      "execution_count": 24,
      "metadata": {
        "id": "pTe7hFMemlFP",
        "outputId": "e5e1467c-0dbd-4e1d-fd18-64eb6b32d692",
        "colab": {
          "base_uri": "https://localhost:8080/"
        }
      },
      "outputs": [
        {
          "output_type": "execute_result",
          "data": {
            "text/plain": [
              "(1096, 23)"
            ]
          },
          "metadata": {},
          "execution_count": 24
        }
      ],
      "source": [
        "# Filter data so to exclude entries where income, number of cigarettes smoked,\n",
        "# parity, and baby weight are not asked or not known\n",
        "data = data[data.wt != 999]\n",
        "data = data[data.parity != 99]\n",
        "data = data[data.parity != 9]\n",
        "data = data[np.logical_and(data.number != 98, data.number != 99)]\n",
        "data = data[np.logical_and(data.inc != 98, data.inc != 99)]\n",
        "data.shape"
      ]
    },
    {
      "cell_type": "code",
      "execution_count": 25,
      "metadata": {
        "id": "4E2f9SS2ZfXU"
      },
      "outputs": [],
      "source": [
        "X = np.array(patsy.dmatrix('0 + C(race) + age + C(sex)', data))\n",
        "D = np.array(patsy.dmatrix('0 + number', data))\n",
        "Q = np.array(patsy.dmatrix('0 + C(ed)', data))\n",
        "S = np.array(patsy.dmatrix('0 + parity', data))\n",
        "A = np.array(patsy.dmatrix('0 + inc', data))\n",
        "y = np.array(patsy.dmatrix('0 + wt', data)).flatten()"
      ]
    },
    {
      "cell_type": "code",
      "execution_count": 26,
      "metadata": {
        "id": "pUAJG53t110L",
        "outputId": "d1291f6e-339c-4f38-fbd0-a948c1f43707",
        "colab": {
          "base_uri": "https://localhost:8080/"
        }
      },
      "outputs": [
        {
          "output_type": "execute_result",
          "data": {
            "text/plain": [
              "(1096, 7)"
            ]
          },
          "metadata": {},
          "execution_count": 26
        }
      ],
      "source": [
        "Q.shape"
      ]
    },
    {
      "cell_type": "code",
      "execution_count": 27,
      "metadata": {
        "id": "-7oS-GI0GCVl"
      },
      "outputs": [],
      "source": [
        "cv = KFold(n_splits=5, shuffle=True, random_state=123)\n",
        "modely = make_pipeline(StandardScaler(), LassoCV(cv=cv))\n",
        "modelw = make_pipeline(StandardScaler(), LassoCV(cv=cv))\n",
        "modelv = make_pipeline(StandardScaler(), LassoCV(cv=cv))\n",
        "res = proxydml(X, Q, S, D, y, modely, modelw, modelv, nfolds=3)"
      ]
    },
    {
      "cell_type": "code",
      "execution_count": 28,
      "metadata": {
        "id": "Ph4FDYaQGCVl",
        "outputId": "b0f5abe1-0674-4fb6-8e56-7a2a735532b3",
        "colab": {
          "base_uri": "https://localhost:8080/",
          "height": 81
        }
      },
      "outputs": [
        {
          "output_type": "execute_result",
          "data": {
            "text/plain": [
              "         estimate    stderr    lower     upper     rmse y     r2 y    rmse W  \\\n",
              "lassocv -1.615433  0.260397 -2.12581 -1.105055  17.754416  0.02813  1.901504   \n",
              "\n",
              "         avg. r2 W    rmse V  avg. r2 V  \n",
              "lassocv   0.119346  0.817165   0.009419  "
            ],
            "text/html": [
              "\n",
              "  <div id=\"df-8740d7fb-9e74-44d5-81e9-d013696de22d\" class=\"colab-df-container\">\n",
              "    <div>\n",
              "<style scoped>\n",
              "    .dataframe tbody tr th:only-of-type {\n",
              "        vertical-align: middle;\n",
              "    }\n",
              "\n",
              "    .dataframe tbody tr th {\n",
              "        vertical-align: top;\n",
              "    }\n",
              "\n",
              "    .dataframe thead th {\n",
              "        text-align: right;\n",
              "    }\n",
              "</style>\n",
              "<table border=\"1\" class=\"dataframe\">\n",
              "  <thead>\n",
              "    <tr style=\"text-align: right;\">\n",
              "      <th></th>\n",
              "      <th>estimate</th>\n",
              "      <th>stderr</th>\n",
              "      <th>lower</th>\n",
              "      <th>upper</th>\n",
              "      <th>rmse y</th>\n",
              "      <th>r2 y</th>\n",
              "      <th>rmse W</th>\n",
              "      <th>avg. r2 W</th>\n",
              "      <th>rmse V</th>\n",
              "      <th>avg. r2 V</th>\n",
              "    </tr>\n",
              "  </thead>\n",
              "  <tbody>\n",
              "    <tr>\n",
              "      <th>lassocv</th>\n",
              "      <td>-1.615433</td>\n",
              "      <td>0.260397</td>\n",
              "      <td>-2.12581</td>\n",
              "      <td>-1.105055</td>\n",
              "      <td>17.754416</td>\n",
              "      <td>0.02813</td>\n",
              "      <td>1.901504</td>\n",
              "      <td>0.119346</td>\n",
              "      <td>0.817165</td>\n",
              "      <td>0.009419</td>\n",
              "    </tr>\n",
              "  </tbody>\n",
              "</table>\n",
              "</div>\n",
              "    <div class=\"colab-df-buttons\">\n",
              "\n",
              "  <div class=\"colab-df-container\">\n",
              "    <button class=\"colab-df-convert\" onclick=\"convertToInteractive('df-8740d7fb-9e74-44d5-81e9-d013696de22d')\"\n",
              "            title=\"Convert this dataframe to an interactive table.\"\n",
              "            style=\"display:none;\">\n",
              "\n",
              "  <svg xmlns=\"http://www.w3.org/2000/svg\" height=\"24px\" viewBox=\"0 -960 960 960\">\n",
              "    <path d=\"M120-120v-720h720v720H120Zm60-500h600v-160H180v160Zm220 220h160v-160H400v160Zm0 220h160v-160H400v160ZM180-400h160v-160H180v160Zm440 0h160v-160H620v160ZM180-180h160v-160H180v160Zm440 0h160v-160H620v160Z\"/>\n",
              "  </svg>\n",
              "    </button>\n",
              "\n",
              "  <style>\n",
              "    .colab-df-container {\n",
              "      display:flex;\n",
              "      gap: 12px;\n",
              "    }\n",
              "\n",
              "    .colab-df-convert {\n",
              "      background-color: #E8F0FE;\n",
              "      border: none;\n",
              "      border-radius: 50%;\n",
              "      cursor: pointer;\n",
              "      display: none;\n",
              "      fill: #1967D2;\n",
              "      height: 32px;\n",
              "      padding: 0 0 0 0;\n",
              "      width: 32px;\n",
              "    }\n",
              "\n",
              "    .colab-df-convert:hover {\n",
              "      background-color: #E2EBFA;\n",
              "      box-shadow: 0px 1px 2px rgba(60, 64, 67, 0.3), 0px 1px 3px 1px rgba(60, 64, 67, 0.15);\n",
              "      fill: #174EA6;\n",
              "    }\n",
              "\n",
              "    .colab-df-buttons div {\n",
              "      margin-bottom: 4px;\n",
              "    }\n",
              "\n",
              "    [theme=dark] .colab-df-convert {\n",
              "      background-color: #3B4455;\n",
              "      fill: #D2E3FC;\n",
              "    }\n",
              "\n",
              "    [theme=dark] .colab-df-convert:hover {\n",
              "      background-color: #434B5C;\n",
              "      box-shadow: 0px 1px 3px 1px rgba(0, 0, 0, 0.15);\n",
              "      filter: drop-shadow(0px 1px 2px rgba(0, 0, 0, 0.3));\n",
              "      fill: #FFFFFF;\n",
              "    }\n",
              "  </style>\n",
              "\n",
              "    <script>\n",
              "      const buttonEl =\n",
              "        document.querySelector('#df-8740d7fb-9e74-44d5-81e9-d013696de22d button.colab-df-convert');\n",
              "      buttonEl.style.display =\n",
              "        google.colab.kernel.accessAllowed ? 'block' : 'none';\n",
              "\n",
              "      async function convertToInteractive(key) {\n",
              "        const element = document.querySelector('#df-8740d7fb-9e74-44d5-81e9-d013696de22d');\n",
              "        const dataTable =\n",
              "          await google.colab.kernel.invokeFunction('convertToInteractive',\n",
              "                                                    [key], {});\n",
              "        if (!dataTable) return;\n",
              "\n",
              "        const docLinkHtml = 'Like what you see? Visit the ' +\n",
              "          '<a target=\"_blank\" href=https://colab.research.google.com/notebooks/data_table.ipynb>data table notebook</a>'\n",
              "          + ' to learn more about interactive tables.';\n",
              "        element.innerHTML = '';\n",
              "        dataTable['output_type'] = 'display_data';\n",
              "        await google.colab.output.renderOutput(dataTable, element);\n",
              "        const docLink = document.createElement('div');\n",
              "        docLink.innerHTML = docLinkHtml;\n",
              "        element.appendChild(docLink);\n",
              "      }\n",
              "    </script>\n",
              "  </div>\n",
              "\n",
              "\n",
              "    </div>\n",
              "  </div>\n"
            ],
            "application/vnd.google.colaboratory.intrinsic+json": {
              "type": "dataframe",
              "summary": "{\n  \"name\": \"summary(*res, X, Q, S, D, y, name='lassocv')\",\n  \"rows\": 1,\n  \"fields\": [\n    {\n      \"column\": \"estimate\",\n      \"properties\": {\n        \"dtype\": \"number\",\n        \"std\": null,\n        \"min\": -1.615432656706727,\n        \"max\": -1.615432656706727,\n        \"num_unique_values\": 1,\n        \"samples\": [\n          -1.615432656706727\n        ],\n        \"semantic_type\": \"\",\n        \"description\": \"\"\n      }\n    },\n    {\n      \"column\": \"stderr\",\n      \"properties\": {\n        \"dtype\": \"number\",\n        \"std\": null,\n        \"min\": 0.260396604697026,\n        \"max\": 0.260396604697026,\n        \"num_unique_values\": 1,\n        \"samples\": [\n          0.260396604697026\n        ],\n        \"semantic_type\": \"\",\n        \"description\": \"\"\n      }\n    },\n    {\n      \"column\": \"lower\",\n      \"properties\": {\n        \"dtype\": \"number\",\n        \"std\": null,\n        \"min\": -2.125810001912898,\n        \"max\": -2.125810001912898,\n        \"num_unique_values\": 1,\n        \"samples\": [\n          -2.125810001912898\n        ],\n        \"semantic_type\": \"\",\n        \"description\": \"\"\n      }\n    },\n    {\n      \"column\": \"upper\",\n      \"properties\": {\n        \"dtype\": \"number\",\n        \"std\": null,\n        \"min\": -1.1050553115005561,\n        \"max\": -1.1050553115005561,\n        \"num_unique_values\": 1,\n        \"samples\": [\n          -1.1050553115005561\n        ],\n        \"semantic_type\": \"\",\n        \"description\": \"\"\n      }\n    },\n    {\n      \"column\": \"rmse y\",\n      \"properties\": {\n        \"dtype\": \"number\",\n        \"std\": null,\n        \"min\": 17.754416085943447,\n        \"max\": 17.754416085943447,\n        \"num_unique_values\": 1,\n        \"samples\": [\n          17.754416085943447\n        ],\n        \"semantic_type\": \"\",\n        \"description\": \"\"\n      }\n    },\n    {\n      \"column\": \"r2 y\",\n      \"properties\": {\n        \"dtype\": \"number\",\n        \"std\": null,\n        \"min\": 0.028130174146634657,\n        \"max\": 0.028130174146634657,\n        \"num_unique_values\": 1,\n        \"samples\": [\n          0.028130174146634657\n        ],\n        \"semantic_type\": \"\",\n        \"description\": \"\"\n      }\n    },\n    {\n      \"column\": \"rmse W\",\n      \"properties\": {\n        \"dtype\": \"number\",\n        \"std\": null,\n        \"min\": 1.9015040104975767,\n        \"max\": 1.9015040104975767,\n        \"num_unique_values\": 1,\n        \"samples\": [\n          1.9015040104975767\n        ],\n        \"semantic_type\": \"\",\n        \"description\": \"\"\n      }\n    },\n    {\n      \"column\": \"avg. r2 W\",\n      \"properties\": {\n        \"dtype\": \"number\",\n        \"std\": null,\n        \"min\": 0.11934556161005505,\n        \"max\": 0.11934556161005505,\n        \"num_unique_values\": 1,\n        \"samples\": [\n          0.11934556161005505\n        ],\n        \"semantic_type\": \"\",\n        \"description\": \"\"\n      }\n    },\n    {\n      \"column\": \"rmse V\",\n      \"properties\": {\n        \"dtype\": \"number\",\n        \"std\": null,\n        \"min\": 0.8171652863032997,\n        \"max\": 0.8171652863032997,\n        \"num_unique_values\": 1,\n        \"samples\": [\n          0.8171652863032997\n        ],\n        \"semantic_type\": \"\",\n        \"description\": \"\"\n      }\n    },\n    {\n      \"column\": \"avg. r2 V\",\n      \"properties\": {\n        \"dtype\": \"number\",\n        \"std\": null,\n        \"min\": 0.009419025948569928,\n        \"max\": 0.009419025948569928,\n        \"num_unique_values\": 1,\n        \"samples\": [\n          0.009419025948569928\n        ],\n        \"semantic_type\": \"\",\n        \"description\": \"\"\n      }\n    }\n  ]\n}"
            }
          },
          "metadata": {},
          "execution_count": 28
        }
      ],
      "source": [
        "summary(*res, X, Q, S, D, y, name='lassocv')"
      ]
    }
  ],
  "metadata": {
    "colab": {
      "provenance": []
    },
    "kernelspec": {
      "display_name": "Python 3 (ipykernel)",
      "language": "python",
      "name": "python3"
    },
    "language_info": {
      "codemirror_mode": {
        "name": "ipython",
        "version": 3
      },
      "file_extension": ".py",
      "mimetype": "text/x-python",
      "name": "python",
      "nbconvert_exporter": "python",
      "pygments_lexer": "ipython3",
      "version": "3.11.5"
    }
  },
  "nbformat": 4,
  "nbformat_minor": 0
}