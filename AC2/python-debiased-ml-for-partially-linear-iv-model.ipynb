{
  "cells": [
    {
      "cell_type": "markdown",
      "metadata": {
        "id": "qjaFmAyEzcLz",
        "papermill": {
          "duration": 0.008106,
          "end_time": "2021-04-23T10:41:33.911944",
          "exception": false,
          "start_time": "2021-04-23T10:41:33.903838",
          "status": "completed"
        },
        "tags": []
      },
      "source": [
        "# Double/Debiased ML for Partially Linear IV Model\n",
        "\n",
        "This is a simple implementation of Debiased Machine Learning for the Partially Linear\n",
        "IV Regression Model, which provides an application of DML IV inference.\n",
        "\n",
        "\n",
        "Reference:\n",
        "\n",
        "- https://arxiv.org/abs/1608.00060\n",
        "- https://www.amazon.com/Business-Data-Science-Combining-Accelerate/dp/1260452778\n",
        "\n",
        "The code is based on the book.\n"
      ]
    },
    {
      "cell_type": "markdown",
      "metadata": {
        "id": "G3YNyr-ezcL4",
        "papermill": {
          "duration": 0.006963,
          "end_time": "2021-04-23T10:41:33.926085",
          "exception": false,
          "start_time": "2021-04-23T10:41:33.919122",
          "status": "completed"
        },
        "tags": []
      },
      "source": [
        "\n",
        "# Partially Linear IV Model\n",
        "\n",
        "We consider the partially linear structural equation model:\n",
        "\\begin{eqnarray}\n",
        " &  Y - D\\theta_0 = g_0(X) + \\zeta,  & E[\\zeta \\mid Z,X]= 0,\\\\\n",
        "  & Z = m_0(X) +  V,   &  E[V \\mid X] = 0.\n",
        "\\end{eqnarray}\n",
        "\n",
        "\n",
        "Note that this model is not a regression model unless $Z=D$.  The model  is a canonical\n",
        "model in causal inference, going back to P. Wright's work on IV methods for estimating demand/supply equations, with the modern difference being that $g_0$ and $m_0$ are nonlinear, potentially complicated functions of high-dimensional $X$.  \n",
        "\n",
        "\n",
        "The idea of this model is that there is a structural or causal relation between $Y$ and $D$, captured by $\\theta_0$, and $g_0(X) + \\zeta$ is the stochastic error, partly explained by covariates $X$.  $V$ and $\\zeta$ are stochastic errors that are not explained by $X$. Since $Y$ and $D$ are jointly determined, we need an external factor, commonly referred to as an instrument, $Z$ to create exogenous variation\n",
        "in $D$.   Note that $Z$ should affect $D$.  The $X$ here serve again as confounding factors, so we can think of variation in $Z$ as being exogenous only conditional on $X$.\n",
        "\n",
        "\n",
        "The causal DAG this model corresponds to is given by:\n",
        "$$\n",
        "Z \\to D,  X \\to (Y, Z, D),  L \\to (Y,D),\n",
        "$$\n",
        "where $L$ is the latent confounder affecting both $Y$ and $D$, but not $Z$.\n",
        "\n",
        "\n",
        "\n",
        "---\n",
        "\n",
        "# Example\n",
        "\n",
        "A simple contextual example is from biostatistics, where $Y$ is a health outcome and $D$ is indicator of smoking.  Thus, $\\theta_0$ is captures the effect of smoking on health.  Health outcome $Y$ and smoking behavior $D$ are treated as being jointly determined.  $X$ represents patient characteristics, and $Z$ could be a doctor's advice not to smoke (or another behavioral treatment) that may affect the outcome $Y$ only through shifting the behavior $D$, conditional on characteristics $X$.   \n",
        "\n",
        "----\n",
        "\n",
        "\n",
        "\n",
        "# PLIVM in Residualized Form\n",
        "\n",
        "The PLIV model above can be rewritten in the following residualized form:\n",
        "$$\n",
        "  \\tilde Y = \\tilde D \\theta_0 + \\zeta,   \\quad  E[\\zeta \\mid V,X]= 0,\n",
        "$$\n",
        "where\n",
        "$$\n",
        " \\tilde Y = (Y- \\ell_0(X)),  \\quad \\ell_0(X) = E[Y \\mid X] \\\\\n",
        "   \\tilde D = (D - r_0(X)), \\quad r_0(X) = E[D \\mid X] \\\\\n",
        "   \\tilde Z = (Z- m_0(X)), \\quad m_0(X) = E[Z \\mid X].\n",
        "$$\n",
        "   The \"tilde\" variables (e.g. $\\tilde Y$) above represent original variables after taking out or \"partialling out\"\n",
        "  the effect of $X$.  Note that $\\theta_0$ is identified from this equation if $V$\n",
        "  and $U$ have non-zero correlation, which automatically means that $U$ and $V$\n",
        "  must have non-zero variation.\n",
        "\n",
        "  \n",
        "\n",
        "-----\n",
        "\n",
        "# DML for PLIV Model\n",
        "\n",
        "Given identification, DML  proceeds as follows\n",
        "\n",
        "Compute the estimates $\\hat \\ell_0$, $\\hat r_0$, and $\\hat m_0$ , which amounts\n",
        "to solving the three problems of predicting $Y$, $D$, and $Z$ using\n",
        "$X$, using any generic  ML method, giving us estimated residuals\n",
        "$$\n",
        "\\tilde Y = Y - \\hat \\ell_0(X), \\\\ \\tilde D= D - \\hat r_0(X), \\\\ \\tilde Z = Z- \\hat m_0(X).\n",
        "$$\n",
        "The estimates should be of a cross-validated form, as detailed in the algorithm below.\n",
        "\n",
        "Estimate $\\theta_0$ by the the intstrumental\n",
        "variable regression of $\\tilde Y$ on $\\tilde D$ using $\\tilde Z$ as an instrument.\n",
        "Use the conventional inference for the IV regression estimator, ignoring\n",
        "the estimation error in these residuals.\n",
        "\n",
        "The reason we work with this residualized form is that it eliminates the bias\n",
        "arising when solving the prediction problem in stage 1. The role of cross-validation\n",
        "is to avoid another source of bias due to potential overfitting.\n",
        "\n",
        "The estimator is adaptive,\n",
        "in the sense that the first stage estimation errors do not affect the second\n",
        "stage errors.\n"
      ]
    },
    {
      "cell_type": "code",
      "execution_count": 1,
      "metadata": {
        "_kg_hide-output": true,
        "id": "yGW6JhG5zcL5",
        "papermill": {
          "duration": 34.670095,
          "end_time": "2021-04-23T10:42:08.603197",
          "exception": false,
          "start_time": "2021-04-23T10:41:33.933102",
          "status": "completed"
        },
        "tags": []
      },
      "outputs": [],
      "source": [
        "# Import relevant packages\n",
        "import pandas as pd\n",
        "import numpy as np\n",
        "import matplotlib.pyplot as plt\n",
        "from sklearn.model_selection import cross_val_predict, KFold\n",
        "from sklearn.pipeline import make_pipeline\n",
        "from sklearn.preprocessing import StandardScaler\n",
        "from sklearn.ensemble import RandomForestRegressor\n",
        "import patsy\n",
        "import warnings\n",
        "from sklearn.base import BaseEstimator\n",
        "import statsmodels.api as sm\n",
        "from statsmodels.tools import add_constant\n",
        "warnings.simplefilter('ignore')\n",
        "np.random.seed(1234)"
      ]
    },
    {
      "cell_type": "code",
      "execution_count": 2,
      "metadata": {
        "id": "j2WVUbBDzcL-",
        "papermill": {
          "duration": 1.846109,
          "end_time": "2021-04-23T10:42:10.458406",
          "exception": false,
          "start_time": "2021-04-23T10:42:08.612297",
          "status": "completed"
        },
        "tags": []
      },
      "outputs": [],
      "source": [
        "def dml(X, Z, D, y, modely, modeld, modelz, *, nfolds, classifier=False):\n",
        "    '''\n",
        "    DML for the Partially Linear Model setting with cross-fitting\n",
        "\n",
        "    Input\n",
        "    -----\n",
        "    X: the controls\n",
        "    Z: the instrument\n",
        "    D: the treatment\n",
        "    y: the outcome\n",
        "    modely: the ML model for predicting the outcome y\n",
        "    modeld: the ML model for predicting the treatment D\n",
        "    modelz: the ML model for predicting the instrument Z\n",
        "    nfolds: the number of folds in cross-fitting\n",
        "    classifier: bool, whether the modeld is a classifier or a regressor\n",
        "\n",
        "    Output\n",
        "    ------\n",
        "    point: the point estimate of the treatment effect of D on y\n",
        "    stderr: the standard error of the treatment effect\n",
        "    yhat: the cross-fitted predictions for the outcome y\n",
        "    Dhat: the cross-fitted predictions for the treatment D\n",
        "    Zhat: the cross-fitted predictions for the instrument Z\n",
        "    resy: the outcome residuals\n",
        "    resD: the treatment residuals\n",
        "    resZ: the instrument residuals\n",
        "    epsilon: the final residual-on-residual OLS regression residual\n",
        "    '''\n",
        "    cv = KFold(n_splits=nfolds, shuffle=True, random_state=123)  # shuffled k-folds\n",
        "    yhat = cross_val_predict(modely, X, y, cv=cv, n_jobs=-1)  # out-of-fold predictions for y\n",
        "    # out-of-fold predictions for D\n",
        "    # use predict or predict_proba dependent on classifier or regressor for D\n",
        "    if classifier:\n",
        "        Dhat = cross_val_predict(modeld, X, D, cv=cv, method='predict_proba', n_jobs=-1)[:, 1]\n",
        "        Zhat = cross_val_predict(modelz, X, Z, cv=cv, method='predict_proba', n_jobs=-1)[:, 1]\n",
        "    else:\n",
        "        Dhat = cross_val_predict(modeld, X, D, cv=cv, n_jobs=-1)\n",
        "        Zhat = cross_val_predict(modelz, X, Z, cv=cv, n_jobs=-1)\n",
        "    # calculate outcome and treatment residuals\n",
        "    resy = y - yhat\n",
        "    resD = D - Dhat\n",
        "    resZ = Z - Zhat\n",
        "    # rename for downstream tasks\n",
        "    resy = resy.rename(\"resy\")\n",
        "    resD = resD.rename(\"resD\")\n",
        "    resZ = resZ.rename(\"resZ\")\n",
        "\n",
        "    # final stage ols based point estimate and standard error\n",
        "    point = np.mean(resy * resZ) / np.mean(resD * resZ)\n",
        "    epsilon = resy - point * resD\n",
        "    var = np.mean(epsilon**2 * resZ**2) / np.mean(resD * resZ)**2\n",
        "    stderr = np.sqrt(var / X.shape[0])\n",
        "    return point, stderr, yhat, Dhat, Zhat, resy, resD, resZ, epsilon"
      ]
    },
    {
      "cell_type": "code",
      "execution_count": 3,
      "metadata": {
        "id": "F6U6fnzne-77"
      },
      "outputs": [],
      "source": [
        "def summary(point, stderr, yhat, Dhat, Zhat, resy, resD, resZ, epsilon, X, D, Z, y, *, name):\n",
        "    '''\n",
        "    Convenience summary function that takes the results of the DML IV function\n",
        "    and summarizes several estimation quantities and performance metrics.\n",
        "    '''\n",
        "    return pd.DataFrame({'estimate': point,  # point estimate\n",
        "                         'stderr': stderr,  # standard error\n",
        "                         'lower': point - 1.96 * stderr,  # lower end of 95% confidence interval\n",
        "                         'upper': point + 1.96 * stderr,  # upper end of 95% confidence interval\n",
        "                         'rmse y': np.sqrt(np.mean(resy**2)),  # RMSE of model that predicts outcome y\n",
        "                         'rmse Z': np.sqrt(np.mean(resZ**2)),  # RMSE of model that predicts instrument Z\n",
        "                         'rmse D': np.sqrt(np.mean(resD**2))  # RMSE of model that predicts treatment D\n",
        "                         }, index=[name])"
      ]
    },
    {
      "cell_type": "markdown",
      "metadata": {
        "id": "x1g3XjsIzcL_",
        "papermill": {
          "duration": 0.011698,
          "end_time": "2021-04-23T10:42:10.482689",
          "exception": false,
          "start_time": "2021-04-23T10:42:10.470991",
          "status": "completed"
        },
        "tags": []
      },
      "source": [
        "-----\n",
        "\n",
        "\n",
        "# Emprical Example:  Acemoglu, Johnson, Robinson (AER).\n",
        "\n",
        "* Y is log GDP;\n",
        "* D is a measure of Protection from Expropriation, a proxy for\n",
        "quality of insitutions;\n",
        "* Z is the log of Settler's mortality;\n",
        "* W are geographical variables (latitude, latitude squared, continent dummies as well as interactions)\n",
        "\n"
      ]
    },
    {
      "cell_type": "code",
      "execution_count": 4,
      "metadata": {
        "id": "0Pc6OCp24rji",
        "outputId": "95472f21-8377-44eb-dc16-3f9b911faac2",
        "colab": {
          "base_uri": "https://localhost:8080/"
        }
      },
      "outputs": [
        {
          "output_type": "execute_result",
          "data": {
            "text/plain": [
              "(64, 11)"
            ]
          },
          "metadata": {},
          "execution_count": 4
        }
      ],
      "source": [
        "file = \"https://raw.githubusercontent.com/CausalAIBook/MetricsMLNotebooks/main/data/AJR.csv\"\n",
        "data = pd.read_csv(file)\n",
        "data.shape"
      ]
    },
    {
      "cell_type": "markdown",
      "metadata": {
        "id": "3rGw2hAqSx2Y"
      },
      "source": [
        "Run the following command to install hdmpy for rigorous lasso:\n",
        "\n",
        "``` !pip install multiprocess ```\n",
        "\n",
        "\n",
        "```!git clone https://github.com/maxhuppertz/hdmpy.git ```"
      ]
    },
    {
      "cell_type": "code",
      "execution_count": 5,
      "metadata": {
        "id": "O5Rknnz2Rh9O",
        "outputId": "a04a56c1-ff72-491e-f3ee-1fd785592d9e",
        "colab": {
          "base_uri": "https://localhost:8080/"
        }
      },
      "outputs": [
        {
          "output_type": "stream",
          "name": "stdout",
          "text": [
            "Collecting multiprocess\n",
            "  Downloading multiprocess-0.70.17-py311-none-any.whl.metadata (7.2 kB)\n",
            "Collecting dill>=0.3.9 (from multiprocess)\n",
            "  Downloading dill-0.3.9-py3-none-any.whl.metadata (10 kB)\n",
            "Downloading multiprocess-0.70.17-py311-none-any.whl (144 kB)\n",
            "\u001b[2K   \u001b[90m━━━━━━━━━━━━━━━━━━━━━━━━━━━━━━━━━━━━━━━━\u001b[0m \u001b[32m144.3/144.3 kB\u001b[0m \u001b[31m3.6 MB/s\u001b[0m eta \u001b[36m0:00:00\u001b[0m\n",
            "\u001b[?25hDownloading dill-0.3.9-py3-none-any.whl (119 kB)\n",
            "\u001b[2K   \u001b[90m━━━━━━━━━━━━━━━━━━━━━━━━━━━━━━━━━━━━━━━━\u001b[0m \u001b[32m119.4/119.4 kB\u001b[0m \u001b[31m4.3 MB/s\u001b[0m eta \u001b[36m0:00:00\u001b[0m\n",
            "\u001b[?25hInstalling collected packages: dill, multiprocess\n",
            "Successfully installed dill-0.3.9 multiprocess-0.70.17\n",
            "Cloning into 'hdmpy'...\n",
            "remote: Enumerating objects: 70, done.\u001b[K\n",
            "remote: Counting objects: 100% (70/70), done.\u001b[K\n",
            "remote: Compressing objects: 100% (49/49), done.\u001b[K\n",
            "remote: Total 70 (delta 39), reused 52 (delta 21), pack-reused 0 (from 0)\u001b[K\n",
            "Receiving objects: 100% (70/70), 25.30 KiB | 2.53 MiB/s, done.\n",
            "Resolving deltas: 100% (39/39), done.\n"
          ]
        }
      ],
      "source": [
        "!pip install multiprocess\n",
        "!git clone https://github.com/maxhuppertz/hdmpy.git"
      ]
    },
    {
      "cell_type": "code",
      "execution_count": 6,
      "metadata": {
        "id": "Kb9N0c5uS47n"
      },
      "outputs": [],
      "source": [
        "import hdmpy\n",
        "\n",
        "\n",
        "class RLasso(BaseEstimator):\n",
        "\n",
        "    def __init__(self, *, post=True):\n",
        "        self.post = post\n",
        "\n",
        "    def fit(self, X, y):\n",
        "        self.rlasso_ = hdmpy.rlasso(X, y, post=self.post)\n",
        "        return self\n",
        "\n",
        "    def predict(self, X):\n",
        "        return np.array(X) @ np.array(self.rlasso_.est['beta']).flatten() + np.array(self.rlasso_.est['intercept'])"
      ]
    },
    {
      "cell_type": "code",
      "execution_count": 7,
      "metadata": {
        "id": "nO6a6tJWS-FO"
      },
      "outputs": [],
      "source": [
        "y = data['GDP']\n",
        "d = data['Exprop']\n",
        "z = data['logMort']\n",
        "\n",
        "controls = data.drop(['GDP', 'Exprop', 'logMort'], axis=1)\n",
        "x = patsy.dmatrix('-1 + (Latitude + Latitude2 + Africa + Asia + Namer + Samer)**2',\n",
        "                  data=controls, return_type='dataframe')"
      ]
    },
    {
      "cell_type": "code",
      "execution_count": 8,
      "metadata": {
        "id": "kpPe250uelE7"
      },
      "outputs": [],
      "source": [
        "# DML with Post-Lasso:\n",
        "modely = make_pipeline(StandardScaler(), RLasso(post=True))\n",
        "modeld = make_pipeline(StandardScaler(), RLasso(post=True))\n",
        "modelz = make_pipeline(StandardScaler(), RLasso(post=True))\n",
        "\n",
        "# Run DML model with nfolds folds of cross-fitting\n",
        "res_rlasso = dml(x, z, d, y, modely, modeld, modelz, nfolds=5)\n",
        "table_rlasso = summary(*res_rlasso, x, d, z, y, name='RLasso')"
      ]
    },
    {
      "cell_type": "code",
      "execution_count": 9,
      "metadata": {
        "id": "pdKuGFpXglp8"
      },
      "outputs": [],
      "source": [
        "# DML with Random Forests. RFs don't require scaling but we do it for consistency\n",
        "modely = make_pipeline(StandardScaler(),\n",
        "                       RandomForestRegressor(n_estimators=100, min_samples_leaf=5, random_state=1234))\n",
        "modeld = make_pipeline(StandardScaler(),\n",
        "                       RandomForestRegressor(n_estimators=100, min_samples_leaf=5, random_state=1234))\n",
        "modelz = make_pipeline(StandardScaler(),\n",
        "                       RandomForestRegressor(n_estimators=100, min_samples_leaf=5, random_state=1234))\n",
        "\n",
        "# Run DML model with nfolds folds of cross-fitting (computationally intensive)\n",
        "res_RF = dml(x, z, d, y, modely, modeld, modelz, nfolds=5)\n",
        "table_RF = summary(*res_RF, x, d, z, y, name='RF')"
      ]
    },
    {
      "cell_type": "code",
      "execution_count": 10,
      "metadata": {
        "id": "ijo8p0Moig_F",
        "outputId": "677e915f-0c23-4015-9d75-c83c7c485081",
        "colab": {
          "base_uri": "https://localhost:8080/",
          "height": 125
        }
      },
      "outputs": [
        {
          "output_type": "execute_result",
          "data": {
            "text/plain": [
              "        estimate    stderr     lower     upper    rmse y    rmse Z    rmse D\n",
              "RLasso  0.734376  0.176548  0.388342  1.080411  0.918707  1.087234  1.595225\n",
              "RF      0.827029  0.328725  0.182728  1.471329  0.769921  1.040540  1.336038"
            ],
            "text/html": [
              "\n",
              "  <div id=\"df-abf5ff22-78db-4107-ae33-864dd50a6c3f\" class=\"colab-df-container\">\n",
              "    <div>\n",
              "<style scoped>\n",
              "    .dataframe tbody tr th:only-of-type {\n",
              "        vertical-align: middle;\n",
              "    }\n",
              "\n",
              "    .dataframe tbody tr th {\n",
              "        vertical-align: top;\n",
              "    }\n",
              "\n",
              "    .dataframe thead th {\n",
              "        text-align: right;\n",
              "    }\n",
              "</style>\n",
              "<table border=\"1\" class=\"dataframe\">\n",
              "  <thead>\n",
              "    <tr style=\"text-align: right;\">\n",
              "      <th></th>\n",
              "      <th>estimate</th>\n",
              "      <th>stderr</th>\n",
              "      <th>lower</th>\n",
              "      <th>upper</th>\n",
              "      <th>rmse y</th>\n",
              "      <th>rmse Z</th>\n",
              "      <th>rmse D</th>\n",
              "    </tr>\n",
              "  </thead>\n",
              "  <tbody>\n",
              "    <tr>\n",
              "      <th>RLasso</th>\n",
              "      <td>0.734376</td>\n",
              "      <td>0.176548</td>\n",
              "      <td>0.388342</td>\n",
              "      <td>1.080411</td>\n",
              "      <td>0.918707</td>\n",
              "      <td>1.087234</td>\n",
              "      <td>1.595225</td>\n",
              "    </tr>\n",
              "    <tr>\n",
              "      <th>RF</th>\n",
              "      <td>0.827029</td>\n",
              "      <td>0.328725</td>\n",
              "      <td>0.182728</td>\n",
              "      <td>1.471329</td>\n",
              "      <td>0.769921</td>\n",
              "      <td>1.040540</td>\n",
              "      <td>1.336038</td>\n",
              "    </tr>\n",
              "  </tbody>\n",
              "</table>\n",
              "</div>\n",
              "    <div class=\"colab-df-buttons\">\n",
              "\n",
              "  <div class=\"colab-df-container\">\n",
              "    <button class=\"colab-df-convert\" onclick=\"convertToInteractive('df-abf5ff22-78db-4107-ae33-864dd50a6c3f')\"\n",
              "            title=\"Convert this dataframe to an interactive table.\"\n",
              "            style=\"display:none;\">\n",
              "\n",
              "  <svg xmlns=\"http://www.w3.org/2000/svg\" height=\"24px\" viewBox=\"0 -960 960 960\">\n",
              "    <path d=\"M120-120v-720h720v720H120Zm60-500h600v-160H180v160Zm220 220h160v-160H400v160Zm0 220h160v-160H400v160ZM180-400h160v-160H180v160Zm440 0h160v-160H620v160ZM180-180h160v-160H180v160Zm440 0h160v-160H620v160Z\"/>\n",
              "  </svg>\n",
              "    </button>\n",
              "\n",
              "  <style>\n",
              "    .colab-df-container {\n",
              "      display:flex;\n",
              "      gap: 12px;\n",
              "    }\n",
              "\n",
              "    .colab-df-convert {\n",
              "      background-color: #E8F0FE;\n",
              "      border: none;\n",
              "      border-radius: 50%;\n",
              "      cursor: pointer;\n",
              "      display: none;\n",
              "      fill: #1967D2;\n",
              "      height: 32px;\n",
              "      padding: 0 0 0 0;\n",
              "      width: 32px;\n",
              "    }\n",
              "\n",
              "    .colab-df-convert:hover {\n",
              "      background-color: #E2EBFA;\n",
              "      box-shadow: 0px 1px 2px rgba(60, 64, 67, 0.3), 0px 1px 3px 1px rgba(60, 64, 67, 0.15);\n",
              "      fill: #174EA6;\n",
              "    }\n",
              "\n",
              "    .colab-df-buttons div {\n",
              "      margin-bottom: 4px;\n",
              "    }\n",
              "\n",
              "    [theme=dark] .colab-df-convert {\n",
              "      background-color: #3B4455;\n",
              "      fill: #D2E3FC;\n",
              "    }\n",
              "\n",
              "    [theme=dark] .colab-df-convert:hover {\n",
              "      background-color: #434B5C;\n",
              "      box-shadow: 0px 1px 3px 1px rgba(0, 0, 0, 0.15);\n",
              "      filter: drop-shadow(0px 1px 2px rgba(0, 0, 0, 0.3));\n",
              "      fill: #FFFFFF;\n",
              "    }\n",
              "  </style>\n",
              "\n",
              "    <script>\n",
              "      const buttonEl =\n",
              "        document.querySelector('#df-abf5ff22-78db-4107-ae33-864dd50a6c3f button.colab-df-convert');\n",
              "      buttonEl.style.display =\n",
              "        google.colab.kernel.accessAllowed ? 'block' : 'none';\n",
              "\n",
              "      async function convertToInteractive(key) {\n",
              "        const element = document.querySelector('#df-abf5ff22-78db-4107-ae33-864dd50a6c3f');\n",
              "        const dataTable =\n",
              "          await google.colab.kernel.invokeFunction('convertToInteractive',\n",
              "                                                    [key], {});\n",
              "        if (!dataTable) return;\n",
              "\n",
              "        const docLinkHtml = 'Like what you see? Visit the ' +\n",
              "          '<a target=\"_blank\" href=https://colab.research.google.com/notebooks/data_table.ipynb>data table notebook</a>'\n",
              "          + ' to learn more about interactive tables.';\n",
              "        element.innerHTML = '';\n",
              "        dataTable['output_type'] = 'display_data';\n",
              "        await google.colab.output.renderOutput(dataTable, element);\n",
              "        const docLink = document.createElement('div');\n",
              "        docLink.innerHTML = docLinkHtml;\n",
              "        element.appendChild(docLink);\n",
              "      }\n",
              "    </script>\n",
              "  </div>\n",
              "\n",
              "\n",
              "<div id=\"df-e3196658-e87b-4ad1-831a-774977a4c558\">\n",
              "  <button class=\"colab-df-quickchart\" onclick=\"quickchart('df-e3196658-e87b-4ad1-831a-774977a4c558')\"\n",
              "            title=\"Suggest charts\"\n",
              "            style=\"display:none;\">\n",
              "\n",
              "<svg xmlns=\"http://www.w3.org/2000/svg\" height=\"24px\"viewBox=\"0 0 24 24\"\n",
              "     width=\"24px\">\n",
              "    <g>\n",
              "        <path d=\"M19 3H5c-1.1 0-2 .9-2 2v14c0 1.1.9 2 2 2h14c1.1 0 2-.9 2-2V5c0-1.1-.9-2-2-2zM9 17H7v-7h2v7zm4 0h-2V7h2v10zm4 0h-2v-4h2v4z\"/>\n",
              "    </g>\n",
              "</svg>\n",
              "  </button>\n",
              "\n",
              "<style>\n",
              "  .colab-df-quickchart {\n",
              "      --bg-color: #E8F0FE;\n",
              "      --fill-color: #1967D2;\n",
              "      --hover-bg-color: #E2EBFA;\n",
              "      --hover-fill-color: #174EA6;\n",
              "      --disabled-fill-color: #AAA;\n",
              "      --disabled-bg-color: #DDD;\n",
              "  }\n",
              "\n",
              "  [theme=dark] .colab-df-quickchart {\n",
              "      --bg-color: #3B4455;\n",
              "      --fill-color: #D2E3FC;\n",
              "      --hover-bg-color: #434B5C;\n",
              "      --hover-fill-color: #FFFFFF;\n",
              "      --disabled-bg-color: #3B4455;\n",
              "      --disabled-fill-color: #666;\n",
              "  }\n",
              "\n",
              "  .colab-df-quickchart {\n",
              "    background-color: var(--bg-color);\n",
              "    border: none;\n",
              "    border-radius: 50%;\n",
              "    cursor: pointer;\n",
              "    display: none;\n",
              "    fill: var(--fill-color);\n",
              "    height: 32px;\n",
              "    padding: 0;\n",
              "    width: 32px;\n",
              "  }\n",
              "\n",
              "  .colab-df-quickchart:hover {\n",
              "    background-color: var(--hover-bg-color);\n",
              "    box-shadow: 0 1px 2px rgba(60, 64, 67, 0.3), 0 1px 3px 1px rgba(60, 64, 67, 0.15);\n",
              "    fill: var(--button-hover-fill-color);\n",
              "  }\n",
              "\n",
              "  .colab-df-quickchart-complete:disabled,\n",
              "  .colab-df-quickchart-complete:disabled:hover {\n",
              "    background-color: var(--disabled-bg-color);\n",
              "    fill: var(--disabled-fill-color);\n",
              "    box-shadow: none;\n",
              "  }\n",
              "\n",
              "  .colab-df-spinner {\n",
              "    border: 2px solid var(--fill-color);\n",
              "    border-color: transparent;\n",
              "    border-bottom-color: var(--fill-color);\n",
              "    animation:\n",
              "      spin 1s steps(1) infinite;\n",
              "  }\n",
              "\n",
              "  @keyframes spin {\n",
              "    0% {\n",
              "      border-color: transparent;\n",
              "      border-bottom-color: var(--fill-color);\n",
              "      border-left-color: var(--fill-color);\n",
              "    }\n",
              "    20% {\n",
              "      border-color: transparent;\n",
              "      border-left-color: var(--fill-color);\n",
              "      border-top-color: var(--fill-color);\n",
              "    }\n",
              "    30% {\n",
              "      border-color: transparent;\n",
              "      border-left-color: var(--fill-color);\n",
              "      border-top-color: var(--fill-color);\n",
              "      border-right-color: var(--fill-color);\n",
              "    }\n",
              "    40% {\n",
              "      border-color: transparent;\n",
              "      border-right-color: var(--fill-color);\n",
              "      border-top-color: var(--fill-color);\n",
              "    }\n",
              "    60% {\n",
              "      border-color: transparent;\n",
              "      border-right-color: var(--fill-color);\n",
              "    }\n",
              "    80% {\n",
              "      border-color: transparent;\n",
              "      border-right-color: var(--fill-color);\n",
              "      border-bottom-color: var(--fill-color);\n",
              "    }\n",
              "    90% {\n",
              "      border-color: transparent;\n",
              "      border-bottom-color: var(--fill-color);\n",
              "    }\n",
              "  }\n",
              "</style>\n",
              "\n",
              "  <script>\n",
              "    async function quickchart(key) {\n",
              "      const quickchartButtonEl =\n",
              "        document.querySelector('#' + key + ' button');\n",
              "      quickchartButtonEl.disabled = true;  // To prevent multiple clicks.\n",
              "      quickchartButtonEl.classList.add('colab-df-spinner');\n",
              "      try {\n",
              "        const charts = await google.colab.kernel.invokeFunction(\n",
              "            'suggestCharts', [key], {});\n",
              "      } catch (error) {\n",
              "        console.error('Error during call to suggestCharts:', error);\n",
              "      }\n",
              "      quickchartButtonEl.classList.remove('colab-df-spinner');\n",
              "      quickchartButtonEl.classList.add('colab-df-quickchart-complete');\n",
              "    }\n",
              "    (() => {\n",
              "      let quickchartButtonEl =\n",
              "        document.querySelector('#df-e3196658-e87b-4ad1-831a-774977a4c558 button');\n",
              "      quickchartButtonEl.style.display =\n",
              "        google.colab.kernel.accessAllowed ? 'block' : 'none';\n",
              "    })();\n",
              "  </script>\n",
              "</div>\n",
              "\n",
              "  <div id=\"id_903a46a9-76c8-4146-866e-a4402f116577\">\n",
              "    <style>\n",
              "      .colab-df-generate {\n",
              "        background-color: #E8F0FE;\n",
              "        border: none;\n",
              "        border-radius: 50%;\n",
              "        cursor: pointer;\n",
              "        display: none;\n",
              "        fill: #1967D2;\n",
              "        height: 32px;\n",
              "        padding: 0 0 0 0;\n",
              "        width: 32px;\n",
              "      }\n",
              "\n",
              "      .colab-df-generate:hover {\n",
              "        background-color: #E2EBFA;\n",
              "        box-shadow: 0px 1px 2px rgba(60, 64, 67, 0.3), 0px 1px 3px 1px rgba(60, 64, 67, 0.15);\n",
              "        fill: #174EA6;\n",
              "      }\n",
              "\n",
              "      [theme=dark] .colab-df-generate {\n",
              "        background-color: #3B4455;\n",
              "        fill: #D2E3FC;\n",
              "      }\n",
              "\n",
              "      [theme=dark] .colab-df-generate:hover {\n",
              "        background-color: #434B5C;\n",
              "        box-shadow: 0px 1px 3px 1px rgba(0, 0, 0, 0.15);\n",
              "        filter: drop-shadow(0px 1px 2px rgba(0, 0, 0, 0.3));\n",
              "        fill: #FFFFFF;\n",
              "      }\n",
              "    </style>\n",
              "    <button class=\"colab-df-generate\" onclick=\"generateWithVariable('results')\"\n",
              "            title=\"Generate code using this dataframe.\"\n",
              "            style=\"display:none;\">\n",
              "\n",
              "  <svg xmlns=\"http://www.w3.org/2000/svg\" height=\"24px\"viewBox=\"0 0 24 24\"\n",
              "       width=\"24px\">\n",
              "    <path d=\"M7,19H8.4L18.45,9,17,7.55,7,17.6ZM5,21V16.75L18.45,3.32a2,2,0,0,1,2.83,0l1.4,1.43a1.91,1.91,0,0,1,.58,1.4,1.91,1.91,0,0,1-.58,1.4L9.25,21ZM18.45,9,17,7.55Zm-12,3A5.31,5.31,0,0,0,4.9,8.1,5.31,5.31,0,0,0,1,6.5,5.31,5.31,0,0,0,4.9,4.9,5.31,5.31,0,0,0,6.5,1,5.31,5.31,0,0,0,8.1,4.9,5.31,5.31,0,0,0,12,6.5,5.46,5.46,0,0,0,6.5,12Z\"/>\n",
              "  </svg>\n",
              "    </button>\n",
              "    <script>\n",
              "      (() => {\n",
              "      const buttonEl =\n",
              "        document.querySelector('#id_903a46a9-76c8-4146-866e-a4402f116577 button.colab-df-generate');\n",
              "      buttonEl.style.display =\n",
              "        google.colab.kernel.accessAllowed ? 'block' : 'none';\n",
              "\n",
              "      buttonEl.onclick = () => {\n",
              "        google.colab.notebook.generateWithVariable('results');\n",
              "      }\n",
              "      })();\n",
              "    </script>\n",
              "  </div>\n",
              "\n",
              "    </div>\n",
              "  </div>\n"
            ],
            "application/vnd.google.colaboratory.intrinsic+json": {
              "type": "dataframe",
              "variable_name": "results",
              "summary": "{\n  \"name\": \"results\",\n  \"rows\": 2,\n  \"fields\": [\n    {\n      \"column\": \"estimate\",\n      \"properties\": {\n        \"dtype\": \"number\",\n        \"std\": 0.06551517500994282,\n        \"min\": 0.7343761801899151,\n        \"max\": 0.8270286292302231,\n        \"num_unique_values\": 2,\n        \"samples\": [\n          0.8270286292302231,\n          0.7343761801899151\n        ],\n        \"semantic_type\": \"\",\n        \"description\": \"\"\n      }\n    },\n    {\n      \"column\": \"stderr\",\n      \"properties\": {\n        \"dtype\": \"number\",\n        \"std\": 0.10760508434777558,\n        \"min\": 0.17654817505204626,\n        \"max\": 0.32872474471697133,\n        \"num_unique_values\": 2,\n        \"samples\": [\n          0.32872474471697133,\n          0.17654817505204626\n        ],\n        \"semantic_type\": \"\",\n        \"description\": \"\"\n      }\n    },\n    {\n      \"column\": \"lower\",\n      \"properties\": {\n        \"dtype\": \"number\",\n        \"std\": 0.14539079031169733,\n        \"min\": 0.18272812958495932,\n        \"max\": 0.38834175708790447,\n        \"num_unique_values\": 2,\n        \"samples\": [\n          0.18272812958495932,\n          0.38834175708790447\n        ],\n        \"semantic_type\": \"\",\n        \"description\": \"\"\n      }\n    },\n    {\n      \"column\": \"upper\",\n      \"properties\": {\n        \"dtype\": \"number\",\n        \"std\": 0.276421140331583,\n        \"min\": 1.0804106032919258,\n        \"max\": 1.471329128875487,\n        \"num_unique_values\": 2,\n        \"samples\": [\n          1.471329128875487,\n          1.0804106032919258\n        ],\n        \"semantic_type\": \"\",\n        \"description\": \"\"\n      }\n    },\n    {\n      \"column\": \"rmse y\",\n      \"properties\": {\n        \"dtype\": \"number\",\n        \"std\": 0.1052074752890118,\n        \"min\": 0.7699209830516035,\n        \"max\": 0.9187068214683562,\n        \"num_unique_values\": 2,\n        \"samples\": [\n          0.7699209830516035,\n          0.9187068214683562\n        ],\n        \"semantic_type\": \"\",\n        \"description\": \"\"\n      }\n    },\n    {\n      \"column\": \"rmse Z\",\n      \"properties\": {\n        \"dtype\": \"number\",\n        \"std\": 0.033017448015030065,\n        \"min\": 1.0405403342490704,\n        \"max\": 1.0872340570268746,\n        \"num_unique_values\": 2,\n        \"samples\": [\n          1.0405403342490704,\n          1.0872340570268746\n        ],\n        \"semantic_type\": \"\",\n        \"description\": \"\"\n      }\n    },\n    {\n      \"column\": \"rmse D\",\n      \"properties\": {\n        \"dtype\": \"number\",\n        \"std\": 0.18327274520812417,\n        \"min\": 1.3360380219747816,\n        \"max\": 1.5952248238614595,\n        \"num_unique_values\": 2,\n        \"samples\": [\n          1.3360380219747816,\n          1.5952248238614595\n        ],\n        \"semantic_type\": \"\",\n        \"description\": \"\"\n      }\n    }\n  ]\n}"
            }
          },
          "metadata": {},
          "execution_count": 10
        }
      ],
      "source": [
        "results = pd.concat([table_rlasso, table_RF], axis=0)\n",
        "results"
      ]
    },
    {
      "cell_type": "markdown",
      "metadata": {
        "id": "r7l6cFi2zcMA",
        "papermill": {
          "duration": 0.013703,
          "end_time": "2021-04-23T10:42:16.269251",
          "exception": false,
          "start_time": "2021-04-23T10:42:16.255548",
          "status": "completed"
        },
        "tags": []
      },
      "source": [
        "# Weak Instruments?"
      ]
    },
    {
      "cell_type": "code",
      "execution_count": 11,
      "metadata": {
        "id": "rsUnPDfpzcMB",
        "papermill": {
          "duration": 16.107321,
          "end_time": "2021-04-23T10:42:32.390552",
          "exception": false,
          "start_time": "2021-04-23T10:42:16.283231",
          "status": "completed"
        },
        "tags": [],
        "outputId": "59a85cb7-a0d1-4435-a7b1-ba7ea34cab37",
        "colab": {
          "base_uri": "https://localhost:8080/"
        }
      },
      "outputs": [
        {
          "output_type": "stream",
          "name": "stdout",
          "text": [
            "                            OLS Regression Results                            \n",
            "==============================================================================\n",
            "Dep. Variable:                   resD   R-squared:                       0.185\n",
            "Model:                            OLS   Adj. R-squared:                  0.171\n",
            "Method:                 Least Squares   F-statistic:                     8.828\n",
            "Date:                Thu, 06 Feb 2025   Prob (F-statistic):            0.00422\n",
            "Time:                        06:41:01   Log-Likelihood:                -114.17\n",
            "No. Observations:                  64   AIC:                             232.3\n",
            "Df Residuals:                      62   BIC:                             236.7\n",
            "Df Model:                           1                                         \n",
            "Covariance Type:                  HC3                                         \n",
            "==============================================================================\n",
            "                 coef    std err          t      P>|t|      [0.025      0.975]\n",
            "------------------------------------------------------------------------------\n",
            "const         -0.0306      0.187     -0.164      0.870      -0.404       0.343\n",
            "resZ          -0.6308      0.212     -2.971      0.004      -1.055      -0.206\n",
            "==============================================================================\n",
            "Omnibus:                        0.885   Durbin-Watson:                   1.737\n",
            "Prob(Omnibus):                  0.642   Jarque-Bera (JB):                0.980\n",
            "Skew:                          -0.239   Prob(JB):                        0.613\n",
            "Kurtosis:                       2.626   Cond. No.                         1.10\n",
            "==============================================================================\n",
            "\n",
            "Notes:\n",
            "[1] Standard Errors are heteroscedasticity robust (HC3)\n",
            "                            OLS Regression Results                            \n",
            "==============================================================================\n",
            "Dep. Variable:                   resD   R-squared:                       0.074\n",
            "Model:                            OLS   Adj. R-squared:                  0.059\n",
            "Method:                 Least Squares   F-statistic:                     4.579\n",
            "Date:                Thu, 06 Feb 2025   Prob (F-statistic):             0.0363\n",
            "Time:                        06:41:01   Log-Likelihood:                -106.88\n",
            "No. Observations:                  64   AIC:                             217.8\n",
            "Df Residuals:                      62   BIC:                             222.1\n",
            "Df Model:                           1                                         \n",
            "Covariance Type:                  HC3                                         \n",
            "==============================================================================\n",
            "                 coef    std err          t      P>|t|      [0.025      0.975]\n",
            "------------------------------------------------------------------------------\n",
            "const          0.0138      0.167      0.083      0.935      -0.320       0.348\n",
            "resZ          -0.3493      0.163     -2.140      0.036      -0.676      -0.023\n",
            "==============================================================================\n",
            "Omnibus:                        0.302   Durbin-Watson:                   1.698\n",
            "Prob(Omnibus):                  0.860   Jarque-Bera (JB):                0.306\n",
            "Skew:                           0.152   Prob(JB):                        0.858\n",
            "Kurtosis:                       2.851   Cond. No.                         1.07\n",
            "==============================================================================\n",
            "\n",
            "Notes:\n",
            "[1] Standard Errors are heteroscedasticity robust (HC3)\n"
          ]
        }
      ],
      "source": [
        "# Summary for RLasso\n",
        "resy_rlasso, resD_rlasso, resZ_rlasso = res_rlasso[5], res_rlasso[6], res_rlasso[7]\n",
        "# Using HC3 robust standard errors\n",
        "regDZ_rlasso = sm.OLS(resD_rlasso, add_constant(resZ_rlasso)).fit(cov_type='HC3', use_t=True)\n",
        "print(regDZ_rlasso.summary())\n",
        "\n",
        "# Summary for RF\n",
        "resy_RF, resD_RF, resZ_RF = res_RF[5], res_RF[6], res_RF[7]\n",
        "# Using HC3 robust standard errors\n",
        "regDZ_RF = sm.OLS(resD_RF, add_constant(resZ_RF)).fit(cov_type='HC3', use_t=True)\n",
        "print(regDZ_RF.summary())"
      ]
    },
    {
      "cell_type": "markdown",
      "metadata": {
        "id": "L3fDDOmfzcMD",
        "papermill": {
          "duration": 0.015919,
          "end_time": "2021-04-23T10:42:32.423865",
          "exception": false,
          "start_time": "2021-04-23T10:42:32.407946",
          "status": "completed"
        },
        "tags": []
      },
      "source": [
        "## Anderson-Rubin Idea for Inference with Weak Instruments\n",
        "\n",
        "As shown above, we may have weak instruments because the t-stat in the regression $\\tilde D \\sim \\tilde Z$ is small relative to standard rules of thumb -- for example Stock and Yogo (2005) suggest accounting for weak instruments if the first stage F-statistic is less than 10 (and more recent work suggests even larger cutoffs).\n",
        "\n",
        "\n",
        " Here, we consider one specific approach (from Anderson and Rubin (1949)) to doing valid inference under weak identification based upon the statistic:\n",
        "$$\n",
        "C(\\theta) = \\frac{ |E_n [(\\tilde Y -  \\theta  \\tilde D) \\tilde Z]|^2}{ \\mathbb{V}_n [(\\tilde Y -  \\theta \\tilde  D) \\tilde Z ]/n}.\n",
        "$$\n",
        "The empirical variance $\\mathbb{V}_n$ is defined as:\n",
        "\\begin{align*}\n",
        "\\mathbb{V}_{n}[ g(W_i)] &:=   \\mathbb{E}_{n}g(W_i)g(W_i)' - \\mathbb{E}_{n}[ g(W_i)]\\mathbb{E}_{n}[ g(W_i)]'.\n",
        "\\end{align*}\n",
        "\n",
        "If $\\theta_0 = \\theta$, then $C(\\theta) \\overset{a}{\\sim} N(0,1)^2 = \\chi^2(1)$. Therefore,  we can reject the hypothesis $\\theta_0 = \\theta$ at level $a$ (for example $a = .05$ for a 5\\% level test)  if $C(\\theta)> c(1-a)$ where $c(1-a)$ is the $(1-a)$- quantile of a $\\chi^2(1)$ variable.  The probability of falsely rejecting the true hypothesis is approximately $a \\times 100\\%$.  \n",
        "To construct a $(1-a) \\times 100$\\% confidence region for $\\theta$, we can then simply invert the test by collecting all parameter values that are not rejected at the $a$ level:\n",
        "$$\n",
        "CR(\\theta) = \\{ \\theta \\in \\Theta: C(\\theta)  \\leq c(1-a)\\}.\n",
        "$$\n",
        "\n",
        "\n",
        "In more complex settings with many controls or controls that enter with unknown functional form, we can simply replace the residuals $\\tilde Y$, $\\tilde D$, and $\\tilde Z$ by machine\n",
        "learned cross-fitted residuals $\\check Y$, $\\check D$, and $ \\check Z$.  Thanks to the orthogonality of the IV moment condition underlying the formulation outlined above, we can formally assert that the properties of $C(\\theta)$ and the subsequent testing procedure and confidence region for $\\theta$ continue to hold when using cross-fitted residuals. We will further be able to apply the general procedure to cases where $D$\n",
        "is a vector, with a suitable adjustment of the statistic $C(\\theta)$.\n"
      ]
    },
    {
      "cell_type": "markdown",
      "metadata": {
        "id": "PG2tPuFzzcMD",
        "papermill": {
          "duration": 0.015943,
          "end_time": "2021-04-23T10:42:32.455719",
          "exception": false,
          "start_time": "2021-04-23T10:42:32.439776",
          "status": "completed"
        },
        "tags": []
      },
      "source": [
        "So let's carry out DML inference combined with Anderson-Rubin Idea"
      ]
    },
    {
      "cell_type": "code",
      "execution_count": 12,
      "metadata": {
        "id": "6weyaIdJ3pWs"
      },
      "outputs": [],
      "source": [
        "from scipy.stats import chi2\n",
        "\n",
        "\n",
        "def DML_AR_PLIV(rY, rD, rZ, grid, alpha=0.05):\n",
        "    n = len(rY)\n",
        "    Cstat = np.zeros(len(grid))\n",
        "\n",
        "    for i in range(len(grid)):\n",
        "        term1 = (rY - grid[i] * rD) * rZ\n",
        "        Cstat[i] = n * (np.mean(term1))**2 / np.var(term1)\n",
        "\n",
        "    Cstat = np.nan_to_num(Cstat)  # Replace any NaNs with zeros\n",
        "\n",
        "    lower_bound = min(grid[Cstat < chi2.ppf(1 - alpha, 1)])\n",
        "    upper_bound = max(grid[Cstat < chi2.ppf(1 - alpha, 1)])\n",
        "\n",
        "    plt.plot(grid, Cstat, linestyle='-', color='black')\n",
        "    plt.axhline(y=chi2.ppf(1 - alpha, 1), linestyle='--', color='blue')\n",
        "    plt.axvline(x=lower_bound, linestyle='--', color='red')\n",
        "    plt.axvline(x=upper_bound, linestyle='--', color='red')\n",
        "    plt.xlabel('Effect of institutions')\n",
        "    plt.ylabel('Statistic')\n",
        "    plt.title('')\n",
        "    plt.show()\n",
        "\n",
        "    return {'UB': upper_bound, 'LB': lower_bound}"
      ]
    },
    {
      "cell_type": "code",
      "execution_count": 13,
      "metadata": {
        "id": "k9bB2O13zcME",
        "papermill": {
          "duration": 0.478528,
          "end_time": "2021-04-23T10:42:33.002469",
          "exception": false,
          "start_time": "2021-04-23T10:42:32.523941",
          "status": "completed"
        },
        "tags": [],
        "outputId": "b4f06c9f-3cf2-4d23-f1c9-7d2d505f9553",
        "colab": {
          "base_uri": "https://localhost:8080/",
          "height": 917
        }
      },
      "outputs": [
        {
          "output_type": "display_data",
          "data": {
            "text/plain": [
              "<Figure size 640x480 with 1 Axes>"
            ],
            "image/png": "[encoded data removed]"
          },
          "metadata": {}
        },
        {
          "output_type": "stream",
          "name": "stdout",
          "text": [
            "RLasso UB and LB:  {'UB': 1.6200000000000032, 'LB': 0.4700000000000024}\n"
          ]
        },
        {
          "output_type": "display_data",
          "data": {
            "text/plain": [
              "<Figure size 640x480 with 1 Axes>"
            ],
            "image/png": "[encoded data removed]"
          },
          "metadata": {}
        },
        {
          "output_type": "stream",
          "name": "stdout",
          "text": [
            "RF UB and LB:  {'UB': 1.9900000000000038, 'LB': 0.3500000000000023}\n"
          ]
        }
      ],
      "source": [
        "# Using RLasso\n",
        "dml_ar_rlasso = DML_AR_PLIV(rY=resy_rlasso, rD=resD_rlasso, rZ=resZ_rlasso, grid=np.arange(-2, 2, 0.01))\n",
        "print(\"RLasso UB and LB: \", dml_ar_rlasso)\n",
        "# Using RF\n",
        "dml_ar_RF = DML_AR_PLIV(rY=resy_RF, rD=resD_RF, rZ=resZ_RF, grid=np.arange(-2, 2, 0.01))\n",
        "print(\"RF UB and LB: \", dml_ar_RF)"
      ]
    }
  ],
  "metadata": {
    "colab": {
      "provenance": []
    },
    "kernelspec": {
      "display_name": "Python 3 (ipykernel)",
      "language": "python",
      "name": "python3"
    },
    "language_info": {
      "codemirror_mode": {
        "name": "ipython",
        "version": 3
      },
      "file_extension": ".py",
      "mimetype": "text/x-python",
      "name": "python",
      "nbconvert_exporter": "python",
      "pygments_lexer": "ipython3",
      "version": "3.11.5"
    },
    "papermill": {
      "duration": 62.79319,
      "end_time": "2021-04-23T10:42:34.038582",
      "environment_variables": {},
      "exception": null,
      "input_path": "__notebook__.ipynb",
      "output_path": "__notebook__.ipynb",
      "parameters": {},
      "start_time": "2021-04-23T10:41:31.245392",
      "version": "2.1.3"
    }
  },
  "nbformat": 4,
  "nbformat_minor": 0
}