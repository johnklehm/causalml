{
 "cells": [
  {
   "cell_type": "markdown",
   "metadata": {
    "id": "nBty5iAb_VyE"
   },
   "source": [
    "# A Simple Example of Properties of IV estimator when Instruments are Weak"
   ]
  },
  {
   "cell_type": "code",
   "metadata": {
    "id": "atRvUXGn_VFW",
    "ExecuteTime": {
     "end_time": "2025-02-06T07:19:15.543435Z",
     "start_time": "2025-02-06T07:19:13.288816Z"
    }
   },
   "source": [
    "import numpy as np\n",
    "from scipy.stats import norm\n",
    "from scipy.stats import gaussian_kde\n",
    "import statsmodels.api as sm\n",
    "from statsmodels.sandbox.regression.gmm import IV2SLS\n",
    "import matplotlib.pyplot as plt"
   ],
   "outputs": [],
   "execution_count": 1
  },
  {
   "cell_type": "markdown",
   "metadata": {
    "id": "wLevLetuBzrs"
   },
   "source": [
    "Simulation Design"
   ]
  },
  {
   "cell_type": "code",
   "metadata": {
    "id": "7oacBDrQB1AU",
    "outputId": "59163f1d-9ecb-4b8f-83b0-4b75b9b86e19",
    "colab": {
     "base_uri": "https://localhost:8080/"
    },
    "ExecuteTime": {
     "end_time": "2025-02-06T07:19:15.565154Z",
     "start_time": "2025-02-06T07:19:15.550918Z"
    }
   },
   "source": [
    "np.random.seed(123)\n",
    "\n",
    "n = 100\n",
    "beta = 0.1  # 0.1 weak IV\n",
    "# beta = 1  # 1 strong IV\n",
    "\n",
    "# One realization\n",
    "U = norm.rvs(size=n)\n",
    "Z = norm.rvs(size=n)  # generate instrument\n",
    "D = beta * Z + U      # generate endogenous variable\n",
    "Y = D + U             # the true causal effect is 1\n",
    "\n",
    "# First stage regression\n",
    "Z1 = sm.add_constant(Z)\n",
    "model_first_stage = sm.OLS(D, Z1)\n",
    "results_first_stage = model_first_stage.fit()\n",
    "print(results_first_stage.summary())  # first stage is very weak here when we set beta = .1\n",
    "\n",
    "# IV regression\n",
    "D1 = sm.add_constant(D)\n",
    "model_iv = IV2SLS(Y, D1, Z1)\n",
    "results_iv = model_iv.fit()\n",
    "print(results_iv.summary())"
   ],
   "outputs": [
    {
     "name": "stdout",
     "output_type": "stream",
     "text": [
      "                            OLS Regression Results                            \n",
      "==============================================================================\n",
      "Dep. Variable:                      y   R-squared:                       0.004\n",
      "Model:                            OLS   Adj. R-squared:                 -0.006\n",
      "Method:                 Least Squares   F-statistic:                    0.4359\n",
      "Date:                Thu, 06 Feb 2025   Prob (F-statistic):              0.511\n",
      "Time:                        01:19:15   Log-Likelihood:                -153.94\n",
      "No. Observations:                 100   AIC:                             311.9\n",
      "Df Residuals:                      98   BIC:                             317.1\n",
      "Df Model:                           1                                         \n",
      "Covariance Type:            nonrobust                                         \n",
      "==============================================================================\n",
      "                 coef    std err          t      P>|t|      [0.025      0.975]\n",
      "------------------------------------------------------------------------------\n",
      "const          0.0267      0.114      0.234      0.815      -0.200       0.253\n",
      "x1             0.0776      0.117      0.660      0.511      -0.156       0.311\n",
      "==============================================================================\n",
      "Omnibus:                        2.692   Durbin-Watson:                   1.964\n",
      "Prob(Omnibus):                  0.260   Jarque-Bera (JB):                1.720\n",
      "Skew:                           0.030   Prob(JB):                        0.423\n",
      "Kurtosis:                       2.360   Cond. No.                         1.04\n",
      "==============================================================================\n",
      "\n",
      "Notes:\n",
      "[1] Standard Errors assume that the covariance matrix of the errors is correctly specified.\n",
      "                          IV2SLS Regression Results                           \n",
      "==============================================================================\n",
      "Dep. Variable:                      y   R-squared:                       0.585\n",
      "Model:                         IV2SLS   Adj. R-squared:                  0.580\n",
      "Method:                     Two Stage   F-statistic:                    0.1324\n",
      "                        Least Squares   Prob (F-statistic):              0.717\n",
      "Date:                Thu, 06 Feb 2025                                         \n",
      "Time:                        01:19:15                                         \n",
      "No. Observations:                 100                                         \n",
      "Df Residuals:                      98                                         \n",
      "Df Model:                           1                                         \n",
      "==============================================================================\n",
      "                 coef    std err          t      P>|t|      [0.025      0.975]\n",
      "------------------------------------------------------------------------------\n",
      "const          0.0344      0.155      0.222      0.825      -0.273       0.342\n",
      "x1             0.7106      1.953      0.364      0.717      -3.165       4.586\n",
      "==============================================================================\n",
      "Omnibus:                        2.692   Durbin-Watson:                   1.964\n",
      "Prob(Omnibus):                  0.260   Jarque-Bera (JB):                1.720\n",
      "Skew:                           0.030   Prob(JB):                        0.423\n",
      "Kurtosis:                       2.360   Cond. No.                         1.13\n",
      "==============================================================================\n"
     ]
    }
   ],
   "execution_count": 2
  },
  {
   "cell_type": "markdown",
   "metadata": {
    "id": "-Y7yS_mvGyt9"
   },
   "source": [
    "Note that the instrument is weak here (strength of the instrument is controlled by setting $\\beta$) -- the t-stat is smaller than any rule-of-thumb suggested in the literature (e.g. $\\sqrt{10}$) ."
   ]
  },
  {
   "cell_type": "markdown",
   "metadata": {
    "id": "f4wBKUdTG0O2"
   },
   "source": [
    "# Run 10000 trials to evaluate distribution of the IV estimator"
   ]
  },
  {
   "cell_type": "code",
   "metadata": {
    "id": "el9qoJqbG258",
    "ExecuteTime": {
     "end_time": "2025-02-06T07:19:17.327977Z",
     "start_time": "2025-02-06T07:19:15.648654Z"
    }
   },
   "source": [
    "np.random.seed(123)\n",
    "\n",
    "B = 10000  # trials\n",
    "IVEst = np.zeros(B)\n",
    "\n",
    "for i in range(B):\n",
    "    U = norm.rvs(size=n)\n",
    "    Z = norm.rvs(size=n)  # generate instrument\n",
    "    D = beta * Z + U  # generate endogenous variable\n",
    "    Y = D + U  # the true causal effect is 1\n",
    "\n",
    "    # IV regression\n",
    "    model_iv = IV2SLS(Y, D, Z)\n",
    "    results_iv = model_iv.fit()\n",
    "    IVEst[i] = results_iv.params[0]  # Coefficient of D"
   ],
   "outputs": [],
   "execution_count": 3
  },
  {
   "cell_type": "markdown",
   "metadata": {
    "id": "aXLgc8TkIzYf"
   },
   "source": [
    "# Plot the Actual Distribution against the Normal Approximation (based on Strong Instrument Assumption)"
   ]
  },
  {
   "cell_type": "code",
   "metadata": {
    "id": "DDr-glMeI2Fk",
    "outputId": "f819679b-ee6f-43e9-b2e7-675cab70bfe7",
    "colab": {
     "base_uri": "https://localhost:8080/",
     "height": 582
    },
    "ExecuteTime": {
     "end_time": "2025-02-06T07:19:17.464708Z",
     "start_time": "2025-02-06T07:19:17.335961Z"
    }
   },
   "source": [
    "# Plotting the density of IVEst\n",
    "plt.figure(figsize=(8, 6))\n",
    "plt.xlim(-5, 5)\n",
    "plt.xlabel(\"IV Estimator - True Effect\")\n",
    "plt.title(\"Actual Distribution vs Gaussian\")\n",
    "\n",
    "# Plotting density estimate of simulated IV coefficients\n",
    "val = np.linspace(-5, 5, 200)\n",
    "kde = gaussian_kde(IVEst - 1, bw_method=.001)  # Need to play with bandwidth depending on problem features.\n",
    "density = kde(np.linspace(-5, 5, 1000))\n",
    "plt.plot(np.linspace(-5, 5, 1000), density, color='blue', label='Actual Distribution')\n",
    "\n",
    "# Plotting Gaussian distribution\n",
    "var = (1 / (beta ** 2)) * (1 / n)  # theoretical variance of IV\n",
    "sd = np.sqrt(var)\n",
    "gaussian = norm.pdf(val, scale=sd)\n",
    "plt.plot(val, gaussian, color='red', linestyle='--', label='Gaussian Distribution')\n",
    "\n",
    "plt.legend()\n",
    "\n",
    "# Calculating rejection frequency\n",
    "rejection_frequency = np.sum(np.abs(IVEst - 1) / sd > 1.96) / B\n",
    "print(\"Rejection Frequency is\", rejection_frequency, \"while we expect it to be around 0.05\")\n",
    "\n",
    "plt.show()"
   ],
   "outputs": [
    {
     "name": "stdout",
     "output_type": "stream",
     "text": [
      "Rejection Frequency is 0.2356 while we expect it to be around 0.05\n"
     ]
    },
    {
     "data": {
      "text/plain": [
       "<Figure size 800x600 with 1 Axes>"
      ],
      "image/png": "[encoded data removed]"
     },
     "metadata": {},
     "output_type": "display_data"
    }
   ],
   "execution_count": 4
  },
  {
   "cell_type": "code",
   "metadata": {
    "id": "b99-vv6x-2BR",
    "ExecuteTime": {
     "end_time": "2025-02-06T07:19:17.475709Z",
     "start_time": "2025-02-06T07:19:17.474229Z"
    }
   },
   "source": [],
   "outputs": [],
   "execution_count": null
  }
 ],
 "metadata": {
  "colab": {
   "provenance": []
  },
  "kernelspec": {
   "display_name": "Python 3 (ipykernel)",
   "language": "python",
   "name": "python3"
  },
  "language_info": {
   "codemirror_mode": {
    "name": "ipython",
    "version": 3
   },
   "file_extension": ".py",
   "mimetype": "text/x-python",
   "name": "python",
   "nbconvert_exporter": "python",
   "pygments_lexer": "ipython3",
   "version": "3.11.5"
  }
 },
 "nbformat": 4,
 "nbformat_minor": 0
}
